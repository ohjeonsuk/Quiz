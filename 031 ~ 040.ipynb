{
 "cells": [
  {
   "cell_type": "code",
   "execution_count": 2,
   "id": "d90a4a61",
   "metadata": {},
   "outputs": [
    {
     "name": "stdout",
     "output_type": "stream",
     "text": [
      "34\n"
     ]
    }
   ],
   "source": [
    "a = \"3\"\n",
    "b = \"4\"\n",
    "print(a + b)"
   ]
  },
  {
   "cell_type": "code",
   "execution_count": 3,
   "id": "8a4cd051",
   "metadata": {},
   "outputs": [
    {
     "name": "stdout",
     "output_type": "stream",
     "text": [
      "HiHiHi\n"
     ]
    }
   ],
   "source": [
    "print(\"Hi\" * 3)"
   ]
  },
  {
   "cell_type": "code",
   "execution_count": 4,
   "id": "0616dfec",
   "metadata": {},
   "outputs": [
    {
     "name": "stdout",
     "output_type": "stream",
     "text": [
      "--------------------------------------------------------------------------------\n"
     ]
    }
   ],
   "source": [
    "print(\"-\" * 80)"
   ]
  },
  {
   "cell_type": "code",
   "execution_count": 5,
   "id": "17120496",
   "metadata": {},
   "outputs": [
    {
     "name": "stdout",
     "output_type": "stream",
     "text": [
      "python java python java python java python java \n"
     ]
    }
   ],
   "source": [
    "t1 = \"python\"\n",
    "t2 = \"java\"\n",
    "t3 = t1 + ' ' + t2 + ' '\n",
    "print(t3 * 4)"
   ]
  },
  {
   "cell_type": "code",
   "execution_count": 6,
   "id": "bb0aaade",
   "metadata": {},
   "outputs": [
    {
     "name": "stdout",
     "output_type": "stream",
     "text": [
      "이름: 김민수 나이: 10\n",
      "이름: 이철희 나이: 13\n"
     ]
    }
   ],
   "source": [
    "name1 = \"김민수\" \n",
    "age1 = 10\n",
    "name2 = \"이철희\"\n",
    "age2 = 13\n",
    "print(\"이름: %s 나이: %d\" % (name1, age1))\n",
    "print(\"이름: %s 나이: %d\" % (name2, age2))"
   ]
  },
  {
   "cell_type": "code",
   "execution_count": 7,
   "id": "025af0f2",
   "metadata": {},
   "outputs": [
    {
     "name": "stdout",
     "output_type": "stream",
     "text": [
      "이름: 김민수 나이: 10\n",
      "이름: 이철희 나이: 13\n"
     ]
    }
   ],
   "source": [
    "name1 = \"김민수\" \n",
    "age1 = 10\n",
    "name2 = \"이철희\"\n",
    "age2 = 13\n",
    "print(\"이름: {} 나이: {}\".format(name1, age1))\n",
    "print(\"이름: {} 나이: {}\".format(name2, age2))"
   ]
  },
  {
   "cell_type": "code",
   "execution_count": 8,
   "id": "cb267039",
   "metadata": {},
   "outputs": [
    {
     "name": "stdout",
     "output_type": "stream",
     "text": [
      "이름: 김민수 나이: 10\n",
      "이름: 이철희 나이: 13\n"
     ]
    }
   ],
   "source": [
    "name1 = \"김민수\" \n",
    "age1 = 10\n",
    "name2 = \"이철희\"\n",
    "age2 = 13\n",
    "print(f\"이름: {name1} 나이: {age1}\")\n",
    "print(f\"이름: {name2} 나이: {age2}\")"
   ]
  },
  {
   "cell_type": "code",
   "execution_count": 9,
   "id": "dc84a39b",
   "metadata": {},
   "outputs": [
    {
     "name": "stdout",
     "output_type": "stream",
     "text": [
      "5969782550 <class 'int'>\n"
     ]
    }
   ],
   "source": [
    "상장주식수 = \"5,969,782,550\"\n",
    "컴마제거 = 상장주식수.replace(\",\", \"\")\n",
    "타입변환 = int(컴마제거)\n",
    "print(타입변환, type(타입변환))"
   ]
  },
  {
   "cell_type": "code",
   "execution_count": 10,
   "id": "ee27ff91",
   "metadata": {},
   "outputs": [
    {
     "name": "stdout",
     "output_type": "stream",
     "text": [
      "2020/03\n"
     ]
    }
   ],
   "source": [
    "분기 = \"2020/03(E) (IFRS연결)\"\n",
    "print(분기[:7])"
   ]
  },
  {
   "cell_type": "code",
   "execution_count": 11,
   "id": "215650be",
   "metadata": {},
   "outputs": [
    {
     "name": "stdout",
     "output_type": "stream",
     "text": [
      "삼성전자\n"
     ]
    }
   ],
   "source": [
    "data = \"   삼성전자    \"\n",
    "data1 = data.strip()\n",
    "print(data1)"
   ]
  }
 ],
 "metadata": {
  "kernelspec": {
   "display_name": "Python 3 (ipykernel)",
   "language": "python",
   "name": "python3"
  },
  "language_info": {
   "codemirror_mode": {
    "name": "ipython",
    "version": 3
   },
   "file_extension": ".py",
   "mimetype": "text/x-python",
   "name": "python",
   "nbconvert_exporter": "python",
   "pygments_lexer": "ipython3",
   "version": "3.9.7"
  }
 },
 "nbformat": 4,
 "nbformat_minor": 5
}
