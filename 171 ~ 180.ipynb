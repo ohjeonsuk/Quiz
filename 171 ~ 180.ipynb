{
 "cells": [
  {
   "cell_type": "code",
   "execution_count": 2,
   "id": "2a8c1928",
   "metadata": {},
   "outputs": [
    {
     "name": "stdout",
     "output_type": "stream",
     "text": [
      "32100\n",
      "32150\n",
      "32000\n",
      "32500\n"
     ]
    }
   ],
   "source": [
    "price_list = [32100, 32150, 32000, 32500]\n",
    "for i in range(len(price_list)):\n",
    "    print(price_list[i])"
   ]
  },
  {
   "cell_type": "code",
   "execution_count": 3,
   "id": "a0c384a7",
   "metadata": {},
   "outputs": [
    {
     "name": "stdout",
     "output_type": "stream",
     "text": [
      "0 32100\n",
      "1 32150\n",
      "2 32000\n",
      "3 32500\n"
     ]
    }
   ],
   "source": [
    "price_list = [32100, 32150, 32000, 32500]\n",
    "for i, data in enumerate(price_list):\n",
    "    print(i, data)"
   ]
  },
  {
   "cell_type": "code",
   "execution_count": 4,
   "id": "3529df0e",
   "metadata": {},
   "outputs": [
    {
     "name": "stdout",
     "output_type": "stream",
     "text": [
      "3 32100\n",
      "2 32150\n",
      "1 32000\n",
      "0 32500\n"
     ]
    }
   ],
   "source": [
    "price_list = [32100, 32150, 32000, 32500]\n",
    "for i in range(len(price_list)):\n",
    "    print((len(price_list) - 1) - i, price_list[i])"
   ]
  },
  {
   "cell_type": "code",
   "execution_count": 5,
   "id": "f54e0b6f",
   "metadata": {},
   "outputs": [
    {
     "name": "stdout",
     "output_type": "stream",
     "text": [
      "100 32150\n",
      "110 32000\n",
      "120 32500\n"
     ]
    }
   ],
   "source": [
    "price_list = [32100, 32150, 32000, 32500]\n",
    "for i in range(1, 4):\n",
    "    print(90 + 10 * i, price_list[i])"
   ]
  },
  {
   "cell_type": "code",
   "execution_count": 6,
   "id": "607ca428",
   "metadata": {},
   "outputs": [
    {
     "name": "stdout",
     "output_type": "stream",
     "text": [
      "가 나\n",
      "나 다\n",
      "다 라\n"
     ]
    }
   ],
   "source": [
    "my_list = [\"가\", \"나\", \"다\", \"라\"]\n",
    "for i in range( len(my_list) - 1 ) :\n",
    "  print(my_list[i], my_list[i+1])"
   ]
  },
  {
   "cell_type": "code",
   "execution_count": 7,
   "id": "928ff010",
   "metadata": {},
   "outputs": [
    {
     "name": "stdout",
     "output_type": "stream",
     "text": [
      "가 나 다\n",
      "나 다 라\n",
      "다 라 마\n"
     ]
    }
   ],
   "source": [
    "my_list = [\"가\", \"나\", \"다\", \"라\", \"마\"]\n",
    "for i in range( len(my_list) - 2 ):\n",
    "    print(my_list[i], my_list[i+1], my_list[i+2])"
   ]
  },
  {
   "cell_type": "code",
   "execution_count": 8,
   "id": "c9933cc2",
   "metadata": {},
   "outputs": [
    {
     "name": "stdout",
     "output_type": "stream",
     "text": [
      "라 다\n",
      "다 나\n",
      "나 가\n"
     ]
    }
   ],
   "source": [
    "my_list = [\"가\", \"나\", \"다\", \"라\"]\n",
    "for i in range(len(my_list) - 1, 0, -1):\n",
    "    print(my_list[i], my_list[i-1])"
   ]
  },
  {
   "cell_type": "code",
   "execution_count": 9,
   "id": "680a6a42",
   "metadata": {},
   "outputs": [
    {
     "name": "stdout",
     "output_type": "stream",
     "text": [
      "100\n",
      "200\n",
      "400\n"
     ]
    }
   ],
   "source": [
    "my_list = [100, 200, 400, 800]\n",
    "for i in range(len(my_list) - 1):\n",
    "    print(abs(my_list[i+1] - my_list[i]))"
   ]
  },
  {
   "cell_type": "code",
   "execution_count": 10,
   "id": "bb014c5b",
   "metadata": {},
   "outputs": [
    {
     "name": "stdout",
     "output_type": "stream",
     "text": [
      "233.33333333333334\n",
      "466.6666666666667\n",
      "733.3333333333334\n",
      "1033.3333333333333\n"
     ]
    }
   ],
   "source": [
    "my_list = [100, 200, 400, 800, 1000, 1300]\n",
    "for i in range(1, len(my_list) - 1):\n",
    "    print(abs(my_list[i-1] + my_list[i] + my_list[i+1]) / 3)"
   ]
  },
  {
   "cell_type": "code",
   "execution_count": 11,
   "id": "3a1bd4e1",
   "metadata": {},
   "outputs": [],
   "source": [
    "low_prices  = [100, 200, 400, 800, 1000]\n",
    "high_prices = [150, 300, 430, 880, 1000]\n",
    "volatility = []\n",
    "for i in range(len(low_prices)) :\n",
    "    volatility.append(high_prices[i] - low_prices[i])"
   ]
  }
 ],
 "metadata": {
  "kernelspec": {
   "display_name": "Python 3 (ipykernel)",
   "language": "python",
   "name": "python3"
  },
  "language_info": {
   "codemirror_mode": {
    "name": "ipython",
    "version": 3
   },
   "file_extension": ".py",
   "mimetype": "text/x-python",
   "name": "python",
   "nbconvert_exporter": "python",
   "pygments_lexer": "ipython3",
   "version": "3.9.7"
  }
 },
 "nbformat": 4,
 "nbformat_minor": 5
}
