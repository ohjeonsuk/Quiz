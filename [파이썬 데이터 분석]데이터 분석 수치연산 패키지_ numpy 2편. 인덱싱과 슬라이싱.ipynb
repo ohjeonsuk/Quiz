{
 "cells": [
  {
   "cell_type": "code",
   "execution_count": 20,
   "id": "a98fb551",
   "metadata": {},
   "outputs": [
    {
     "name": "stdout",
     "output_type": "stream",
     "text": [
      "3\n",
      "7\n"
     ]
    }
   ],
   "source": [
    "arr_list = [[1,2,3],[4,5,6],[7,8,9]]\n",
    "print(arr_list[0][2]) # 리스트의 0번 인덱스 안의 2번 인덱스\n",
    "print(arr_list[2][0]) # 리스트의 2번 인덱스 안의 0번 인덱스"
   ]
  },
  {
   "cell_type": "code",
   "execution_count": 37,
   "id": "c7f72848",
   "metadata": {},
   "outputs": [
    {
     "name": "stdout",
     "output_type": "stream",
     "text": [
      "[7 8]\n",
      "[[1 2]\n",
      " [4 5]]\n"
     ]
    }
   ],
   "source": [
    "arr_2d = np.array([[1,2,3],[4,5,6],[7,8,9]])\n",
    "\n",
    "# 1행, 3열  --> 3\n",
    "arr_2d[0,2]\n",
    "\n",
    "# 3행, 1열  --> 7\n",
    "arr_2d[2,0]\n",
    "\n",
    "# 2행 모두  --> array([4,5,6])\n",
    "arr_2d[1, :]\n",
    "\n",
    "# 1열 모두 --> array([1,4,7])\n",
    "arr_2d[:, 0]\n",
    "\n",
    "# 3행의 1,2열 --> array([4,5])\n",
    "print(arr_2d[2,0:2])\n",
    "\n",
    "# 1,2행의 1,2열 --> array([1,2],[4,5])\n",
    "print(arr_2d[0:2,0:2])"
   ]
  },
  {
   "cell_type": "code",
   "execution_count": 40,
   "id": "a929fabf",
   "metadata": {},
   "outputs": [
    {
     "data": {
      "text/plain": [
       "array([10, 30, 50])"
      ]
     },
     "execution_count": 40,
     "metadata": {},
     "output_type": "execute_result"
    }
   ],
   "source": [
    "arr = np.array([10,20,30,40,50])\n",
    "\n",
    "# 보통 인덱싱\n",
    "arr[1]\n",
    "\n",
    "# 팬시 인덱싱\n",
    "arr[[0,2,4]]"
   ]
  },
  {
   "cell_type": "code",
   "execution_count": 46,
   "id": "a7e53130",
   "metadata": {},
   "outputs": [
    {
     "data": {
      "text/plain": [
       "array([6, 7, 8, 9])"
      ]
     },
     "execution_count": 46,
     "metadata": {},
     "output_type": "execute_result"
    }
   ],
   "source": [
    "arr_2d = numpy.array([[1,2,3],[4,5,6],[7,8,9]])\n",
    "\n",
    "arr_2d\n",
    "\n",
    "# Boolean indexing\n",
    "\n",
    "arr_2d > 2\n",
    "\n",
    "# Boolean indexing 사용법\n",
    "\n",
    "arr_2d[arr_2d > 5]"
   ]
  }
 ],
 "metadata": {
  "kernelspec": {
   "display_name": "Python 3 (ipykernel)",
   "language": "python",
   "name": "python3"
  },
  "language_info": {
   "codemirror_mode": {
    "name": "ipython",
    "version": 3
   },
   "file_extension": ".py",
   "mimetype": "text/x-python",
   "name": "python",
   "nbconvert_exporter": "python",
   "pygments_lexer": "ipython3",
   "version": "3.9.7"
  }
 },
 "nbformat": 4,
 "nbformat_minor": 5
}
