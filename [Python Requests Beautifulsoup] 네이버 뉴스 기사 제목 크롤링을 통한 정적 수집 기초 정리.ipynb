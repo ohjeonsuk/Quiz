{
 "cells": [
  {
   "cell_type": "code",
   "execution_count": 1,
   "id": "4221f482",
   "metadata": {},
   "outputs": [
    {
     "name": "stdout",
     "output_type": "stream",
     "text": [
      "검색할 키워드를 입력하세요: 코로나\n",
      "병무청, 6월 20일 병력동원훈련 시작…코로나로 축소 시행\n",
      "병무청, 6월 20일 병력동원훈련 시작…코로나로 축소 시행\n",
      "‘코로나 확진, 정말일까?’…인권위 “재검사 지침 명확해야”\n",
      "신한금투, 코로나 학번 이야기 담은 '응원하기 캠페인' 네 번째 영상 공개\n",
      "WHO 사무총장 “코로나19 팬데믹 끝난 게 아니다”\n",
      "제넨셀, 개발중 코로나치료제 UAE 제약사에 판권 이전\n",
      "코로나 신규확진 9975명…4개월 만에 1만명 아래로\n",
      "\"원숭이두창 치명률 코로나 30배\"…국내 들어올 가능성은?\n",
      "코로나19 확진자 118일 만에 1만명 아래로(종합)\n",
      "코로나19 신규 확진자 118일만에 1만명 아래로\n",
      "코로나 신규 확진자, 118일 만에 1만명 밑으로\n"
     ]
    }
   ],
   "source": [
    "#step1.프로젝트에 필요한 패키지 불러온다.\n",
    "from bs4 import BeautifulSoup as bs\n",
    "import requests\n",
    "\n",
    "#step2.크롤링할 url 주소를 입력한다. (네이버에서 코로나 검색 후, 뉴스 탭 클릭)\n",
    "url = 'https://search.naver.com/search.naver?where=news&sm=tab_jum&query=코로나'\n",
    "\n",
    "#step2-1.만약 다른 키워드를 매번 다르게 입력하고 싶다면 아래와 같이 하셔도 됩니다.\n",
    "query = input('검색할 키워드를 입력하세요: ')\n",
    "url = 'https://search.naver.com/search.naver?where=news&sm=tab_jum&query='+'%s'%query\n",
    "\n",
    "#step3.requests 패키지의 함수를 이용해 url의 html 문서를 가져온다.\n",
    "response = requests.get(url)\n",
    "html_text=response.text\n",
    "\n",
    "#step4.bs4 패키지의 함수를 이용해서 html 문서를 파싱한다.\n",
    "soup = bs(html_text, 'html.parser')\n",
    "\n",
    "#step5.bs4 패키지의 select_one 함수와 선택자 개념을 이용해서 뉴스기사 제목을 하나 가져온다.\n",
    "print(soup.select_one('a.news_tit').get_text())\n",
    "\n",
    "#step6.bs4 패키지의 select 함수와 선택자 개념을 이용해서 뉴스기사 제목을 모두 가져온다.\n",
    "titles = soup.select('a.news_tit')\n",
    "\n",
    "for i in titles:\n",
    "    title = i.get_text()\n",
    "    print(title)"
   ]
  },
  {
   "cell_type": "code",
   "execution_count": 2,
   "id": "d5db97c4",
   "metadata": {},
   "outputs": [
    {
     "name": "stdout",
     "output_type": "stream",
     "text": [
      "병무청, 6월 20일 병력동원훈련 시작…코로나로 축소 시행\n"
     ]
    }
   ],
   "source": [
    "print(soup.select_one('a.news_tit').get_text())"
   ]
  },
  {
   "cell_type": "code",
   "execution_count": 3,
   "id": "fdabfc1a",
   "metadata": {},
   "outputs": [
    {
     "name": "stdout",
     "output_type": "stream",
     "text": [
      "병무청, 6월 20일 병력동원훈련 시작…코로나로 축소 시행\n",
      "‘코로나 확진, 정말일까?’…인권위 “재검사 지침 명확해야”\n",
      "신한금투, 코로나 학번 이야기 담은 '응원하기 캠페인' 네 번째 영상 공개\n",
      "WHO 사무총장 “코로나19 팬데믹 끝난 게 아니다”\n",
      "제넨셀, 개발중 코로나치료제 UAE 제약사에 판권 이전\n",
      "코로나 신규확진 9975명…4개월 만에 1만명 아래로\n",
      "\"원숭이두창 치명률 코로나 30배\"…국내 들어올 가능성은?\n",
      "코로나19 확진자 118일 만에 1만명 아래로(종합)\n",
      "코로나19 신규 확진자 118일만에 1만명 아래로\n",
      "코로나 신규 확진자, 118일 만에 1만명 밑으로\n"
     ]
    }
   ],
   "source": [
    "titles = soup.select('a.news_tit')\n",
    "\n",
    "for i in titles:\n",
    "    title = i.get_text()\n",
    "    print(title)"
   ]
  }
 ],
 "metadata": {
  "kernelspec": {
   "display_name": "Python 3 (ipykernel)",
   "language": "python",
   "name": "python3"
  },
  "language_info": {
   "codemirror_mode": {
    "name": "ipython",
    "version": 3
   },
   "file_extension": ".py",
   "mimetype": "text/x-python",
   "name": "python",
   "nbconvert_exporter": "python",
   "pygments_lexer": "ipython3",
   "version": "3.9.7"
  }
 },
 "nbformat": 4,
 "nbformat_minor": 5
}
