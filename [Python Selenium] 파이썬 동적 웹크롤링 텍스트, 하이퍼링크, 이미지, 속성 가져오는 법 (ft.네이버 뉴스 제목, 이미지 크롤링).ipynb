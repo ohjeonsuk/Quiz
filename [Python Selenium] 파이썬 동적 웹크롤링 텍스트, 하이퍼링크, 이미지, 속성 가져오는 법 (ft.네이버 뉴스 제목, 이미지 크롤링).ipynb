{
 "cells": [
  {
   "cell_type": "code",
   "execution_count": 3,
   "id": "d70aac62",
   "metadata": {},
   "outputs": [
    {
     "name": "stdout",
     "output_type": "stream",
     "text": [
      "검색할 키워드를 입력하세요: 코로나\n"
     ]
    },
    {
     "name": "stderr",
     "output_type": "stream",
     "text": [
      "C:\\Users\\usn14\\AppData\\Local\\Temp/ipykernel_10844/1616235069.py:11: DeprecationWarning: executable_path has been deprecated, please pass in a Service object\n",
      "  driver = webdriver.Chrome('C:/Users/usn14/OneDrive/바탕 화면/chromedriver.exe')\n",
      "C:\\Users\\usn14\\AppData\\Local\\Temp/ipykernel_10844/1616235069.py:16: DeprecationWarning: find_element_by_* commands are deprecated. Please use find_element() instead\n",
      "  search_box = driver.find_element_by_css_selector(\"input#query\")\n",
      "C:\\Users\\usn14\\AppData\\Local\\Temp/ipykernel_10844/1616235069.py:22: DeprecationWarning: find_element_by_* commands are deprecated. Please use find_element() instead\n",
      "  driver.find_element_by_xpath('//*[@id=\"lnb\"]/div[1]/div/ul/li[2]/a').click()\n"
     ]
    }
   ],
   "source": [
    "#step1.selenium 패키지와 time 모듈 import\n",
    "from selenium import webdriver\n",
    "from selenium.webdriver.common.keys import Keys\n",
    "import time\n",
    "\n",
    "#step2.검색할 키워드 입력\n",
    "query = input('검색할 키워드를 입력하세요: ')\n",
    "\n",
    "#step3.크롬드라이버로 원하는 url로 접속\n",
    "url = 'https://www.naver.com/'\n",
    "driver = webdriver.Chrome('C:/Users/usn14/OneDrive/바탕 화면/chromedriver.exe')\n",
    "driver.get(url)\n",
    "time.sleep(3)\n",
    "\n",
    "#step4.검색창에 키워드 입력 후 엔터\n",
    "search_box = driver.find_element_by_css_selector(\"input#query\")\n",
    "search_box.send_keys(query)\n",
    "search_box.send_keys(Keys.RETURN)\n",
    "time.sleep(2)\n",
    "\n",
    "#step5.뉴스 탭 클릭\n",
    "driver.find_element_by_xpath('//*[@id=\"lnb\"]/div[1]/div/ul/li[2]/a').click()\n",
    "time.sleep(2)"
   ]
  },
  {
   "cell_type": "code",
   "execution_count": 4,
   "id": "b0ced616",
   "metadata": {},
   "outputs": [
    {
     "name": "stderr",
     "output_type": "stream",
     "text": [
      "C:\\Users\\usn14\\AppData\\Local\\Temp/ipykernel_10844/1725713288.py:3: DeprecationWarning: find_elements_by_* commands are deprecated. Please use find_elements() instead\n",
      "  news_titles = driver.find_elements_by_css_selector(\".news_tit\")\n"
     ]
    },
    {
     "name": "stdout",
     "output_type": "stream",
     "text": [
      "병무청, 6월 20일 병력동원훈련 시작…코로나로 축소 시행\n",
      "‘코로나 확진, 정말일까?’…인권위 “재검사 지침 명확해야”\n",
      "정호영, 논란 속 사퇴 \"윤 정부 돕겠다?\"…코로나 관리 '비상'\n",
      "신한금투, 코로나 학번 이야기 담은 '응원하기 캠페인' 네 번째 영상 공개\n",
      "WHO 사무총장 “코로나19 팬데믹 끝난 게 아니다”\n",
      "제넨셀, 개발중 코로나치료제 UAE 제약사에 판권 이전\n",
      "코로나 신규확진 9975명…4개월 만에 1만명 아래로\n",
      "\"원숭이두창 치명률 코로나 30배\"…국내 들어올 가능성은?\n",
      "코로나19 확진자 118일 만에 1만명 아래로(종합)\n",
      "코로나19 신규 확진자 118일만에 1만명 아래로\n"
     ]
    }
   ],
   "source": [
    "#step6.뉴스 제목 텍스트 추출\n",
    "\n",
    "news_titles = driver.find_elements_by_css_selector(\".news_tit\")\n",
    "\n",
    "for i in news_titles:\n",
    "    title = i.text\n",
    "    print(title)"
   ]
  },
  {
   "cell_type": "code",
   "execution_count": 5,
   "id": "176b9098",
   "metadata": {},
   "outputs": [
    {
     "name": "stdout",
     "output_type": "stream",
     "text": [
      "http://www.newsis.com/view/?id=NISX20220523_0001881257&cID=10301&pID=10300\n",
      "https://news.kbs.co.kr/news/view.do?ncd=5468914&ref=A\n",
      "http://www.wowtv.co.kr/NewsCenter/News/Read?articleId=A202205230331&t=NN\n",
      "https://www.hankyung.com/finance/article/2022052343156\n",
      "https://www.khan.co.kr/world/world-general/article/202205230733001\n",
      "https://www.yna.co.kr/view/AKR20220523073200017?input=1195m\n",
      "https://biz.chosun.com/topics/topics_social/2022/05/23/VRR4U3VUSZDFBFCOR2BZBPMQG4/?utm_source=naver&utm_medium=original&utm_campaign=biz\n",
      "http://news.mt.co.kr/mtview.php?no=2022052309453430708\n",
      "http://www.fnnews.com/news/202205230948345238\n",
      "http://news.tvchosun.com/site/data/html_dir/2022/05/23/2022052390045.html\n"
     ]
    }
   ],
   "source": [
    "#step7.뉴스 하이퍼링크 추출\n",
    "\n",
    "for i in news_titles:\n",
    "    href = i.get_attribute('href')\n",
    "    print(href)"
   ]
  },
  {
   "cell_type": "code",
   "execution_count": 8,
   "id": "76d6e675",
   "metadata": {},
   "outputs": [
    {
     "name": "stderr",
     "output_type": "stream",
     "text": [
      "C:\\Users\\usn14\\AppData\\Local\\Temp/ipykernel_10844/3904556657.py:3: DeprecationWarning: find_elements_by_* commands are deprecated. Please use find_elements() instead\n",
      "  news_thumbnail = driver.find_elements_by_css_selector(\"img.thumb.api_get\")\n"
     ]
    }
   ],
   "source": [
    "#step8.뉴스 썸네일 이미지 추출\n",
    "\n",
    "news_thumbnail = driver.find_elements_by_css_selector(\"img.thumb.api_get\")\n",
    "\n",
    "link_thumbnail = []\n",
    "\n",
    "for img in news_thumbnail:\n",
    "    \n",
    "    link_thumbnail.append(img.get_attribute('src'))\n",
    "\n",
    "\n",
    "# 이미지 저장할 폴더 생성\n",
    "\n",
    "import os\n",
    "\n",
    "# path_folder의 경로는 각자 저장할 폴더의 경로를 적어줄 것(ex.img_download)\n",
    "path_folder = 'C:/Users/usn14/OneDrive/바탕 화면/img_download/'\n",
    "\n",
    "if not os.path.isdir(path_folder):\n",
    "    os.mkdir(path_folder)\n",
    "\n",
    "\n",
    "# 이미지 다운로드\n",
    "\n",
    "from urllib.request import urlretrieve\n",
    "\n",
    "i = 0\n",
    "\n",
    "for link in link_thumbnail:          \n",
    "    i += 1\n",
    "    urlretrieve(link, path_folder + f'{i}.jpg')        #link에서 이미지 다운로드, './imgs/'에 파일명은 index와 확장자명으로"
   ]
  }
 ],
 "metadata": {
  "kernelspec": {
   "display_name": "Python 3 (ipykernel)",
   "language": "python",
   "name": "python3"
  },
  "language_info": {
   "codemirror_mode": {
    "name": "ipython",
    "version": 3
   },
   "file_extension": ".py",
   "mimetype": "text/x-python",
   "name": "python",
   "nbconvert_exporter": "python",
   "pygments_lexer": "ipython3",
   "version": "3.9.7"
  }
 },
 "nbformat": 4,
 "nbformat_minor": 5
}
