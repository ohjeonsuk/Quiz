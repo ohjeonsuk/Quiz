{
 "cells": [
  {
   "cell_type": "code",
   "execution_count": 10,
   "id": "0208ef85",
   "metadata": {},
   "outputs": [
    {
     "name": "stderr",
     "output_type": "stream",
     "text": [
      "C:\\Users\\usn14\\AppData\\Local\\Temp/ipykernel_14392/73278083.py:11: DeprecationWarning: executable_path has been deprecated, please pass in a Service object\n",
      "  driver = webdriver.Chrome('C:/Users/usn14/OneDrive/바탕 화면/chromedriver.exe')\n"
     ]
    }
   ],
   "source": [
    "# selenium의 webdriver를 사용하기 위한 import\n",
    "from selenium import webdriver\n",
    "\n",
    "# selenium으로 무엇인가 입력하기 위한 import\n",
    "from selenium.webdriver.common.keys import Keys\n",
    "\n",
    "# 페이지 로딩을 기다리는데에 사용할 time 모듈 import\n",
    "import time\n",
    "\n",
    "# 크롬드라이버 실행  (경로 예: '/Users/Roy/Downloads/chromedriver')\n",
    "driver = webdriver.Chrome('C:/Users/usn14/OneDrive/바탕 화면/chromedriver.exe') \n",
    "\n",
    "#크롬 드라이버에 url 주소 넣고 실행\n",
    "driver.get('https://www.google.co.kr/')\n",
    "\n",
    "# 페이지가 완전히 로딩되도록 3초동안 기다림\n",
    "time.sleep(3)"
   ]
  },
  {
   "cell_type": "code",
   "execution_count": 11,
   "id": "6272c54a",
   "metadata": {},
   "outputs": [
    {
     "name": "stderr",
     "output_type": "stream",
     "text": [
      "C:\\Users\\usn14\\AppData\\Local\\Temp/ipykernel_14392/1804918340.py:2: DeprecationWarning: find_element_by_* commands are deprecated. Please use find_element() instead\n",
      "  search_box = driver.find_element_by_css_selector('input.gLFyf.gsfi')\n"
     ]
    }
   ],
   "source": [
    "# 검색어 창을 찾아 search 변수에 저장 (css_selector 이용방식)\n",
    "search_box = driver.find_element_by_css_selector('input.gLFyf.gsfi')"
   ]
  },
  {
   "cell_type": "code",
   "execution_count": null,
   "id": "d5bf3363",
   "metadata": {},
   "outputs": [],
   "source": [
    "# 검색어 창을 찾아 search 변수에 저장 (xpath 이용방식)\n",
    "#search_box = driver.find_element_by_xpath('//*[@id=\"google_search\"]')"
   ]
  },
  {
   "cell_type": "code",
   "execution_count": 12,
   "id": "ebfecf2d",
   "metadata": {},
   "outputs": [],
   "source": [
    "search_box.send_keys('파이썬')\n",
    "search_box.send_keys(Keys.RETURN)\n",
    "time.sleep(1)"
   ]
  }
 ],
 "metadata": {
  "kernelspec": {
   "display_name": "Python 3 (ipykernel)",
   "language": "python",
   "name": "python3"
  },
  "language_info": {
   "codemirror_mode": {
    "name": "ipython",
    "version": 3
   },
   "file_extension": ".py",
   "mimetype": "text/x-python",
   "name": "python",
   "nbconvert_exporter": "python",
   "pygments_lexer": "ipython3",
   "version": "3.9.7"
  }
 },
 "nbformat": 4,
 "nbformat_minor": 5
}
