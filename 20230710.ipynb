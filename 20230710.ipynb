{
  "nbformat": 4,
  "nbformat_minor": 0,
  "metadata": {
    "colab": {
      "provenance": [],
      "authorship_tag": "ABX9TyOqY+pZEL89WKjQdXodXxul",
      "include_colab_link": true
    },
    "kernelspec": {
      "name": "python3",
      "display_name": "Python 3"
    },
    "language_info": {
      "name": "python"
    }
  },
  "cells": [
    {
      "cell_type": "markdown",
      "metadata": {
        "id": "view-in-github",
        "colab_type": "text"
      },
      "source": [
        "<a href=\"https://colab.research.google.com/github/ohjeonsuk/python/blob/master/20230710.ipynb\" target=\"_parent\"><img src=\"https://colab.research.google.com/assets/colab-badge.svg\" alt=\"Open In Colab\"/></a>"
      ]
    },
    {
      "cell_type": "markdown",
      "source": [
        "#1.파이썬 소개"
      ],
      "metadata": {
        "id": "JUd5ve9EjijC"
      }
    },
    {
      "cell_type": "markdown",
      "source": [
        "object = data + functions\n",
        "\n",
        "코랩 실행 명령어 : shift + enter\n",
        "\n",
        "Ipython -> Jupyter -> Colab\n",
        "\n",
        "함수 : 기능을 하기 위한 코드의 모임\n",
        "\n",
        ". : 속성 바인딩 연산자\n",
        "\n",
        "속성 : 클래스 안에 있는 멤버와 메서드\n",
        "\n",
        "멤버 : 클래스 안에 있는 데이터\n",
        "\n",
        "메서드 : 클래스 안에 있는 함수\n",
        "\n",
        "클래스 : 객체(=data+functions)를 만들어 주는 코드들\n",
        "\n",
        "대입연산자 : =\n",
        "\n",
        "parameter : 매개변수, 함수를 정의 하는 측에서 함수 내부로 데이터를 전달해 주는 변수\n",
        "\n",
        "argumet : 인자, 함수를 호출하는 측에서 함수 내부로 데이터를 전달해 주는 변수\n",
        "\n",
        "suit : 같은 수준으로 들여쓰기가 되어 있는 블록\n",
        "\n",
        "local = 개인 노트북이나, 데스크탑\n",
        "\n",
        "들여쓰기 : tab 1번(=space 4칸)"
      ],
      "metadata": {
        "id": "ft2h65pzjbqQ"
      }
    },
    {
      "cell_type": "code",
      "source": [
        "1+2"
      ],
      "metadata": {
        "colab": {
          "base_uri": "https://localhost:8080/"
        },
        "id": "0pEGwpiuj_h-",
        "outputId": "b746cf2a-5dc2-4cab-d016-6339f9364857"
      },
      "execution_count": 6,
      "outputs": [
        {
          "output_type": "execute_result",
          "data": {
            "text/plain": [
              "3"
            ]
          },
          "metadata": {},
          "execution_count": 6
        }
      ]
    },
    {
      "cell_type": "code",
      "source": [
        "import numpy as np"
      ],
      "metadata": {
        "id": "kcEm-uSeg5sx"
      },
      "execution_count": 5,
      "outputs": []
    },
    {
      "cell_type": "code",
      "source": [
        "def AND(x1, x2):\n",
        "    x = np.array([x1, x2])\n",
        "    w = np.array([0.5, 0.5])\n",
        "    b = -0.7\n",
        "    tmp = np.dot(x, w)+b\n",
        "    if tmp < 0:\n",
        "        return 0\n",
        "    else :\n",
        "        return 1"
      ],
      "metadata": {
        "id": "vHV0F8Ndg9ZT"
      },
      "execution_count": 16,
      "outputs": []
    },
    {
      "cell_type": "code",
      "source": [
        "AND(0,0)"
      ],
      "metadata": {
        "colab": {
          "base_uri": "https://localhost:8080/"
        },
        "id": "S74H6ulNnH0X",
        "outputId": "40ca84c8-4582-4d77-a615-741dd6668ca4"
      },
      "execution_count": 12,
      "outputs": [
        {
          "output_type": "execute_result",
          "data": {
            "text/plain": [
              "0"
            ]
          },
          "metadata": {},
          "execution_count": 12
        }
      ]
    },
    {
      "cell_type": "code",
      "source": [
        "AND(0,1)"
      ],
      "metadata": {
        "colab": {
          "base_uri": "https://localhost:8080/"
        },
        "id": "FK92EGlzqydZ",
        "outputId": "04972476-a893-4859-f901-d0fecf900ce3"
      },
      "execution_count": 13,
      "outputs": [
        {
          "output_type": "execute_result",
          "data": {
            "text/plain": [
              "0"
            ]
          },
          "metadata": {},
          "execution_count": 13
        }
      ]
    },
    {
      "cell_type": "code",
      "source": [
        "AND(1,0)"
      ],
      "metadata": {
        "colab": {
          "base_uri": "https://localhost:8080/"
        },
        "id": "Pz6298-4q02U",
        "outputId": "8e5b6722-8065-4dc1-e99b-5a3bc54967c1"
      },
      "execution_count": 14,
      "outputs": [
        {
          "output_type": "execute_result",
          "data": {
            "text/plain": [
              "0"
            ]
          },
          "metadata": {},
          "execution_count": 14
        }
      ]
    },
    {
      "cell_type": "code",
      "source": [
        "AND(1,1)"
      ],
      "metadata": {
        "colab": {
          "base_uri": "https://localhost:8080/"
        },
        "id": "fICLito_rdQl",
        "outputId": "afaf5dc3-5264-4b7f-8293-170cbc08eca1"
      },
      "execution_count": 15,
      "outputs": [
        {
          "output_type": "execute_result",
          "data": {
            "text/plain": [
              "1"
            ]
          },
          "metadata": {},
          "execution_count": 15
        }
      ]
    },
    {
      "cell_type": "code",
      "source": [],
      "metadata": {
        "id": "kQ8i0YYkrf2W"
      },
      "execution_count": null,
      "outputs": []
    }
  ]
}