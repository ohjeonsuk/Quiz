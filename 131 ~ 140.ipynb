{
 "cells": [
  {
   "cell_type": "code",
   "execution_count": 1,
   "id": "c289237a",
   "metadata": {},
   "outputs": [
    {
     "name": "stdout",
     "output_type": "stream",
     "text": [
      "사과\n",
      "귤\n",
      "수박\n"
     ]
    }
   ],
   "source": [
    "과일 = [\"사과\", \"귤\", \"수박\"]\n",
    "for 변수 in 과일:\n",
    "    print(변수)"
   ]
  },
  {
   "cell_type": "code",
   "execution_count": 2,
   "id": "066fe053",
   "metadata": {},
   "outputs": [
    {
     "name": "stdout",
     "output_type": "stream",
     "text": [
      "#####\n",
      "#####\n",
      "#####\n"
     ]
    }
   ],
   "source": [
    "과일 = [\"사과\", \"귤\", \"수박\"]\n",
    "for 변수 in 과일:\n",
    "  print(\"#####\")"
   ]
  },
  {
   "cell_type": "code",
   "execution_count": 5,
   "id": "ff61b25a",
   "metadata": {},
   "outputs": [
    {
     "name": "stdout",
     "output_type": "stream",
     "text": [
      "A\n",
      "B\n",
      "C\n"
     ]
    }
   ],
   "source": [
    "for 변수 in [\"A\", \"B\", \"C\"]:\n",
    "  print(변수)"
   ]
  },
  {
   "cell_type": "code",
   "execution_count": 4,
   "id": "c233be8f",
   "metadata": {},
   "outputs": [
    {
     "name": "stdout",
     "output_type": "stream",
     "text": [
      "출력: A\n",
      "출력: B\n",
      "출력: C\n"
     ]
    }
   ],
   "source": [
    "for 변수 in [\"A\", \"B\", \"C\"]:\n",
    "  print(\"출력:\", 변수)"
   ]
  },
  {
   "cell_type": "code",
   "execution_count": 6,
   "id": "f3605212",
   "metadata": {},
   "outputs": [
    {
     "name": "stdout",
     "output_type": "stream",
     "text": [
      "변환: a\n",
      "변환: b\n",
      "변환: c\n"
     ]
    }
   ],
   "source": [
    "for 변수 in [\"A\", \"B\", \"C\"]:\n",
    "  b = 변수.lower()\n",
    "  print(\"변환:\", b)"
   ]
  },
  {
   "cell_type": "code",
   "execution_count": 7,
   "id": "ce003402",
   "metadata": {},
   "outputs": [
    {
     "name": "stdout",
     "output_type": "stream",
     "text": [
      "10\n",
      "20\n",
      "30\n"
     ]
    }
   ],
   "source": [
    "변수 = 10\n",
    "print(변수)\n",
    "변수 = 20\n",
    "print(변수)\n",
    "변수 = 30\n",
    "print(변수)"
   ]
  },
  {
   "cell_type": "code",
   "execution_count": 8,
   "id": "6eea0178",
   "metadata": {},
   "outputs": [
    {
     "name": "stdout",
     "output_type": "stream",
     "text": [
      "10\n",
      "20\n",
      "30\n"
     ]
    }
   ],
   "source": [
    "for 변수 in [10, 20, 30]:\n",
    "  print(변수)"
   ]
  },
  {
   "cell_type": "code",
   "execution_count": 10,
   "id": "a3866d49",
   "metadata": {},
   "outputs": [
    {
     "name": "stdout",
     "output_type": "stream",
     "text": [
      "10\n",
      "-------\n",
      "20\n",
      "-------\n",
      "30\n",
      "-------\n"
     ]
    }
   ],
   "source": [
    "for 변수 in [10, 20, 30]:\n",
    "  print(변수)\n",
    "  print(\"-------\")"
   ]
  },
  {
   "cell_type": "code",
   "execution_count": 11,
   "id": "f0019366",
   "metadata": {},
   "outputs": [
    {
     "name": "stdout",
     "output_type": "stream",
     "text": [
      "++++\n",
      "10\n",
      "20\n",
      "30\n"
     ]
    }
   ],
   "source": [
    "print(\"++++\")\n",
    "for 변수 in [10, 20, 30]:\n",
    "  print(변수)"
   ]
  },
  {
   "cell_type": "code",
   "execution_count": 12,
   "id": "d4708f65",
   "metadata": {},
   "outputs": [
    {
     "name": "stdout",
     "output_type": "stream",
     "text": [
      "-------\n",
      "-------\n",
      "-------\n",
      "-------\n"
     ]
    }
   ],
   "source": [
    "for 변수 in [1, 2, 3, 4]:\n",
    "  print(\"-------\")"
   ]
  }
 ],
 "metadata": {
  "kernelspec": {
   "display_name": "Python 3 (ipykernel)",
   "language": "python",
   "name": "python3"
  },
  "language_info": {
   "codemirror_mode": {
    "name": "ipython",
    "version": 3
   },
   "file_extension": ".py",
   "mimetype": "text/x-python",
   "name": "python",
   "nbconvert_exporter": "python",
   "pygments_lexer": "ipython3",
   "version": "3.9.7"
  }
 },
 "nbformat": 4,
 "nbformat_minor": 5
}
