{
  "nbformat": 4,
  "nbformat_minor": 0,
  "metadata": {
    "colab": {
      "provenance": [],
      "include_colab_link": true
    },
    "kernelspec": {
      "name": "python3",
      "display_name": "Python 3"
    },
    "language_info": {
      "name": "python"
    }
  },
  "cells": [
    {
      "cell_type": "markdown",
      "metadata": {
        "id": "view-in-github",
        "colab_type": "text"
      },
      "source": [
        "<a href=\"https://colab.research.google.com/github/ohjeonsuk/python/blob/master/L230710_intro.ipynb\" target=\"_parent\"><img src=\"https://colab.research.google.com/assets/colab-badge.svg\" alt=\"Open In Colab\"/></a>"
      ]
    },
    {
      "cell_type": "markdown",
      "source": [
        "#1. 파이썬 소개"
      ],
      "metadata": {
        "id": "mo9ktfrTaYvV"
      }
    },
    {
      "cell_type": "markdown",
      "source": [
        "object = data + functions\n",
        "\n",
        "코랩 실행 명령어 : shift + enter\n",
        "\n",
        "Ipython -> Jupyter -> Colab\n",
        "\n",
        "함수 : 기능을 하기 위한 코드의 모임\n",
        "\n",
        ".  -  속성 바인딩 연산자\n",
        "\n",
        "속성 = 클래스 안에 있는 멤버와 메서드\n",
        "\n",
        "멤버 : 클래스 안에 있는 데이터\n",
        "\n",
        "메서드 : 클래스 안에 있는 함수\n",
        "\n",
        "클래스 :  객체(=data + functions) 를 만들어 주는 코드들\n",
        "\n",
        "대입 연산자 : =\n",
        "\n",
        "parameter : 매개변수, 함수를 정의 하는 측에서 함수 내부로 데이터를 전달해 주는 변수\n",
        "\n",
        "argument : 인자, 함수를 호출하는 측에서 함수 내부로 데이터를 전달해 주는 변수\n",
        "\n",
        "suit : 같은 수준으로 들여쓰기가 되어 있는 블록\n",
        "\n",
        "local = 개인 노트북이나, 데스크탑\n",
        "\n",
        "들여쓰기 : tab 1번 (= sopace 4칸)"
      ],
      "metadata": {
        "id": "k1AwSI3QWQjj"
      }
    },
    {
      "cell_type": "markdown",
      "source": [
        "### 숙지 해야할 것 (powershell prompt에서)\n",
        "\n",
        "1. ls : 리눅스 명령어, 폴더와 파일 이름 출력\n",
        "2. cd : 디렉토리 변경 명령어 (탭키 이용)\n",
        "3. pwd : 현재 작업디렉토리 보여주는 명령어"
      ],
      "metadata": {
        "id": "YdtyTJ4zU6bt"
      }
    },
    {
      "cell_type": "code",
      "source": [
        "1+2"
      ],
      "metadata": {
        "colab": {
          "base_uri": "https://localhost:8080/"
        },
        "id": "T9C-yMngY6uO",
        "outputId": "63fdecbb-e4cd-4f2d-d089-ecf4079e6f2a"
      },
      "execution_count": null,
      "outputs": [
        {
          "output_type": "execute_result",
          "data": {
            "text/plain": [
              "3"
            ]
          },
          "metadata": {},
          "execution_count": 3
        }
      ]
    },
    {
      "cell_type": "code",
      "source": [
        "import numpy as np"
      ],
      "metadata": {
        "id": "AgoJUqFYgm3x"
      },
      "execution_count": null,
      "outputs": []
    },
    {
      "cell_type": "code",
      "source": [
        "def AND(x1, x2):\n",
        "\n",
        "    x = np.array([x1, x2])\n",
        "    w = np.array([0.5, 0.5])\n",
        "    b = -0.7\n",
        "    tmp = np.dot(x, w)+b\n",
        "    if tmp < 0:\n",
        "        return 0\n",
        "    else :\n",
        "        return 1"
      ],
      "metadata": {
        "id": "xpbpSE59Y7Tk"
      },
      "execution_count": null,
      "outputs": []
    },
    {
      "cell_type": "code",
      "source": [
        "print(AND(0,0))"
      ],
      "metadata": {
        "colab": {
          "base_uri": "https://localhost:8080/"
        },
        "id": "tTQ23sR-pcWi",
        "outputId": "3b0fe4e7-9696-41ee-9149-a3c1b01fd24d"
      },
      "execution_count": null,
      "outputs": [
        {
          "output_type": "execute_result",
          "data": {
            "text/plain": [
              "0"
            ]
          },
          "metadata": {},
          "execution_count": 11
        }
      ]
    },
    {
      "cell_type": "code",
      "source": [
        "AND(0, 1)"
      ],
      "metadata": {
        "colab": {
          "base_uri": "https://localhost:8080/"
        },
        "id": "n_nj2e6hqwhG",
        "outputId": "bc7cfc51-e0ae-447a-df0f-31295eff0f87"
      },
      "execution_count": null,
      "outputs": [
        {
          "output_type": "execute_result",
          "data": {
            "text/plain": [
              "0"
            ]
          },
          "metadata": {},
          "execution_count": 12
        }
      ]
    },
    {
      "cell_type": "code",
      "source": [
        "AND(1, 0)"
      ],
      "metadata": {
        "colab": {
          "base_uri": "https://localhost:8080/"
        },
        "id": "FeA1H4ysqy41",
        "outputId": "a6de2cad-dd68-4d09-a93f-5e96d15758c2"
      },
      "execution_count": null,
      "outputs": [
        {
          "output_type": "execute_result",
          "data": {
            "text/plain": [
              "0"
            ]
          },
          "metadata": {},
          "execution_count": 13
        }
      ]
    },
    {
      "cell_type": "code",
      "source": [
        "AND(1,1)"
      ],
      "metadata": {
        "colab": {
          "base_uri": "https://localhost:8080/"
        },
        "id": "F87x_1g-q05H",
        "outputId": "29d226fb-6440-49ad-ec3a-0a4d89031625"
      },
      "execution_count": null,
      "outputs": [
        {
          "output_type": "execute_result",
          "data": {
            "text/plain": [
              "1"
            ]
          },
          "metadata": {},
          "execution_count": 14
        }
      ]
    },
    {
      "cell_type": "code",
      "source": [
        "!pwd"
      ],
      "metadata": {
        "id": "YUGnNM6uq2OG",
        "colab": {
          "base_uri": "https://localhost:8080/"
        },
        "outputId": "a12bf3a3-eddd-47f0-f390-6fc0598ed255"
      },
      "execution_count": null,
      "outputs": [
        {
          "output_type": "stream",
          "name": "stdout",
          "text": [
            "/content\n"
          ]
        }
      ]
    },
    {
      "cell_type": "code",
      "source": [
        "pwd"
      ],
      "metadata": {
        "colab": {
          "base_uri": "https://localhost:8080/",
          "height": 56
        },
        "id": "5gR_jo-WTT-A",
        "outputId": "baf7d861-7b3e-4503-f4d4-f3d630a772d8"
      },
      "execution_count": null,
      "outputs": [
        {
          "output_type": "execute_result",
          "data": {
            "text/plain": [
              "'/content'"
            ],
            "application/vnd.google.colaboratory.intrinsic+json": {
              "type": "string"
            }
          },
          "metadata": {},
          "execution_count": 17
        }
      ]
    },
    {
      "cell_type": "markdown",
      "source": [
        "#1. 자료형\n",
        "\n",
        "- 정수, 실수, 복소수, 문자열, bool(논리, True, False)\n",
        "\n",
        "- 리스트, 튜플, 집합, 사전"
      ],
      "metadata": {
        "id": "7dVo1iimZPLS"
      }
    },
    {
      "cell_type": "markdown",
      "source": [
        "![image.png](data:image/png;base64,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)"
      ],
      "metadata": {
        "id": "utHRsAC1d0VF"
      }
    },
    {
      "cell_type": "code",
      "source": [
        "en = 1e-3"
      ],
      "metadata": {
        "id": "fsgO6vrxTVG2"
      },
      "execution_count": null,
      "outputs": []
    },
    {
      "cell_type": "code",
      "source": [
        "en"
      ],
      "metadata": {
        "colab": {
          "base_uri": "https://localhost:8080/"
        },
        "id": "ghega9BjZYjo",
        "outputId": "1dd83243-473a-41f1-da8f-b02cea59eca6"
      },
      "execution_count": null,
      "outputs": [
        {
          "output_type": "execute_result",
          "data": {
            "text/plain": [
              "0.001"
            ]
          },
          "metadata": {},
          "execution_count": 19
        }
      ]
    },
    {
      "cell_type": "code",
      "source": [
        "a = 1\n",
        "b = 2\n",
        "c = a+b\n",
        "print(c)"
      ],
      "metadata": {
        "colab": {
          "base_uri": "https://localhost:8080/"
        },
        "id": "B8uwdfQ0Za4A",
        "outputId": "b2af1999-066a-4f7a-af2d-b881cc3fd17b"
      },
      "execution_count": null,
      "outputs": [
        {
          "output_type": "stream",
          "name": "stdout",
          "text": [
            "3\n"
          ]
        }
      ]
    },
    {
      "cell_type": "code",
      "source": [
        "sen = 'test'"
      ],
      "metadata": {
        "id": "tq5V3t6KZj07"
      },
      "execution_count": null,
      "outputs": []
    },
    {
      "cell_type": "code",
      "source": [
        "sen"
      ],
      "metadata": {
        "colab": {
          "base_uri": "https://localhost:8080/",
          "height": 56
        },
        "id": "5em0m5cxajie",
        "outputId": "35ec39c1-70c9-4808-a389-fcace4c93038"
      },
      "execution_count": null,
      "outputs": [
        {
          "output_type": "execute_result",
          "data": {
            "text/plain": [
              "'test'"
            ],
            "application/vnd.google.colaboratory.intrinsic+json": {
              "type": "string"
            }
          },
          "metadata": {},
          "execution_count": 22
        }
      ]
    },
    {
      "cell_type": "code",
      "source": [
        "sen = \"python test\""
      ],
      "metadata": {
        "id": "NMmzSoZeaj-p"
      },
      "execution_count": null,
      "outputs": []
    },
    {
      "cell_type": "code",
      "source": [
        "sen"
      ],
      "metadata": {
        "colab": {
          "base_uri": "https://localhost:8080/",
          "height": 56
        },
        "id": "avcz1Fd1aqfy",
        "outputId": "b321cf38-ee8b-486f-9e30-3901ef6fa367"
      },
      "execution_count": null,
      "outputs": [
        {
          "output_type": "execute_result",
          "data": {
            "text/plain": [
              "'python test'"
            ],
            "application/vnd.google.colaboratory.intrinsic+json": {
              "type": "string"
            }
          },
          "metadata": {},
          "execution_count": 24
        }
      ]
    },
    {
      "cell_type": "code",
      "source": [
        "sen = ''' 여기는 여러줄을 문자열로 받아 들일때 삼따옴표를 사용합니다. '''"
      ],
      "metadata": {
        "id": "4d9v4HMjaq2x"
      },
      "execution_count": null,
      "outputs": []
    },
    {
      "cell_type": "code",
      "source": [
        "sen"
      ],
      "metadata": {
        "colab": {
          "base_uri": "https://localhost:8080/",
          "height": 56
        },
        "id": "lf_P0pILa66B",
        "outputId": "ae4ae5a1-79b7-4dbd-fa3b-2c619c291901"
      },
      "execution_count": null,
      "outputs": [
        {
          "output_type": "execute_result",
          "data": {
            "text/plain": [
              "' 여기는 여러줄을 문자열로 받아 들일때 삼따옴표를 사용합니다. '"
            ],
            "application/vnd.google.colaboratory.intrinsic+json": {
              "type": "string"
            }
          },
          "metadata": {},
          "execution_count": 27
        }
      ]
    },
    {
      "cell_type": "code",
      "source": [
        "sen*5 + 'Test'"
      ],
      "metadata": {
        "colab": {
          "base_uri": "https://localhost:8080/",
          "height": 90
        },
        "id": "ijeETRToa9ZI",
        "outputId": "01ff772b-cbc1-4c5f-92c4-f4e2c765f69c"
      },
      "execution_count": null,
      "outputs": [
        {
          "output_type": "execute_result",
          "data": {
            "text/plain": [
              "' 여기는 여러줄을 문자열로 받아 들일때 삼따옴표를 사용합니다.  여기는 여러줄을 문자열로 받아 들일때 삼따옴표를 사용합니다.  여기는 여러줄을 문자열로 받아 들일때 삼따옴표를 사용합니다.  여기는 여러줄을 문자열로 받아 들일때 삼따옴표를 사용합니다.  여기는 여러줄을 문자열로 받아 들일때 삼따옴표를 사용합니다. Test'"
            ],
            "application/vnd.google.colaboratory.intrinsic+json": {
              "type": "string"
            }
          },
          "metadata": {},
          "execution_count": 29
        }
      ]
    },
    {
      "cell_type": "code",
      "source": [
        "'파이썬 ' + \"프로그래밍 \" + \"시간입니다.\""
      ],
      "metadata": {
        "colab": {
          "base_uri": "https://localhost:8080/",
          "height": 56
        },
        "id": "uyZxFJ-ibA4T",
        "outputId": "b085c257-fd09-4d00-c413-5eef89a64387"
      },
      "execution_count": null,
      "outputs": [
        {
          "output_type": "execute_result",
          "data": {
            "text/plain": [
              "'파이썬 프로그래밍 시간입니다.'"
            ],
            "application/vnd.google.colaboratory.intrinsic+json": {
              "type": "string"
            }
          },
          "metadata": {},
          "execution_count": 31
        }
      ]
    },
    {
      "cell_type": "code",
      "source": [
        "'파이썬'"
      ],
      "metadata": {
        "colab": {
          "base_uri": "https://localhost:8080/",
          "height": 56
        },
        "id": "oo3AnrSkbK8M",
        "outputId": "e94826de-7f54-4f86-afa8-6242bbe1a6bf"
      },
      "execution_count": null,
      "outputs": [
        {
          "output_type": "execute_result",
          "data": {
            "text/plain": [
              "'파이썬'"
            ],
            "application/vnd.google.colaboratory.intrinsic+json": {
              "type": "string"
            }
          },
          "metadata": {},
          "execution_count": 32
        }
      ]
    },
    {
      "cell_type": "code",
      "source": [
        "import math"
      ],
      "metadata": {
        "id": "MmAnWKS1br1F"
      },
      "execution_count": null,
      "outputs": []
    },
    {
      "cell_type": "code",
      "source": [
        "math.sqrt(4.0)"
      ],
      "metadata": {
        "colab": {
          "base_uri": "https://localhost:8080/"
        },
        "id": "tyCiwlslb8Of",
        "outputId": "5f7bf75a-ec0c-4d1d-9408-46508ac22d71"
      },
      "execution_count": null,
      "outputs": [
        {
          "output_type": "execute_result",
          "data": {
            "text/plain": [
              "2.0"
            ]
          },
          "metadata": {},
          "execution_count": 34
        }
      ]
    },
    {
      "cell_type": "code",
      "source": [
        "math.sqrt(2.0)"
      ],
      "metadata": {
        "colab": {
          "base_uri": "https://localhost:8080/"
        },
        "id": "lebaWn5Yb-w_",
        "outputId": "761757df-4ecf-4937-dcc7-5d3433c9c6e2"
      },
      "execution_count": null,
      "outputs": [
        {
          "output_type": "execute_result",
          "data": {
            "text/plain": [
              "1.4142135623730951"
            ]
          },
          "metadata": {},
          "execution_count": 35
        }
      ]
    },
    {
      "cell_type": "code",
      "source": [
        "math.e"
      ],
      "metadata": {
        "colab": {
          "base_uri": "https://localhost:8080/"
        },
        "id": "rC1zU6fNcCXN",
        "outputId": "0d61a245-58fb-4759-9ea4-f7ba75214f1b"
      },
      "execution_count": null,
      "outputs": [
        {
          "output_type": "execute_result",
          "data": {
            "text/plain": [
              "2.718281828459045"
            ]
          },
          "metadata": {},
          "execution_count": 36
        }
      ]
    },
    {
      "cell_type": "code",
      "source": [
        "math.pi"
      ],
      "metadata": {
        "colab": {
          "base_uri": "https://localhost:8080/"
        },
        "id": "zdKRiQuDcDjD",
        "outputId": "64c9b613-75e9-4194-f773-b2c5a25cac2f"
      },
      "execution_count": null,
      "outputs": [
        {
          "output_type": "execute_result",
          "data": {
            "text/plain": [
              "3.141592653589793"
            ]
          },
          "metadata": {},
          "execution_count": 37
        }
      ]
    },
    {
      "cell_type": "code",
      "source": [
        "math.sqrt(-4.0)"
      ],
      "metadata": {
        "colab": {
          "base_uri": "https://localhost:8080/",
          "height": 188
        },
        "id": "vtsPnPdZcFez",
        "outputId": "3b4fe16f-60ff-4db8-f473-bb415d681e68"
      },
      "execution_count": null,
      "outputs": [
        {
          "output_type": "error",
          "ename": "ValueError",
          "evalue": "ignored",
          "traceback": [
            "\u001b[0;31m---------------------------------------------------------------------------\u001b[0m",
            "\u001b[0;31mValueError\u001b[0m                                Traceback (most recent call last)",
            "\u001b[0;32m<ipython-input-38-8fea7e022a8f>\u001b[0m in \u001b[0;36m<cell line: 1>\u001b[0;34m()\u001b[0m\n\u001b[0;32m----> 1\u001b[0;31m \u001b[0mmath\u001b[0m\u001b[0;34m.\u001b[0m\u001b[0msqrt\u001b[0m\u001b[0;34m(\u001b[0m\u001b[0;34m-\u001b[0m\u001b[0;36m4.0\u001b[0m\u001b[0;34m)\u001b[0m\u001b[0;34m\u001b[0m\u001b[0;34m\u001b[0m\u001b[0m\n\u001b[0m",
            "\u001b[0;31mValueError\u001b[0m: math domain error"
          ]
        }
      ]
    },
    {
      "cell_type": "code",
      "source": [
        "import cmath"
      ],
      "metadata": {
        "id": "bVOcvLQUcH_6"
      },
      "execution_count": null,
      "outputs": []
    },
    {
      "cell_type": "code",
      "source": [
        "cmath.sqrt(-4.0)"
      ],
      "metadata": {
        "colab": {
          "base_uri": "https://localhost:8080/"
        },
        "id": "pyLSHOFrcMwT",
        "outputId": "75770a73-39e6-4f09-da93-73dcc09088bc"
      },
      "execution_count": null,
      "outputs": [
        {
          "output_type": "execute_result",
          "data": {
            "text/plain": [
              "2j"
            ]
          },
          "metadata": {},
          "execution_count": 40
        }
      ]
    },
    {
      "cell_type": "code",
      "source": [
        "cmath.sqrt(2+4j)"
      ],
      "metadata": {
        "colab": {
          "base_uri": "https://localhost:8080/"
        },
        "id": "2_PHm4ivcPIY",
        "outputId": "be5c8168-dd0a-49f7-f9d7-5dbd863fbb5e"
      },
      "execution_count": null,
      "outputs": [
        {
          "output_type": "execute_result",
          "data": {
            "text/plain": [
              "(1.7989074399478673+1.1117859405028423j)"
            ]
          },
          "metadata": {},
          "execution_count": 41
        }
      ]
    },
    {
      "cell_type": "markdown",
      "source": [
        "a = 1\n",
        "b = 2\n",
        "c = 4\n",
        "\n",
        "ax**2 + b x + c = 0\n",
        "\n",
        "x 를 구하는 코딩을 해주세요."
      ],
      "metadata": {
        "id": "X0GX7gk9cWVV"
      }
    },
    {
      "cell_type": "markdown",
      "source": [
        "![image.png](data:image/png;base64,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)"
      ],
      "metadata": {
        "id": "PJTJTa7Ee3bJ"
      }
    },
    {
      "cell_type": "code",
      "source": [
        "a = 1\n",
        "b = 2\n",
        "c = 1\n",
        "d = b**2 - 4*a*c\n"
      ],
      "metadata": {
        "id": "c2iYuzcye4Gk"
      },
      "execution_count": null,
      "outputs": []
    },
    {
      "cell_type": "code",
      "source": [
        "d = b*b - 4*a*c"
      ],
      "metadata": {
        "id": "xOIa9SyBfYeI"
      },
      "execution_count": null,
      "outputs": []
    },
    {
      "cell_type": "code",
      "source": [
        "d"
      ],
      "metadata": {
        "colab": {
          "base_uri": "https://localhost:8080/"
        },
        "id": "wscoCnQ_fdZc",
        "outputId": "afd7d78c-9592-4477-b150-b983ee04ebad"
      },
      "execution_count": null,
      "outputs": [
        {
          "output_type": "execute_result",
          "data": {
            "text/plain": [
              "0"
            ]
          },
          "metadata": {},
          "execution_count": 50
        }
      ]
    },
    {
      "cell_type": "code",
      "source": [
        "x1 = (-b + cmath.sqrt(d))/ (2*a)\n",
        "x2 = (-b - cmath.sqrt(d))/ (2*a)"
      ],
      "metadata": {
        "id": "MIRfb6KKfd_1"
      },
      "execution_count": null,
      "outputs": []
    },
    {
      "cell_type": "code",
      "source": [
        "x1"
      ],
      "metadata": {
        "colab": {
          "base_uri": "https://localhost:8080/"
        },
        "id": "PtWgwzKGfl6k",
        "outputId": "2b743a7c-c265-4f8c-d5c6-2308765d4af0"
      },
      "execution_count": null,
      "outputs": [
        {
          "output_type": "execute_result",
          "data": {
            "text/plain": [
              "(-1+0j)"
            ]
          },
          "metadata": {},
          "execution_count": 52
        }
      ]
    },
    {
      "cell_type": "code",
      "source": [
        "x2"
      ],
      "metadata": {
        "colab": {
          "base_uri": "https://localhost:8080/"
        },
        "id": "8JaruX4Qfmr0",
        "outputId": "b9844501-f0a2-43cb-d77a-50fa6b064e45"
      },
      "execution_count": null,
      "outputs": [
        {
          "output_type": "execute_result",
          "data": {
            "text/plain": [
              "(-1+0j)"
            ]
          },
          "metadata": {},
          "execution_count": 53
        }
      ]
    },
    {
      "cell_type": "code",
      "source": [
        "True"
      ],
      "metadata": {
        "colab": {
          "base_uri": "https://localhost:8080/"
        },
        "id": "B6B01l7_fnQK",
        "outputId": "2d30ec34-2738-4b83-ddd7-341289044e06"
      },
      "execution_count": null,
      "outputs": [
        {
          "output_type": "execute_result",
          "data": {
            "text/plain": [
              "True"
            ]
          },
          "metadata": {},
          "execution_count": 54
        }
      ]
    },
    {
      "cell_type": "code",
      "source": [
        "True + True + True"
      ],
      "metadata": {
        "colab": {
          "base_uri": "https://localhost:8080/"
        },
        "id": "YLSuKJjzgANF",
        "outputId": "8e611a0c-39a4-4b40-ebb3-f0b91626356d"
      },
      "execution_count": null,
      "outputs": [
        {
          "output_type": "execute_result",
          "data": {
            "text/plain": [
              "3"
            ]
          },
          "metadata": {},
          "execution_count": 55
        }
      ]
    },
    {
      "cell_type": "code",
      "source": [
        "bool(True)"
      ],
      "metadata": {
        "colab": {
          "base_uri": "https://localhost:8080/"
        },
        "id": "ChyeVOUWgDb9",
        "outputId": "e0792856-d9b5-42ed-ef65-d5fe06327548"
      },
      "execution_count": null,
      "outputs": [
        {
          "output_type": "execute_result",
          "data": {
            "text/plain": [
              "True"
            ]
          },
          "metadata": {},
          "execution_count": 56
        }
      ]
    },
    {
      "cell_type": "code",
      "source": [
        "bool(1)"
      ],
      "metadata": {
        "colab": {
          "base_uri": "https://localhost:8080/"
        },
        "id": "Z-v8svvSgINN",
        "outputId": "0ba958e5-a594-488a-98ac-7e3e89837dfe"
      },
      "execution_count": null,
      "outputs": [
        {
          "output_type": "execute_result",
          "data": {
            "text/plain": [
              "True"
            ]
          },
          "metadata": {},
          "execution_count": 57
        }
      ]
    },
    {
      "cell_type": "code",
      "source": [
        "bool(0)"
      ],
      "metadata": {
        "colab": {
          "base_uri": "https://localhost:8080/"
        },
        "id": "E3QYM2zKgMMF",
        "outputId": "b6748b80-b7c3-4bfe-d317-6202580c4f35"
      },
      "execution_count": null,
      "outputs": [
        {
          "output_type": "execute_result",
          "data": {
            "text/plain": [
              "False"
            ]
          },
          "metadata": {},
          "execution_count": 58
        }
      ]
    },
    {
      "cell_type": "code",
      "source": [
        "bool(23423423)"
      ],
      "metadata": {
        "colab": {
          "base_uri": "https://localhost:8080/"
        },
        "id": "fFEWElAVgNIF",
        "outputId": "82819135-7e52-4506-bd77-dc8361baeb99"
      },
      "execution_count": null,
      "outputs": [
        {
          "output_type": "execute_result",
          "data": {
            "text/plain": [
              "True"
            ]
          },
          "metadata": {},
          "execution_count": 59
        }
      ]
    },
    {
      "cell_type": "code",
      "source": [
        "bool(-1)"
      ],
      "metadata": {
        "colab": {
          "base_uri": "https://localhost:8080/"
        },
        "id": "aUjaEkdtgO1l",
        "outputId": "8948daee-9e54-4f9f-8435-d2a75b47fabd"
      },
      "execution_count": null,
      "outputs": [
        {
          "output_type": "execute_result",
          "data": {
            "text/plain": [
              "True"
            ]
          },
          "metadata": {},
          "execution_count": 60
        }
      ]
    },
    {
      "cell_type": "code",
      "source": [
        "bool(0.1)"
      ],
      "metadata": {
        "colab": {
          "base_uri": "https://localhost:8080/"
        },
        "id": "e-TDH7ncgRr2",
        "outputId": "fd08f0a3-be74-4d14-aa7a-17b44d4c4caf"
      },
      "execution_count": null,
      "outputs": [
        {
          "output_type": "execute_result",
          "data": {
            "text/plain": [
              "True"
            ]
          },
          "metadata": {},
          "execution_count": 61
        }
      ]
    },
    {
      "cell_type": "code",
      "source": [
        "bool(0)"
      ],
      "metadata": {
        "colab": {
          "base_uri": "https://localhost:8080/"
        },
        "id": "BFiXolh2gThg",
        "outputId": "e9783659-6895-4fb9-c495-670ef19e0842"
      },
      "execution_count": null,
      "outputs": [
        {
          "output_type": "execute_result",
          "data": {
            "text/plain": [
              "False"
            ]
          },
          "metadata": {},
          "execution_count": 62
        }
      ]
    },
    {
      "cell_type": "code",
      "source": [
        "bool(None)"
      ],
      "metadata": {
        "colab": {
          "base_uri": "https://localhost:8080/"
        },
        "id": "ki_VhPX4gUwt",
        "outputId": "52948cdc-8d9e-4852-fdac-7daaa4c50a84"
      },
      "execution_count": null,
      "outputs": [
        {
          "output_type": "execute_result",
          "data": {
            "text/plain": [
              "False"
            ]
          },
          "metadata": {},
          "execution_count": 63
        }
      ]
    },
    {
      "cell_type": "code",
      "source": [
        "None"
      ],
      "metadata": {
        "id": "rysDS2a4gXZ8"
      },
      "execution_count": null,
      "outputs": []
    },
    {
      "cell_type": "code",
      "source": [
        "a = str(12)"
      ],
      "metadata": {
        "id": "maG4gXIZgbSX"
      },
      "execution_count": null,
      "outputs": []
    },
    {
      "cell_type": "code",
      "source": [
        "a"
      ],
      "metadata": {
        "colab": {
          "base_uri": "https://localhost:8080/",
          "height": 56
        },
        "id": "bwW2zOx4gsuG",
        "outputId": "2f7c25f8-17e6-404d-b7b2-4189688aad18"
      },
      "execution_count": null,
      "outputs": [
        {
          "output_type": "execute_result",
          "data": {
            "text/plain": [
              "'12'"
            ],
            "application/vnd.google.colaboratory.intrinsic+json": {
              "type": "string"
            }
          },
          "metadata": {},
          "execution_count": 67
        }
      ]
    },
    {
      "cell_type": "code",
      "source": [
        "type(a)"
      ],
      "metadata": {
        "colab": {
          "base_uri": "https://localhost:8080/"
        },
        "id": "z4l2URddgvU3",
        "outputId": "499a0172-7b80-4df0-8001-60e33fb9e281"
      },
      "execution_count": null,
      "outputs": [
        {
          "output_type": "execute_result",
          "data": {
            "text/plain": [
              "str"
            ]
          },
          "metadata": {},
          "execution_count": 68
        }
      ]
    },
    {
      "cell_type": "code",
      "source": [
        "str = 10"
      ],
      "metadata": {
        "id": "L7gbHXzmgxNG"
      },
      "execution_count": null,
      "outputs": []
    },
    {
      "cell_type": "code",
      "source": [
        "str"
      ],
      "metadata": {
        "colab": {
          "base_uri": "https://localhost:8080/"
        },
        "id": "3PWkOaisg0-N",
        "outputId": "fc44acb1-1f94-44a5-bcb4-6f27a3b2c208"
      },
      "execution_count": null,
      "outputs": [
        {
          "output_type": "execute_result",
          "data": {
            "text/plain": [
              "10"
            ]
          },
          "metadata": {},
          "execution_count": 70
        }
      ]
    },
    {
      "cell_type": "code",
      "source": [
        "str(12)"
      ],
      "metadata": {
        "colab": {
          "base_uri": "https://localhost:8080/",
          "height": 188
        },
        "id": "7aBnj4bZg38l",
        "outputId": "2d9cc73a-9ad1-4316-cec3-238ee0f3c1cd"
      },
      "execution_count": null,
      "outputs": [
        {
          "output_type": "error",
          "ename": "TypeError",
          "evalue": "ignored",
          "traceback": [
            "\u001b[0;31m---------------------------------------------------------------------------\u001b[0m",
            "\u001b[0;31mTypeError\u001b[0m                                 Traceback (most recent call last)",
            "\u001b[0;32m<ipython-input-71-58ef7a6bb950>\u001b[0m in \u001b[0;36m<cell line: 1>\u001b[0;34m()\u001b[0m\n\u001b[0;32m----> 1\u001b[0;31m \u001b[0mstr\u001b[0m\u001b[0;34m(\u001b[0m\u001b[0;36m12\u001b[0m\u001b[0;34m)\u001b[0m\u001b[0;34m\u001b[0m\u001b[0;34m\u001b[0m\u001b[0m\n\u001b[0m",
            "\u001b[0;31mTypeError\u001b[0m: 'int' object is not callable"
          ]
        }
      ]
    },
    {
      "cell_type": "code",
      "source": [
        "del str"
      ],
      "metadata": {
        "id": "hslpaiWVg595"
      },
      "execution_count": null,
      "outputs": []
    },
    {
      "cell_type": "code",
      "source": [
        "str(12)"
      ],
      "metadata": {
        "colab": {
          "base_uri": "https://localhost:8080/",
          "height": 56
        },
        "id": "S_4iR7NrhUNg",
        "outputId": "3b410963-2b4d-437a-e4f1-629d0acdb058"
      },
      "execution_count": null,
      "outputs": [
        {
          "output_type": "execute_result",
          "data": {
            "text/plain": [
              "'12'"
            ],
            "application/vnd.google.colaboratory.intrinsic+json": {
              "type": "string"
            }
          },
          "metadata": {},
          "execution_count": 73
        }
      ]
    },
    {
      "cell_type": "code",
      "source": [
        "a = 5\n",
        "b = 2"
      ],
      "metadata": {
        "id": "r7saSQAIhVKT"
      },
      "execution_count": null,
      "outputs": []
    },
    {
      "cell_type": "code",
      "source": [
        "a + b"
      ],
      "metadata": {
        "colab": {
          "base_uri": "https://localhost:8080/"
        },
        "id": "zOtJRXuYiZKr",
        "outputId": "c748f533-3609-4540-bc64-ce83689ddb95"
      },
      "execution_count": null,
      "outputs": [
        {
          "output_type": "execute_result",
          "data": {
            "text/plain": [
              "7"
            ]
          },
          "metadata": {},
          "execution_count": 75
        }
      ]
    },
    {
      "cell_type": "code",
      "source": [
        "a - b"
      ],
      "metadata": {
        "colab": {
          "base_uri": "https://localhost:8080/"
        },
        "id": "5RdnPzRyibMv",
        "outputId": "a3c8a604-6db1-47b6-9990-b1184513c7a7"
      },
      "execution_count": null,
      "outputs": [
        {
          "output_type": "execute_result",
          "data": {
            "text/plain": [
              "3"
            ]
          },
          "metadata": {},
          "execution_count": 76
        }
      ]
    },
    {
      "cell_type": "code",
      "source": [
        "a*b"
      ],
      "metadata": {
        "colab": {
          "base_uri": "https://localhost:8080/"
        },
        "id": "ANOpHILcicOF",
        "outputId": "1334d268-6990-4c93-a3f2-7022bbc4cf26"
      },
      "execution_count": null,
      "outputs": [
        {
          "output_type": "execute_result",
          "data": {
            "text/plain": [
              "10"
            ]
          },
          "metadata": {},
          "execution_count": 77
        }
      ]
    },
    {
      "cell_type": "code",
      "source": [
        "a/b"
      ],
      "metadata": {
        "colab": {
          "base_uri": "https://localhost:8080/"
        },
        "id": "O3iUUKNrieTs",
        "outputId": "9f01b8ba-a846-442e-fef6-b6f5bfaaa5c0"
      },
      "execution_count": null,
      "outputs": [
        {
          "output_type": "execute_result",
          "data": {
            "text/plain": [
              "2.5"
            ]
          },
          "metadata": {},
          "execution_count": 78
        }
      ]
    },
    {
      "cell_type": "code",
      "source": [
        "a**b"
      ],
      "metadata": {
        "colab": {
          "base_uri": "https://localhost:8080/"
        },
        "id": "qq2ng2cJiexd",
        "outputId": "70a6b64f-5ff2-496b-ad3f-3c50727fec54"
      },
      "execution_count": null,
      "outputs": [
        {
          "output_type": "execute_result",
          "data": {
            "text/plain": [
              "25"
            ]
          },
          "metadata": {},
          "execution_count": 79
        }
      ]
    },
    {
      "cell_type": "code",
      "source": [
        "a//b"
      ],
      "metadata": {
        "colab": {
          "base_uri": "https://localhost:8080/"
        },
        "id": "xrWKGJ8uiftc",
        "outputId": "255bb084-a731-4eb4-a5ad-cdec18a62b5e"
      },
      "execution_count": null,
      "outputs": [
        {
          "output_type": "execute_result",
          "data": {
            "text/plain": [
              "2"
            ]
          },
          "metadata": {},
          "execution_count": 80
        }
      ]
    },
    {
      "cell_type": "code",
      "source": [
        "a%b"
      ],
      "metadata": {
        "colab": {
          "base_uri": "https://localhost:8080/"
        },
        "id": "fLtshJJ0ihja",
        "outputId": "23ca83f6-b77f-4fea-dfe2-00d57d9e557d"
      },
      "execution_count": null,
      "outputs": [
        {
          "output_type": "execute_result",
          "data": {
            "text/plain": [
              "1"
            ]
          },
          "metadata": {},
          "execution_count": 81
        }
      ]
    },
    {
      "cell_type": "code",
      "source": [
        "3 > 5"
      ],
      "metadata": {
        "colab": {
          "base_uri": "https://localhost:8080/"
        },
        "id": "s_4j-exwiiY3",
        "outputId": "e8ba4a69-1e73-485b-c254-91c03b2e1751"
      },
      "execution_count": null,
      "outputs": [
        {
          "output_type": "execute_result",
          "data": {
            "text/plain": [
              "False"
            ]
          },
          "metadata": {},
          "execution_count": 82
        }
      ]
    },
    {
      "cell_type": "code",
      "source": [
        "result = 3 > 5"
      ],
      "metadata": {
        "id": "1jX0_I60ivVe"
      },
      "execution_count": null,
      "outputs": []
    },
    {
      "cell_type": "code",
      "source": [
        "result"
      ],
      "metadata": {
        "colab": {
          "base_uri": "https://localhost:8080/"
        },
        "id": "-90iYTPmiw-g",
        "outputId": "fa229558-8312-43f4-cb23-638d0f12b756"
      },
      "execution_count": null,
      "outputs": [
        {
          "output_type": "execute_result",
          "data": {
            "text/plain": [
              "False"
            ]
          },
          "metadata": {},
          "execution_count": 84
        }
      ]
    },
    {
      "cell_type": "code",
      "source": [
        "result = 3 < 5"
      ],
      "metadata": {
        "id": "nIB3s_Q4ixtz"
      },
      "execution_count": null,
      "outputs": []
    },
    {
      "cell_type": "code",
      "source": [
        "result"
      ],
      "metadata": {
        "colab": {
          "base_uri": "https://localhost:8080/"
        },
        "id": "7dNujTFMi0zG",
        "outputId": "3889f709-67a3-4cef-d254-33b9f2728d73"
      },
      "execution_count": null,
      "outputs": [
        {
          "output_type": "execute_result",
          "data": {
            "text/plain": [
              "True"
            ]
          },
          "metadata": {},
          "execution_count": 86
        }
      ]
    },
    {
      "cell_type": "code",
      "source": [
        "result = 3 != 5"
      ],
      "metadata": {
        "id": "0TS9JeSUi1g2"
      },
      "execution_count": null,
      "outputs": []
    },
    {
      "cell_type": "code",
      "source": [
        "result"
      ],
      "metadata": {
        "colab": {
          "base_uri": "https://localhost:8080/"
        },
        "id": "Gc3knbKBi46Z",
        "outputId": "bb0faafc-eb5e-4852-c48e-d679074a8e61"
      },
      "execution_count": null,
      "outputs": [
        {
          "output_type": "execute_result",
          "data": {
            "text/plain": [
              "True"
            ]
          },
          "metadata": {},
          "execution_count": 88
        }
      ]
    },
    {
      "cell_type": "code",
      "source": [
        "result = 3 == 5"
      ],
      "metadata": {
        "id": "z_XqYeUFi5tB"
      },
      "execution_count": null,
      "outputs": []
    },
    {
      "cell_type": "code",
      "source": [
        "result"
      ],
      "metadata": {
        "colab": {
          "base_uri": "https://localhost:8080/"
        },
        "id": "Q044Gmxqi8mp",
        "outputId": "e0b5a4ca-b4c1-47bf-cf95-bbcc1ce00d2e"
      },
      "execution_count": null,
      "outputs": [
        {
          "output_type": "execute_result",
          "data": {
            "text/plain": [
              "False"
            ]
          },
          "metadata": {},
          "execution_count": 90
        }
      ]
    },
    {
      "cell_type": "code",
      "source": [
        "print('합계는 a + b = ', a+b)"
      ],
      "metadata": {
        "colab": {
          "base_uri": "https://localhost:8080/"
        },
        "id": "C7ycGKtXi9Jw",
        "outputId": "f47e7139-169e-48bd-a4ec-15557588c6de"
      },
      "execution_count": null,
      "outputs": [
        {
          "output_type": "stream",
          "name": "stdout",
          "text": [
            "합계는 a + b =  7\n"
          ]
        }
      ]
    },
    {
      "cell_type": "code",
      "source": [
        "print ('3과 5는 같다 : ', result)"
      ],
      "metadata": {
        "colab": {
          "base_uri": "https://localhost:8080/"
        },
        "id": "eP9XU3whjE_J",
        "outputId": "e586468c-6915-4f56-f002-435c0bbc6eb9"
      },
      "execution_count": null,
      "outputs": [
        {
          "output_type": "stream",
          "name": "stdout",
          "text": [
            "3과 5는 같다 :  False\n"
          ]
        }
      ]
    },
    {
      "cell_type": "markdown",
      "source": [
        "지폐계수기 프로그램 작성\n",
        "\n",
        "통장에 돈이 6547000원 있는데\n",
        "\n",
        "인출 할때, 지폐의 갯수가 최소가 되도록 프로그래밍 해주세요."
      ],
      "metadata": {
        "id": "vNhiAnoIjbvO"
      }
    },
    {
      "cell_type": "markdown",
      "source": [
        "5만원권 .... 장\n",
        "\n",
        "1만원권 .... 장\n",
        "\n",
        "5천원권 .... 장\n",
        "\n",
        "1천원권 .... 장"
      ],
      "metadata": {
        "id": "6t1pEGPikCw2"
      }
    },
    {
      "cell_type": "code",
      "source": [
        "x = 6547000\n",
        "\n",
        "\n",
        "a = x // 50000\n",
        "b = (x % 50000) // 10000\n",
        "c = (x % 10000) // 5000\n",
        "d = (x % 5000) // 1000\n",
        "\n",
        "print ('5만원권',a,'장')\n",
        "print ('1만원권',b,'장')\n",
        "print ('5천원권',c,'장')\n",
        "print ('1천원권',d,'장')"
      ],
      "metadata": {
        "colab": {
          "base_uri": "https://localhost:8080/"
        },
        "id": "wunCYl4djO7f",
        "outputId": "83d662a1-845b-4a2f-92e9-81783479bbf6"
      },
      "execution_count": null,
      "outputs": [
        {
          "output_type": "stream",
          "name": "stdout",
          "text": [
            "5만원권 130 장\n",
            "1만원권 4 장\n",
            "5천원권 1 장\n",
            "1천원권 2 장\n"
          ]
        }
      ]
    },
    {
      "cell_type": "markdown",
      "source": [
        "![image.png](data:image/png;base64,iVBORw0KGgoAAAANSUhEUgAAAu8AAAF+CAIAAAC9M2N9AAAAAXNSR0IArs4c6QAAAERlWElmTU0AKgAAAAgAAYdpAAQAAAABAAAAGgAAAAAAA6ABAAMAAAABAAEAAKACAAQAAAABAAAC76ADAAQAAAABAAABfgAAAADEZTa2AABAAElEQVR4Ae2dCXxU1dn/B5KwgyirShTzD4ILilsromj0VZZq3WqNoualNUKDSpHXBRW1gMXSgqKCwaAYKxpUfNUqBlyiFY3WDV9QQWJcUBSQpeyQBP6/9OplmC2TmbnrfO/HT7xz7lm/z2Xub57znHOb7N69O/DzUVlZWVpaWlFRUV1dXVtb+3My/08lgczMzJycnLy8vIKCgr59+6ayauqCAAQgAAEIpCWBpuaohw8fnp+frwft3Llzt27dKpXDYQUBsRVhcRZtMTf5cwIBCEAAAhCAQGIEmuiBrZIDBw7Mzs6ePn16VlZWYhVRqrEEampqioqKVqxYUV5e3tiy5IcABCAAAQhAwCRQr2bkIairqyspKTFTObGNQGFhYUZGRnFxsW0t0hAEIAABCEDAZwSavP3225ryqKqqwivjiGnlocnNzS0rKyOGxhH+NAoBCEAAAj4gkKGg1AEDBvTv398Hg/HiEOSYkaB5/fXXzz77bC/2nz5DAAIQgAAEHCfQVCuYBg8e7Hg/0rkD4i8rpDMBxg4BCEAAAhBIhkAT+Wa0yoZppmQgJllWvplWrVrpb5L1UBwCEIAABCCQngSaaNjGsqb0HL9LRt2kyU+Ly1zSH7oBAQhAAAIQ8BCBPfvNeKjTdBUCEIAABCAAAQiYBFAzJgpOIAABCEAAAhDwJAHUjCfNRqchAAEIQAACEDAJoGZMFJxAAAIQgAAEIOBJAqgZT5qNTkMAAhCAAAQgYBJAzZgoOIEABCAAAQhAwJMEUDOeNBudhgAEIAABCEDAJGCJmpk9e3afPn2WLVtmNmOcrF27Vi/rfuutt0LSjY87duyYO3fuoEGD2rVr16FDh9/+9rfaIXfXrl1mZlWoaqMVN7PFc6IeqifqTzyZQ/KMHz9e7+nctm1bSDofIQABCEAAAhBwhIAlaiaBkUgcjBs3TiLjL3/5y4YNG1atWnXdddfdfvvt06dPr62tTaDChIt88803EyZM6NWrl3a06969u7oRLssSrpyCEIAABCAAAQiknEBq1Iz8JXr2m8dll1328ccfG4LASGzQmbFgwQK9eXHy5MlHHXVU06ZN9b6FE088ccqUKTNnzly0aFH8w5YeMrsR8SS2a6eysvK8885r0aKFTrRF8ieffHLsscdefPHFzzzzDDsmx28FckIAAhCAAATsJJCZksb69esXz8NeL4SK2NzOnTvfeOONU0899aCDDgrO0LNnT4mbN9988/jjjw9Oj3E+5D9HjAwxLm3cuHHq1KkXXHDBH//4R8kp5WzdurXq08m9996rPoR0L0ZVXIIABCAAAQhAwDYCqfHNGN3VbNETTzxhBL7IL6JpmiuvvFJOmgaFTl1dnYROy5YtMzIygkcuSaHXMW7evDk4MZ5zOWDy8vJWrlxpZI4z4Ob7779funSpChpSxiirgZxwwgma/FqxYoXZ9IwZM9QxXVIMjZnICQQgAAEIQAACjhBImZrZsmXL//zP/zz11FMTJ05ct26dMU0zePBg+TYkcYIFzcknnywdEBwmLBEjcbB+/Xo5aYIpKGJGKqdNmzbBiXGeq7ZNmzbFmbmx2YYNG6aOaVBjx45tbFnyQwACEIAABCCQWgIpUzOLFy/WEqQ77rhDMsWcptGszTXXXPP444/Lt2H2e+HChdIBiobRRJKR2KxZM00z/fOf//ziiy/MbDr57LPPPvzww1NOOSU40brz/fffX7E+GkVw3LG6+t5777Vv3z47O9u6pqkZAhCAAAQgAIGECaRMzSTcA6Og1kufe+65Clh5//33tSpbekJBwXL2jBgx4phjjkmychXXNJZie4PrmT9/fseOHYO9RFoZPnLkSAX83nPPPXLtKLMcTgor/tvf/nbttdeiZoLpcQ4BCEAAAhBwD4GUqZnevXsr4kS+GTldDN+GpICUwX333XfppZfKtxF7zM2bN7/hhhuuuuoqzd0oc5cuXbQ2+09/+pPmdEKCaWLXE+2qlErIjNWAAQN+/PHHEC9R3759X3jhhe3bt+tEQueII46Qc2jOnDlyMuljtMpJhwAEIAABCEDAQQKpWdOkAWj5j3wYzz777JgxYxSEq5gVTSRpkki+Da1LikcKSNBc+J/DQRxq+oADDrj1P4ez3aB1CEAAAhCAAATiJJAyNaP2NJtzyX+OaG1rh9/y8vJoVxtMlzxq1N4zZoWaNkps21+zhuATIn+DaXAOAQhAAAIQcJxAymaajJEYa6HliYlxxNi/TpdiFDQuxShu0pRs0hZ8RuyLErUCPDiw18wW8SSeITS4GWDEmkmEAAQgAAEIQMAKAqn0zah/sd0ncpAYm9FFG0nsXfikM7Qtb7SySjcyaIcbI49iX4Iza72S8VGLqoLTQ85jD0GZtcfMd999F1KKjxCAAAQgAAEIOEUgxWrGqWEY7TYoRMzuffXVV+Y5JxCAAAQgAAEIeJqArTNNWhGtddExeMWeaZJzxfS7xKiESxCAAAQgAAEIpBWBFKsZg52xP54WP0c8NJ0UA/HRRx+t1wtELGgkxi4eo2YuQQACEIAABCDgSwKWqBlfkmJQEIAABCAAAQi4k4AlasZ4E1O01UmxFwRpLkkzStHKKj12cXdSplcQgAAEIAABCFhHoH5/W83gWNcANcdDQCoNK8QDijwQgAAEIACBcAKW+GbCmyEFAhCAAAQgAAEIWEQANWMRWKqFAAQgAAEIQMAmAqgZm0DTDAQgAAEIQAACFhFAzVgElmohAAEIQAACELCJAGrGJtA0AwEIQAACEICARQRQMxaBpVoIQAACEIAABGwigJqxCTTNQAACEIAABCBgEQHUjEVgqRYCEIAABCAAAZsINM3MzKypqbGpNZqJRED8ZYVIV0iDAAQgAAEIQKBhAk1zcnKWLVvWcEZyWEZA/GUFy6qnYghAAAIQgIDPCTTNy8ubN2+ez0fp7uGJv6zg7j7SOwhAAAIQgIB7CTR5++238/Pzq6qqsrKy3NtN//ZM00y5ubllZWV9+/b17ygZGQQgAAEIQMBCAvUvO9Rbqevq6kpKSixsh6qjECgsLMzIyCguLo5ynWQIQAACEIAABBog8NOrmwcOHJidnT19+nQ8NA0AS91leWWKiopWrFhRXl6eulqpCQIQgAAEIJB2BH5aoa0HqjwEmvKYNGnSkiVLWOVk3Y0gtiIszqIt5kgZ61BTMwQgAAEIpAmBn3wzxmgrKytLS0srKiqqq6tra2vTBIHNw9RibK1gUthvQUEBsTI2w6c5CEAAAhDwJYG91IxHR9ikiR9G4VH4dBsCEIAABCDgOAH2AnbcBHQAAhCAAAQgAIGkCKBmksJHYQhAAAIQgAAEHCeAmnHcBHQAAhCAAAQgAIGkCKBmksJHYQhAAAIQgAAEHCeAmnHcBHQAAhCAAAQgAIGkCKBmksJHYQhAAAIQgAAEHCeAmnHcBHQAAhCAAAQgAIGkCKBmksJHYQhAAAIQgAAEHCeAmnHcBHQAAhCAAAQgAIGkCKBmksJHYQhAAAIQgAAEHCeAmnHcBHQAAhCAAAQgAIGkCKBmksJHYQhAAAIQgAAEHCeAmnHcBHQAAhCAAAQgAIGkCKBmksJHYQhAAAIQgAAEHCeAmnHcBHQAAhCAAAQgAIGkCKBmksJHYQhAAAIQgAAEHCeAmnHcBHQAAhCAAAQgAIGkCKBmksJHYQhAAAIQgAAEHCeAmnHcBHQAAhCAAAQgAIGkCKBmksJHYQhAAAIQgAAEHCeAmnHcBHQAAhCAAAQgAIGkCKBmksJHYQhAAAIQgAAEHCeAmnHcBHQAAhCAAAQgAIGkCKBmksJHYQhAAAIQgAAEHCeAmnHcBHQAAhCAAAQgAIGkCKBmksJHYQhAAAIQgAAEHCeAmnHcBHQAAhCAAAQgAIGkCKBmksJHYQhAAAIQgAAEHCeAmnHcBHQAAhCAAAQgAIGkCKBmksJHYQhAAAIQgAAEHCeAmnHcBHQAAhCAAAQgAIGkCKBmksJHYQhAAAIQgAAEHCeAmnHcBHQAAhCAAAQgAIGkCKBmksJHYQhAAAIQgAAEHCeAmnHcBHQAAhCAAAQgAIGkCKBmksJHYQhAAAIQgAAEHCeAmnHcBHQAAhCAAAQgAIGkCKBmksJHYQhAAAIQgAAEHCeAmnHcBHQAAhCAAAQgAIGkCKBmksJHYQhAAAIQgAAEHCeAmnHcBHQAAhCAAAQgAIGkCKBmksJHYQhAAAIQgAAEHCeAmnHcBHQAAhCAAAQgAIGkCKBmksJHYQhAAAIQgAAEHCeAmnHcBHQAAhCAAAQgAIGkCKBmksJHYQhAAAIQgAAEHCeAmnHcBHQAAhCAAAQgAIGkCKBmksJHYQhAAAIQgAAEHCeAmnHcBHQAAhCAAAQgAIGkCKBmksJHYQhAAAIQgAAEHCeAmnHcBHQAAhCAAAQgAIGkCKBmksJHYQhAAAIQgAAEHCeAmnHcBHQAAhCAAAQgAIGkCKBmksJHYQhAAAIQgAAEHCeAmnHcBHQAAhCAAAQgAIGkCKBmksJHYQhAAAIQgAAEHCeAmnHcBHQAAhCAAAQgAIGkCKBmksJHYQhAAAIQgAAEHCeAmnHcBHQAAhCAAAQgAIGkCKBmksJHYQhAAAIQgAAEHCeAmnHcBHQAAhCAAAQgAIGkCKBmksJHYQhAAAIQgAAEHCeAmnHcBHQAAhCAAAQgAIGkCKBmksJHYQhAAAIQgAAEHCeAmnHcBHQAAhCAAAQgAIGkCKBmksJHYQhAAAIQgAAEHCeAmnHcBHQAAhCAAAQgAIGkCKBmksJHYQhAAAIQgAAEHCeAmnHcBHQAAhCAAAQgAIGkCKBmksJHYQhAAAIQgAAEHCfgVTUzefLkli1bTp061SSoc6Uo3UzhBAIQgAAEIACBdCDQZPfu3V4c56ZNmzp06JCZmdmqVau1a9fut99+27Ztq62t1Xnbtm29OCL6DAEIQAACEIBAYgS86puRZBk9enRdXZ3ki0a+bt06nSsFKZPYfUApCEAAAhCAgHcJeNU3I+Jyz3Tq1GnHjh0G/ebNm69ZswY14917kZ5DAAIQgAAEEiPgVd+MRivhMmrUqGbNmulcf3WOlEnsJqAUBCAAAQhAwNMEPOybEXfTPYNjxtN3IZ2HAAQgAAEIJEPAw74ZDdtwz2RlZeGYSeYmoCwEIAABCEDA0wS87ZsRerlnhg4dOmvWLKaZPH0j0nkIQAACEIBAwgT2UjOVlZWlpQ9WVLxcXf1DbW1dwpVSMAaBzMyMnJyueXlnFhRc1bdv3xg50+SS7rri0tKXKypWVVfvqq1Nk1HbPMymmZldcnLOzMsbXlDAXWczfJqDAARsILBHzQwfPvSll/53xIg2gwfv07Nni6ysJjY0n4ZN1NTsXrZs+7x5/542bfOgQecXF89KQwjmkAuGD3/mpZc2jxgRGDw40LNnICvLvMRJKgnU1ASWLQvMm9dm2rQLBg0qLS5OZeXUBQEIQMBpAj+pmYED+2Vnr5g+vRMixjaLSNYUFa1ZsSK7vPwt2xp1VUMnDhy4JDt7y/TpiBj77FJT07qo6MgVK94pL7evUVqCAAQgYDGBejUjr0xd3aslJZ0tbovqIxAoLFydkXFGGnpo5JWZW1e3paQkAhSSLCbQurDwwowMPDQWY6Z6CEDAPgJN3n777fz8QVVV/w+vjH3Ug1qShyY394uyspfSKppBsTJn5edvrqrCKxN0L9h4WlPTJjd3QVlZWt11NvKlKQhAwG4CGZmZdQMGfNu/P+82shu90V5GRpOamp2vv77h7LPPc6YHTrR66513vjdgQKB/fycap81AICNjZ01Nzeuvn3/22eCAAAQg4AMCTbWCSWG/PhiJd4cg/rKCd/ufQM+1gqk+7JfDQQKDB9dbgQMCEICALwg00YLhrVuPZprJQWtqsqlVq49ratJocXJGVtaurVuZZnLwrgvU1DRt1apOa504IAABCHifQFPtK4OUcdaO4p9uu/vU7yvDYmynbzt293HWArQOAQikkIC332yQQhBUBQEIQAACEICARwmgZjxqOLoNAQhAAAIQgMBPBFAz3AoQgAAEIAABCHibAGrG2/aj9xCAAAQgAAEIoGa4ByAAAQhAAAIQ8DYB1Iy37UfvIQABCEAAAhBAzXAPQAACEIAABCDgbQLxqplduwIVFZt++9vqDh0+btdu0aBBy+fOXb9jx25z9GvX1g4cuHz27HVmSvwn48d/P3z4N9u27Yq/SIyc6oN6ov7EyBPnpbfe2tynz6fLlm2PM7+yKbOKqKCGo0GlcFzx94GcDhOYPTswcGBg7drAtm2B4cMD48enoD+qRFWpwsSOJIsn1iilIAABCNhFIC41U1u7e/LkVbffvvK667qsWnXUhg19/vKXbrNmrR03buWWLamRIPGM19AHTZp8EPJfktrF1B/x9EF5DN2W2j7E2bRvs+nx36RJw//16SO1GAGCHtUNFn/rrQgFldRg2YiNqhtKD2k0Ys7IrQalRqzKrFlk4jxSqJzibJFsEIAABFxDIC418+GHW+fMWXf//QedeGLrzMwmTZsGjjqq5eTJ3ebP3/jKKxsbHIucJRddVP3vf9cZOeWJCZECt922csaMNa1afRScrmwhNbds2bS4+KDdu48L/u+xxw4JyWb1xw4dMsvLe4T0oXPnrGbNmljdtG/rHzIksHt3w/8tWhTo2TMChLFjY5VdujRw9NERShlJscs+9ljkguqGOhPc52g5I5cPSg2u6scfA3oZ58KFe2oWGQ4IQAACEGiIQFxq5tVXNx1zTKvc3ObBtenjWWe1e+ONzTt37plvCs5gnOvqBx9sPfrolu3aZRgpY8fuHywFXn/90IMPbqb/dBKcrmzhtUVLCfaXXHbZl9GyRUz/8cfa6uqdq1b9NDMVLLZOPjmSJyCslm++2dmtW1arVnHBDCtNws8EDC9FiDfCcDnccUf9A973x5o1gZUrA198kchA9bIIvfqqru4nUCEun9tuS6ROykAAAhDwCIG4HsCaacrIaCLnd/ChFDlLtm7dVVcX6zEjrfDRR1t/+cvWIcVVlcJuHn983YgRKwoKOowc2XnYsG8ee2xdYtEzwf6SRnlr1Pl//nNzXl7b0tK1P/xQ/wa+YLG1cGEkT0AwhYAiGXZ9/fXOiRN/yMz8UL6lXr0++fjjRIMb9q457T517Bjo2jVQXb3XwLdvD3z7bSAjo35ax9+H5Nr8+YHFiwOvvhrY2LDLMxSG/Dqffx745z/r9ZCOYJePah43LjQ/nyEAAQj4iEBcakazS3rqh/w2Vooe5HJISNbEAPLllzv0juhDD21h5pE2+uqrnVOnru7bd6kmqp56KueOOw4YNaqLpm/efXdLv37LdOmzz7aHyxqlKKg2eDZK5431xJjdME4WLty8ePG2Bx446KSTWl955dfSJSEZGvwox8z772+R7jEcS0uXHiFHVIOl0iTD5MmTN23alNRgFX8ur8PBB0etxHDemIEm4Se9egU+/jhq8cQuhHg+1Ohll+1Vk3SJxFmrVoEZM/ZKj/FBQmTWrMBzz0nmB154IYIvSlWpQrWlWJ+QQ/84n38+cOihgZYtA5rzErFED9lLVku0NOUgAAEIOEMgLjVzxhltKyu3fPrpXkt7qqp2LFiw8dRT28SOF/nXv7YceWTLzp0zjfGpSM+en9x447edOtVHnzz8cPfDDmuh72cd3bs3u+++bCV26ZI5adIPxx33WVlZhBVS48YdEDwhpXMVUXHFAhtCJ059o+//11/fNGHCD3LGHHBA1ujRXS66aN9zzqmaNm3N+vU/hfgYfY7xV5XItXPQQc0OPxwFE4HTrbfe2qFDhzFjxsSlafSo7t49Qi1Kkm8m9iHfg4wR479+/WJXkMjV4AAXNR0c1qPwFzlLNPUzbFjDNatseXlgxIjADTcEzjkncPvtgfvuCzz8cKgoUVWqUJkV6xNySAk9+2xgzJjAlCmBf/wjcOedCax+ko1kKdlLVgupno8QgAAEXE4gLjVz7LGtNBl03XUr3nlnizwr+rX8/vtbr712xbnnth84cJ8YI9y0qe6jj7Ydc0xLzUkZ2RRq88UXR86Zk3PppfuZEie4BiXm5+83a1b3Tz89QifBl2KcN3amSXE2EkyKPr7nnm6SU6pZ/ieNcfbsQz74YIvWouuREc+xcmXNE0+s+9Wv9tl334Yet/FU57s8d911V0ZGxpQpUzp16hSvplm/PrAzyEO2eXNA3p3sbMfYaPJLXhbrju+/r1ch115bL2Ly8+tdL4cdFpg2rd5P8/vf18+7NXgvVlYGbr45oNAiFdQEkwKP5Iv67W/1rzSgf6txHIaOkY1kqczMTFktjkJkgQAEIOAiAnGpGT3p5br4058OmDJlVZcu/9e+/aKxY7/74x87jxnTtXnzWNNMetgvX779+ONba8QR54lCpo3CP1qxX4sE2fPP/1trrObO/X9HHLGXT6V375ZyF11wQXvDXRTbUKrnscfWtm2bcc457WPnTNurI0eObNWq1c6dO3fs2NGwptEsyYEH/hTKaiJT3MyWLQ37Zsz8njtZvrw+0kXzRBddFNByQeM49tj6FNF46aX6wN5oh8jcfXdg6NDA6NGB/v1/yqVZOQma00+vn7RqaH+aYB0jG8lSspesFq1B0iEAAQi4k8BPE0ANdk5fswqV1X/RchrekZCr2sqlffsMrVdSurG+WkusQ/JI5Ywa9a0S7767m+nCCckT/FEOFf2nNVaaq1L6mjX1Ucbyjvz974fE6SCROBs6tENwndHO+/Vrs2jR4dGuaou8hx76UQvXNQ2ieS6tV4+WM5700CjreMp4Ko+elOqvYjKW6/kdfOiJO2rUXvEl4bEmJ5/8UwkFhbhn0bJ61bZt/cYz0mEahWaaNFP25JPBg2v4XCrEFCLBuffbL/DnPwcnRDiXDJIb5vHHA1I/wYf6I6RxHEOHDn3++edraurj341j7dq1vr8Vfx6r9/4/cODAlyRwOSAAgTAC8aoZFZQ0ufji6mnTDtIzPqye+j3lhgz58vLLOwwZ8tP0kMKENTMl2RGnyAivMyQlmh4Kydaoj1IksZdhK6RX82I9e+6JYjbqV5zyjTd+9/vfdzz99LaSR0bsji4ZlBrVByNzaJR1AlW4skjHjh31gFTXminAqkmTUaNG3XzzzXPnzt3TWT16i4vr/0vm0Ark2IuQFcgij0WHuFRswx0xVgxFy/fBB9GuJJ4eHiujunr0CDzySFx1Riwe0HTWrD//+c933323bj9Dbu63336GveKqlkw2EpA/+eAY4fA29oSmIOBCAj97ti3ommJp5TXRhnshi55Cppy0aZ62zgvZPS+ZCSbJKWkL+YriGZOUWUhMcfDHaCu0P/lkW2Hh18cd1+rqqztLysTTUHrmmTp16tatW6Vjmjdvft11161Zs2bixIlt5c9I4WGIIQWXmP8pOFfb5WnTPDNFJwqzTUzKqLeZcd1Le8Yk75HRnNG3KEpiT36dhS+S0mRnyH8NvtlA67rLygIXX1zvIjLKaj3XJZfUJ2pOKtIhW8gisousIxvJUtu2bZPVIuUlzXkCfv3N4zxZeuB9AhaqGa123rChLtyrYbhYgkVDyHnsDWPkTQkPrwlJSfJdBzHMqqjKF1/894UXVisy+q67Dmzd2kKAMbrhlUs33XRTbW2tVTrGBgqKQZYGalY/VRr50AsTQjRH+MfwBdXhdYVsDxOsw4zzBjeMUSzwaacF1J9bbqnfeMYo9dFH9SHGmpuQa0qCKcoRrGlkL1ktSkaSnSTADKCT9Gnb9QQa+aMzEIg9L6OZJnPI2oWlR48WWvxspqTkxPCmxKhKL1L4+9/rpzbiOeKZaQqpZ+PGOq1+UhB0PFE+IWXT7eOECROuuuqqFDtj7IS4enXDG/fJDzRnTuRXLhghQTZ0WAvB/vrXwAUXBCREgj1Jcg4ddVTgoYfqF0xppdL99wda14fkRzwMTaN5wAcffDBiBhIdJ4BvxnET0AHXEmi0mtHkS4y4GXOcmk4y1mZryY+ZaJwYYb+aWgpJD/44bFin4I+WnkeLjInYqKKhL7kk3nXjEWtIq8TRWmvj3UOLiSRHtEK7RWjUlOvGJNWltdyiHSxlzF4q8fDDA4rm0QKx6GrGyC5N422rmaP23Qm+Gd+ZlAGlkoBVEyWrV9cuWbLtF7+I+kNQ00khE0zBH7X0Cc9HKu3s2roUmRs+NRM7xXxVdbSyWmqklT4KGQmvp8GywUUkAiZOrA8uNhLNsi6E2blzICcnUFERuuGe0VVtDfzpp4H99/eALHMhW7oEAQh4gUCjfTNxDurzz7dnZTU55JC9XlQZZ1mypREBBcwmvOLaqbIuNM+++wauv75+N+FVqwKFhfVrnTTHpEO+Ja2H15sK9CZLzTc15Jhx4cjoUjABZpqCaXAOgWACjVYzccbNnHlmO/0X3FLIud4/EPsVBNGmtELqSf6jXhKpV0XGqEfvUoj/hd6Keja2qNGEWow60+SSNmfzcNBMnEYy/EAxMjcYwBujbPyX+vbVqzoC8+bVv9bg3XcDX39dX1TBxcccEzj33PoXJiBl4ofpypzMNLnSLHTKLQTqVxdrisct3UnXfmhNlv9+dX333XennXbab37zGwWWhmia+u9lLbrhcJZAkyb+u+ucJWpp65s3b+7atav+WtoKlUPAowSsipvxKA66nUICBx54YLdu3f7617824iVNKWyeqiDgLwL4ZvxlT0aTYgKomRQDpbpgAn/5y1+0J1tcL2kKLsY5BCAQiQC+tEhUSINAPYFGx82AzVsExo4dq/3Qgvsc/gsvJCXko8qGpMT+GJJfbzb45ptvjF3z9eJJHVdccUVwfziHAATiIRDy7y6eIuSBQPoQwDfjc1tr/7p99j4UwhJ8tGnTpvXeR8uwQ/6V4CNr7yMj7NDXrnn4nC/Dg4CNBKL5ZvQ+imuuuUb/6GZr24JIR1lZWbt27fRtEPLbJlJe0iDgSQJEAbvCbNZFAesLLto3oA0j/9e//pWXl2e8qkk9MV45KS2lc6KAbeDfQBOO3hsN9I3LYQT070ieTv0Nu1Kf8Nlnn12inT332+/vf/+7QtaC8yge//LLL1dK+KXgbJxDwNME8M142nxu7/yNN96ooBn5dTz8qia3M6Z/6UKg/jdA9KNXr14jRoyoqKh4/PHH67SN9c+HzpXy/vvvjxw5MkTl/JyF/0PADwRQM36wojvHoF+E33777fXXX2/Jq7PdOWZ6BQErCcTws0rraDeEiy66aNasWZ98smcDLZ0rpaCg4KyzzrKya9QNAYcJoGYcNoCPm9cPwQ8//HDixImaWvLxMBkaBOwhENs3oz7su+++w4cP37BhQ0lJiSJplKK/OlfEzLXXXqtwOKXs2rVL/pvzzz9fiR06dPjd7363ePFis/9SSx9//LESdUnNab+o4uJioyozDycQcCeBppmZGTU17GPmpHXEX1ZwsgeWtR1Nx+i2C9TUWNYsFcdBoKam3gocniIQwzdjjKN///5Dhw4tLS198803laK/Or/66qtzc3P1USHAkydPPvfcc6VsnnjiiRkzZqxcufKcc8554403jOJvv/22rm7fvv3RRx9dsGBB7969b7jhBmKHDTj8dTmBzJycrsuWbT/yyP+81cXlnfVp98RfVvDp4CIPq0tOzvfLlgWOPDLyZVJtILBsmaxgQzs0kSoCDfpm1FBmZmZhYaHUycyZM3v06KG/csP8+te/NsouWrRo2rRpEig33XSTcir/oEGDFJsvvXLooYdqo+GXX35ZpaZOnaodL3VVIfxaEPn555+vWrWKmJtU2ZF6LCKQmZd35rx5L6NmLOIbT7Xz5v1bVognp2/ynJmX96jeKISacdCi8+bJCg62T9MJEGjQN6M6Dz74YM03FRUVKQBf00ZPP/20JpWUrrLl5eXt27dXbI0hZZSozRn0USE1S5YskZpRiqLcqqurtXhKAkjZJHSUyAEB9xNoWlBw1bRpm5lscspUIi/+soJTHXCk3eEFBW2mTWOyyRH49Y3W1Ii/rOBYB2i48QTi8c2oVmWTM0Yumeeff15+l+OO++k1fJo/UlR+ixYt5Gt5PejQ5padO3eWglHBM888U2E3J554Yt++fSdNmqS4N/anabyhKOEMgUzdtYMGnV9U9GpJSWdnupDerRYVrRF/WSGtMGi8FwwaNLeoaEtJSVoN3CWDbV1UJP7pdte5BL4N3ZAzxgiUOf74400NpI1qvvrqq3fffVdaJ7wPq1evVmK/fv3mz5+veJpnnnlG2ysopWfPnrfffnuwOye8LCkQcAOB+jVNxcWzVqzILixcjYfGTpOItpiLvPjb2a5L2iotLj5yxYrWhYV4aGy1SE2NmIu8+NvaLo2lgkA8M03R2lHkb3Z2tlZxy/uiekIOvQLFKCj5otePVFVVLV269J577mnWrNmwYcPMMOFolZMOAccJ/LRCu7z8rYyMM3Jzv5g06YclS7Yha6wzjNiKsDiLtpiLvHVtubzmd8rLL8zIaKPVFpMmBZYsQdZYaC+tIBPhSZNEW8xF3sK2qNoaAqaXJbHqtYmlYnuXL1/+ww8/BNegyN9jjz32xRdfXL9+vdZma4MovVVNETOSNdpw74EHHlDmkCLBxTmHgEsI7FmiKQ9BZeVVpaUPXnjhy9XVy2pr9+wm6ZK++qMbWoytFUwK+y0ruwpXvzwEwysri0tLX77wwlXV1bv2fkGmPyzuhlFoMbZWMCnsd3hZGXedGyySWB/kUEmsoErpdWoDBw585JFHnnzySS1rkrhR4rp16x588EE5YA4//HDNT3Xr1k3RNtI0hx12mNHQxo0bN23aFG2rhYQ7Q0EIpJzAHjWjqvU1xzddyhFTYWwCHr3r9EM5mUdLbCZchUA4gSR9M6rwpJNOkrtFy7P1UqchQ4ZoWzwt4dYeM9oir3v37qpfb3rSNjPaOFgvSdDaqI8++kgxNAqaOeWUU8L7QwoEXEWAvYBdZQ46AwEIQCAqgSQFtOaPNJH02muvScdIuMgHo2Caf/zjHzo3pJJcMnrb9jHHHHP77bdrs5k5c+ZI/ejFCNplOGqfuAABdxDg96U77GBZL3AhWIQWsBaBpdpoBPT+SE0PsWQ6Gh/S05wAvpk0vwEYPgQg4BkCSfpmPDNOOgqBxhNAzTSeGSUgAAEI2E7AmAyyvVkahIA3CKBmvGEnegkBCEAAAhCAQDQCqJloZEiHAAQg4C4CzDS5yx70xk0EUDNusgZ9gQAEIBCFADNNUcCQDIF6AqgZ7gMIQAAC3iCAb8YbdqKXThDYa/c8JzpAmxCAAATsJlBZWVlaWlpRUaF3R3trzbOHPDTa3iYnJ0f71mg7PvZltfsWT7/28M2kn80ZMQTSm8Dw4cPz8/P1oJ07d67eLC2HB4cVBMRWhMVZtMU8vW86Rm85AXbPsxyxsw2wyZtF/AFrEVirq9W7ivQq6enTp2dlZVndFvUbBGpqaoqKilasWFHO6065JywjgJqxDK07Kuaha5EdAGsRWEurlYdAO+qWlJRY2gqVRyRQWFioN1/qnVARr5IIgSQJoGaSBOj24jx0LbIQYC0Ca121ipXRlEdVVRVeGesgx6hZHprc3Fy9B4oYmhiUuJQwAeJmEkZHQQhAwEsEFParV0MjZZyymciLv6zgVAdo198EUDP+ti+jgwAEfiKgFUyDBw8Gh4MExF9WcLADNO1jAsw0+di49UNjQsQiAwPWIrDWVSvfgFbZ4JuxjnCDNWuyqVWrVvrbYE4yQKCxBFAzjSXmsfw8dC0yGGAtAmtdtZjMOrbx14wV4mdFzkYRYKapUbjIDAEIQAACEICA6wigZlxnEjoEAQhAAAIQgECjCKBmGoWLzBCAAAQgAAEIuI4AasZ1JqFDEIAABCAAAQg0igBqplG4yAwBCEAAAhCAgOsIoGZcZxI6BAEIQAACEIBAowigZhqFi8wQgAAEIAABCLiOAGrGdSahQxCAAAQgAAEINIoAaqZRuMgMAQhAAAIQgIDrCKBmXGcSOgQBCPiVwPjx47UZbrRj+PDh27Zt8+vYGRcELCWQaWntVA4BCEAAAiEErr766m7duoUk6uNBBx2UkZERnk4KBCDQIAHUTIOIyAABCEAglQTy8/P79euXyhqpCwJpT4CZprS/BQAAAX8RmDx58qZNm/w1JkYDAQg0QAA10wAgLkMAAt4icOutt3bo0GHMmDHe1TQKr1EMzWuvvda/f3+N5c9//vOGDRuUMm7cuGefffaoo47q3r17aWlpXV3d7t27KysrL730UmVr167d+eefX1FRsWvXLsNky5Yt69Onz/z58++44w5lOO200xYtWuQta9JbCMRJADUTJyiyQQAC3iBw1113KfpkypQpnTp18q6mWbhw4c033zxkyJAZM2acdNJJzZs3F/1nnnnmnnvuueWWWyR3jj322KZNmz7xxBMDBgyora2dOXOmzlu2bHnuuedOnz5dKaa1pIG+/PLL2bNnX3755QcffLCZzgkEfEVA0p7DxwR0s/p4dA4ODbAOwm+w6f3228/4mm7WrJl0wE033bRx40Y3mEzCwuhY+N+jjz566dKlxtCMbHPnzjVHunXr1mHDhu2///7vvvuumbhkyZLDDjusqKho8+bNRuL27dsl4CRZ3nvvPaWoQlUrh826devMUs6euMEKzhKgdYsIEAUc/q1CCgQgYCGBvLy8119/3cIGgqreuXOnPimSZvny5UHJDp9GXNMk1bXPPvuYPevdu/fhhx9ufjROjjjiiEMOOcRMXLBggXwwUjmtW7c2ElWJQoyffvrpl19++fjjjzcSNTPVvn17sxQnEPAlAdSML83KoCDgXgKSMvpxZmn/OnbsuHbtWjUh34w2dxk1apRmbeTqsLTR+CuPZ02TEQcTUqd8My1atDAS5YapqqqSG0aJwdkOPPDAnJycr7/+2ty6RhkEITgP5xDwHwHUjP9syoggkNYEpk6dqnmZYB3Ttm1bzxGRl0VHSLdbtWqVmfnTl7YUoaKAFSGk6JmQbCEf27RpE5LCRwj4jwBqxn82ZUQQSGsCipLRY3706NHyx3hRx8RpPLlbJGU0UnMFU5wFyQYBXxJoQNT7cswMCgIQ8DGBCRMmaJpp4sSJPpYyMp+mnHJzcz/55JNvvvkm2JrfffdddXW1ZqC0vik4nXMI+JsAasbf9mV0EEg7AvLK+FvHmBY966yzFN778MMPb9myxUjcsWNHWVmZljidccYZZjZOIJAOBJhpSgcrM0YIQMBFBCQ4tJ1MeIcUKKMA4a5du4ZfipiiRU/aKlC76q1Zs+aSSy5RqJA2lXnhhRfGjh2r3WgiFiERAn4lgJrxq2UZFwQg4FIC999/f8SeaW+YQYMGxa9mFDojEaNFTNOmTbvyyitVp1wyzz333KmnntpgaHDEDpAIAe8SaGL1UknvovFHz/V9h4mtMCVgE6bqFDqn2k0YlC8LYgVfmtUNgyJuxg1WoA8QgAAEIAABCCROADWTODtKQgACEIAABCDgBgKoGTdYgT5AAAIQgAAEIJA4AdRM4uwoCQEIQAACEICAGwigZtxgBfoAAQhAAAIQgEDiBFAzibOjJAQgAAEIQAACbiCAmnGDFegDBCAAAQhAAAKJE0DNJM6OkhCAAAQgAAEIuIEAasYNVqAPEIAABCAAAQgkTgA1kzg7SkIAAh4ikJmZWVNT46EO+6+r4i8r+G9cjMgNBFAzbrACfYAABCwnkJOTs2zZMsuboYHoBMRfVoh+nSsQSJwAaiZxdpSEAAQ8RCAvL2/evHke6rD/uir+soL/xsWI3ECAVxK6wQoW9oF3vFkEF7AJg3UKXWVlZX5+flVVVVZWVsKdp2DCBDTNlJubW1ZW1rdv34QroSAEohFAzUQj45N0p54cPsEXfRiAjc6mgSsOohs+fHhdXV1JSUkDXeSyBQQKCwszMjKKi4stqJsqIRBAzfj8JnDwyeFvsoBN2L7Oohs4cGB2dvb06dPx0CRswcYWlFemqKhoxYoV5eXljS1LfgjESYC4mThBkQ0CEPADAT1Q5SHQlMekSZOWLFnCKifrjCq2IizOoi3mSBnrUFOzCOCb8flt4OzvYB/DBWzCxnUDOsXQlJaWVlRUVFdX19bWJjwWCsYgoMXYWsGksN+CggJiZWKA4lJKCKBmUoLRvZW44cnhXjpJ9AywCcMDHegSJkBBCEQjwExTNDKkQwACEIAABCDgDQKoGW/YiV5CAAIQgAAEIBCNAGomGhnSIQABCEAAAhDwBgHUjDfsRC8hAAEIQAACEIhGADUTjQzpEIAABCAAAQh4gwBqxht2opcQgAAEIAABCEQjgJqJRoZ0CEAAAg0Q0Euh+/Tpc/LJJ3/11VfhWcePH6+rvLg7nAwpEEg5AdRMypFSIQQgkF4E3nrrrfvvv3/Hjh3pNWxGCwE3EUDNuMka9AUCEPAmgQcffPCNN97wZt/pNQT8QAA14wcrMgYIQMBBAnqT5eGHH37vvff+8MMPDnaDpiGQzgRQM+lsfcbeOAKTJ09u2bLl1KlTzWI6V4rSzRRO0pCAXkJ09dVXv/jiizNnzoz91qeVK1fecsstvXr10usdTjzxxAceeGDLli1pSIwhQyDlBFAzKUdKhb4lcNVVV9XV1Y0ZM6Zjx44aZIcOHXSuFKX7dswMLA4Ckibnn39+YWGh1My7774brcRnn312wQUXvPzyyyNHjnzllVcGDx586623/uEPf1izZk20IqRDAAJxEkDNxAmKbBAItG3bdvTo0ZIva9euFY5169bpXClKh06aE2jdurXcM61atZK7bv369eE05IOZNGmS0vXubimYM844Y+zYsY899tizzz77+OOP7969O7wIKRCAQPwEUDPxsyInBAI333yzfoibIHSuFPMjJ+lMoHfv3sOGDXvqqaceffTRcHWydOnS+fPnDx069LDDDjMo6ebR0u7zzjtP3poNGzakMzrGDoHkCaBmkmdIDWlEQG6YUaNGNWvWTGPWX53jmEkj88ccqtTJFVdccdFFF82YMWPx4sUheauqqr7//ntTyhhXdfP06NHj22+/Xb16dUh+PkIAAo0igJppFC4yQ2CPewbHDHdDCIF9991XMTFbt27V9jMh4b1GdHBGRkZIET5CAAIpIYCaSQlGKkkjAoZ7JisrC8dMGlk97qH+8pe/vPLKK8vKyp577rng+abMzEzVoUCruGsiIwQg0AgC9f/AOCAAgUYRUKzM8uXLiZhpFLQ0ySzVIjXzzjvvaPsZuWrMUefm5u6///4ffPBB//79zcRNmzbpRurWrVvnzp3NRE4gAIEECOCbSQAaRVJJoLKycvjw4T179pS3Q3M3njjatWs3d+5c/fVEb9VJsRVhcRbtVBqPuiIR6Nq167XXXvvpp5+Wl5eb17XHzIABA+bMmaN12kaiPDcLFy7UmqbTTz+9ffv2Zk5OIACBBAigZhKARpGUEdDzNT8/PycnR+JA0Qb6fuewgoDYirA4i7aYp8x+VBSFwKmnnhqyC5GWcN9www3KXlBQoE3zXn31Vb2T8rLLLtM+wkOGDJHijFITyRCAQFwEUDNxYSKTFQT0Pa4wAq310Lf8kUceKf+BFa1QpwiIrQiLs2iLuciDxVICzZs312ptxdAEt6IFTVq/fcopp2hPmv/6r/967bXXJkyYMGvWrC5dugRn4xwCEEiAQBP9EEygGEW8QkC/+dxpYnkI9FgtKSnxCkk/9VO71mpxTXFxsSODcu096QiNRjUKukbhInNaEXDpoy6tbGDpYN359afoDU15yE+AP8ZS60ervKamRkGpWnejFwxFy2NdujvvSevGm8KaQZdCmFTlMwLMNPnMoN4YjjZ3HzFiBFLGKWuJvPjLCk51gHYhAAEIpJYAaia1PKktLgIVFRV65V5cWclkDQHxlxWsqZtaIQABCNhNgJkmu4nb3J47XdPyDWiVDb4Zm2+G4OY02aRXJOpvcKI95+68J+0Ze5KtgC5JgBT3MQHUjI+NWz80d379ubNXPr8VwobnlBWcajcMgPcSQOc9m9Fjuwgw02QXadqBAAQgAAEIQMAaAqgZa7hSKwQgAAEIQAACdhFAzdhFmnYgAAEIQAACELCGAGrGGq7UCgEIQAACEICAXQRQM3aRph0IQAACEIAABKwhgJqxhiu1QgACEIAABCBgFwHUjF2kaQcCEIAABCAAAWsIoGas4UqtaUxg9uzZekn12rVrt23bppdrjh8/Pk4YMfKrNtWpmqNVZTZqZjCKGK2/9dZbffr0WbZsmXmVEwhAAAJ+IoCa8ZM1vToWPYm1LViDR7TnsR7YDZbV4zwinQbLRmxUskDpIY1GzBmxURIhAAEIQCC1BFAzqeVJbYkQGDJkyO44jkWLFvXs2TO8gbFjx8YovXTp0qOPPjq8lJESu+xjjz0WsaC6oc4ENxotZ8Ti0RJra2v1woe6ujrVHC1PcHqwFLvsssvmz5/fsWNHQ2MZzqHgzJxDAAIQ8DEB1IyPjeuxoRkOj5DJFGPy5Y477ojzAe+xMe/d3R9//PHzzz//v//7vw0bNux9JfKnGFKsvLy8Q4cOkYuRCgEIQMB3BFAzvjOpZwckv0LXrl2rq6uDR7B9+/Zvv/02IyNDLofgdP+dS6698sorGu+HH3744osvxqnelE35L730UmkXITrttNNKS0slAf3HhxFBAAIQiEEANRMDDpecJ7Br1y7Nvxx88MHRumI4b0JCWII/9urV6+OPP45WPLH08LgZTfQEV2VM+ugl1TNmzAhOj3GuGbGHH3548uTJU6ZM+dvf/va///u/8QiaF154QYHGV1xxxffff68pqpKSEjV9ww03mILmtttuE42TTz45RtNcggAEIOB1AqgZr1vQP/3Xs7979+4RxyPfTMR0M3HcuHF69sc4+vXrZ2ZO1cnChQuDWwwO6xkwYICmjRQEM2zYsHiaW758+XXXXXfBBReceuqp559//rRp0yZMmCBls3HjxhjFJVnkxfn973+vKJlmzZo1bdq0R48eN91003vvvacKjYIGGXU1Rj1cggAEIOB1AqgZr1vQb/1fv379zp07zVFt3rx506ZN2dnZZorNJ5r80hSYdY3K+SRFcuGFF+bn548aNSozM1OuFGkvuViEQl6Wf//739a1Ts0QgAAE/EEg0x/DYBQ+INCyZcsDDzzwu+++04yJORzFkWzZsqVB34yZ33Mn77zzTllZ2SOPPHLMMcdIx5j979Sp05133ml+jHgiYr/61a9uueWWAw44QN4gKaEvvvjirrvuOuGEE+SkkWcoYikSIQABCPiPAGrGfzb12Ig0XSKfRHB8SfC5MRgz7EMLobWc2yUjVK/atm2rbWakKjQKzTRppuzJJ59sVPdO+s/RYBEF+WqZUni2s88++6CDDpo6dep///d/r1u3ThNV8vEUFBSoS/GomWD9FF65RSkKVbaoZqqFAATSlgBqJm1N75aB67lb/J8jmQ4p1lVHjBrkutDa71QtWjb2m4nW3AcffBDtUox0bd0roaYJphh5wsWc5Ih201H4cIxSMS4p7ifGVS5BAAIQ8AqBJnydecVUifVTTzsXmtjSXmnb3xEjRsyZMyfiVnuNwigB9Oyzz86cOXOfffZpVMGUZza0zuWXX55C15SlVkg5ASoUAUzGbQCBaASIAo5GhnQIBBSDLHeOlgtFYyHlpAdM7MN4U1K0GlKVrmjiysrKm2++uX///u3atTO6pJkvBdZMmjTpq6++cqGoTdXYqQcCEIAAaoZ7AAJRCaxevbrBjfs00aOtYqQVwo/4V2irB8ZLIqMJI62rijEJpUBpLfCWlDnllFO0UY22EjY6U1VVpSAkCTKF12g2Lzi8OuqYuQABCEDAgwSIm/Gg0eiyLQT07Fdsr1Zot2jRwpYG6xsJj4yJp+nFixcvWLBAa6OOOuqo4Pxa5dStWzdtSKNFT3oNwplnnpmbmxucgXMIQAAC/iCAb8YfdvTqKOJ8e3awx8J8VXW0slpqpM1/tQVwcCnjvMGywUUkBSZOnKjg4pCyXmVNvyEAAQj4lwBqxr+29cLI4nx7dvAkjrnlrlNlXci1d+/eZ5111siRI1966SXNWCmGxuikXgqht1w99NBD119/vTw0hxxyiAs7T5cgAAEIJE8ANZM8Q2pIawLR/EDy6DTqPU0GRL3vKdg/FHKuNxhIrITjbt26tfF2p7ffflsvRmjfvr1RUPNKerWCihivc/LxJoThTEiBAATSioAbl++mlQGsHqyeanJsWN1KY+t3Z68aOwqv58cKnrMgJvOcyeiwbQTwzdiGmoYgAAEIQAACELCEAGrGEqxUCgEIQAACEICAbQRQM7ahpiEIQAACEIAABCwhgJqxBCuVQgACEIAABCBgGwHUjG2oaQgCEIAABCAAAUsIoGYswUqlEIAABCAAAQjYRgA1YxtqGoIABCAAAQhAwBICqBlLsFIpBCAAAQhAAAK2EUDN2IaahvYQ0CuQampq9nzmzHYC4i8r2N4sDUIAAhCwhABqxhKsVBqbQE5OzrJly2Ln4aqlBMRfVrC0CSqHAAQgYBsB1IxtqGloD4G8vLx58+bt+cyZ7QTEX1awvVkahAAEIGAJATe+xMeSgaZrpe58sUtlZWV+fn5VVVVWVla6WsbJcWuaSS+kLCsr69u3r5P9oO1GEnDnP+dGDoLsELCEAGrGEqzuqdS1X3/Dhw+vq6srKSlxD6v06UlhYaHep11cXJw+Q/bHSF37z9kfeBmFpwmgZjxtvoY77+avv4EDB2ZnZ0+fPh0PTcOGTFEOeWWKiopWrFhRXl6eoiqpxj4Cbv7nbB8FWoJAJALEzUSiQpotBPRAlYdAUx6TJk1asmQJq5ysoy62IizOoi3mSBnrUFMzBCDgCAF8M45gt69R9/+YUwxNaWlpRUVFdXV1bW2tfWjSqSUtxtYKJoX9FhQUECvjXcu7/5+zd9nSc68TQM143YIN9J+vvwYAcRkC3iHAP2fv2Iqe2k2AmSa7idMeBCAAAQhAAAKpJYCaSS1PaoMABCAAAQhAwG4CqBm7idMeBCAAAQhAAAKpJYCaSS1PaoMABCAAAQhAwG4CqBm7idMeBCAAAQhAAAKpJYCaSS1PaoMABCAAAQhAwG4CqBm7idMeBCAAAQhAAAKpJYCaSS1PaoMABCAAAQhAwG4CqBm7idMeBCAAAQhAAAKpJYCaSS1PaoMABCAAAQhAwG4CqBm7idMeBCAAgfgJTJ48uWXLllOnTjWL6FwpSjdTOIEABHhPk8/vAV7s4nMDMzy/E9i0aVOHDh303tBWrVqtXbt2v/3227Ztm97PqvO2bdv6ffSMDwLxEsA3Ey8p8kEAAhCwn4Aky+jRo+vq6iRf1Pq6det0rhSkjP22oEU3E8A342brpKBv+GZSAJEqIOAoAblnOnXqtGPHDqMXzZs3X7NmDWrGUZvQuOsI4JtxnUnoEAQgAIFgAhIuo0aNatasmRL1V+dImWA+nENABPDN+Pw2wDfjcwMzvPQgYLpncMykh8EZZaMJ4JtpNDIKQAACELCZgOGeycrKwjFjM3ma8woBfDNesVSC/cQ3kyA4ikHAZQTknhk6dOisWbOYZnKZZeiOKwigZlxhBus6gZqxji01e5dAZWVlaWlpRUVFdXW1Vjt7dyBu7rlWlefk5OTl5RUUFPTt29fNXU1V37ivUkUyRj3R7itmmmJA4xIEIOBDAsOHD8/Pz9eDdu7cuVu3bt3NYQ0BsRVhcRZtMffhnbT3kLivrLmPQmuNdl/hm9n7fvTdJ3wzvjMpA0qKwMCBA7Ozs6dPn64YlKQqonDcBGpqaoqKilasWFFeXh53IY9l5L6y32Ah9xVqxn4T2NoiasZW3DTmbgL69ayt50pKStzdTX/2tR71KAAADzRJREFUrrCwMCMjo7i42H/D475y0KbmfYWacdAKdjSNmrGDMm14gYBiGjTlUVVVhVfGEXPpl3Rubm5ZWZnPYmi4rxy5ncxGzfuKuBmTCScQgICfCSjsd8SIEUgZp2ws8uIvKzjVAYva5b6yCGyc1Zr3FWomTmJkgwAEvE1AK5gGDx7s7TF4vPfiLyt4fBCh3ee+CiVi+2fjvmKmyXbw9jbITJO9vGnNvQT0G06rIfDNOGghTQroTeD662AfUt4091XKkTa2QuO+wjfTWG7khwAELCewbNmyPn36nHzyyV999VV4Y+PHj9dV5Qm/FCNF+8ogZWLwseGS+Ju7+2zbtu2aa67Rz63Zs2dHbFoRNu3atZswYYJZJGI2xxO5rxw3gXFfoWYcNwQdgAAEIhN466237r//fvPd0ZEzkepNAi1bttSy7aOPPvqhhx767rvvQgahlAcffPD444/X9sfaLS3kKh8hEE4ANRPOhBQIQMAtBPRIe+ONN9zSG/qRUgK9evVSXLDiTh5//HGtnDfr1rlS3n///ZEjRx544IFmOicQiEEANRMDDpcgAAEnCWhHssMPP/zee+/94YcfnOwHbVtDQNNMv/nNby666CK9fOqTTz4xG9G5UvQ+hLPOOstM5AQCsQmgZmLz4SoEIOAYAW1McvXVV7/44oszZ86MHTyxcuXKW265Rb/19YA88cQTH3jggS1btjjWbxqOm8C+++6rrec2bNigLQ0VSaNy+qtzRcxce+21mo1Syq5du+S/Of/885XYoUOH3/3ud4sXLzZb0L73H3/8sRJ1SdY/7bTTtEGfUZWZh5N0IICaSQcrM0YIeJKAHk56hmmvT6mZd999N9oYPvvsswsuuODll1/WxMQrr7yi5Zq33nrrH/7whzVr1kQrQrp7CPTv31/BMdq15c0331Sv9FfnUrHaak8fpWInT5587rnnStk88cQTM2bMkHI955xzzPnHt99+W1e3b9/+6KOPLliwoHfv3jfccIP7Y4fdw983PSG6yjemZCAQ8CGB1q1b68G2cOHCqVOnatZJP+VDBikfzKRJk5SoR+Bhhx2mk9NPP/2EE064+OKLjzvuOP2+lyQKKcJHVxFQkK8Eq9SJNGuPHj30VxL217/+tWG4RYsWTZs2TQLlpptuMsKBBw0aNGrUKOmVQw89tGvXrlKxKqXbo1OnThqXXtm9zz77fP7556tWrSLmxlWGtroz+GasJkz9EIBAUgT0a3vYsGFPPfWUfnxrWiGkrqVLl86fP18/7g0po6t6Cmpp93nnnafnnKYwQvLz0YUEDj74YM036Z2Uf/zjH//1r39p5bYmldRPmVuJ7du3V2yNubJJAlcf5YRbsmSJMRY54aqrq417Q9kkdJ588kmkjAsNbWmXUDOW4qVyCEAgWQJSJ1dccYUeYJplCA6YMOrVe5e+//57U8oYiW3bttXv9W+//Xb16tXJNp9oeWPLHC0yb2wFivnQo1176jS2YJL5nWpX3ZaJ5YyRS+b555+X30VONWMsmj+SEVu0aCFfy+tBxzfffNO5c2cpGBU888wzpVkVLKUoK3npPvzww9ghVklScnlxw4jC0uChe8xn0UWoGZffnHQPAhAIaIJJMTHayVfbz4SE9xqPLr2c2U5MkhoRnxbRNoIz+2ZInIhllZiA9Fm7dq1WfkWr0Ei3XxiZ443/RM4YI1BGe8yo20ZBWVzbJypkSlpHU0jmceWVV0qnGlK1X79+cs5JA2nh24033igldOSRRyrCJj01jaKLFAQtN5V5SA6KmwBq6s1M1ImyGUHWwTaK53ZKYOPK4CasO0fNWMeWmiEAgZQR+OUvf6lnmPaHfe655/RdbNZrTEAE71ZiXrLuZOzYscEPBp1rc5SePXtqUVXsRpVHgSAhZfVR82XaRy522RhXx40bF16nmaLehpcN/xGvdw7I+3XbbbeFaKMGJVp45alK0eM2Oztbq7jlfTGHY56Y4xLVKVOmyEsnjPfcc0+zZs00NWmGCaeqM16sZ9OmTXfeeaf2n/zxxx+1S2GDG1FqXZim9kzC4SeKYHMtB9SMa01DxyAAgT0EpFqkZrT+RdvPVFZWmhf0g37//ff/4IMPzBSd6Et8+fLl3bp103xEcLpF59JSWk1z1FFHKf7U9JRI2WjlsEUtJl9tyI94rYKWatEMnVTjp59+GvwYGzJkSPLNJVZD8+bNFdsrU4ZsOKSIqGOPPVZL99evX6+12ddff/3OnTt1h0jWyIen9flqLqRIYh3wbilZUJNul156qRTM3P8cWvp33XXX+XihH2rGu7crPYdAehHQAhatUdKzVj8fzZFLNAwYMGDOnDn6sjYS9T2uX5DPPvusFjcpgNTMad3JO++8o93e9NSXtDJ/2ibpbrGut+E1a/JOLg0tGpo4caL2a9FAJM7cMFOjCUSpQ80oKarX9CusW7dOO0TLAaM1bpqfkmaVuPniiy/McW3cuFFyVsrMTEmfE6lS6RXpPK3pU2SMjunTp+sfjg7t4qN/EYqOlydPIUfK6TMsqBmfGZThQMDPBE499dSrrroqeIRa4aLlu0rR1rH6Uf7qq68qTOSyyy7TU1BPZTMCI7hIas/lOdDjQUHKv/rVr1Jbs9W1yZ+hZUHCpVgTBVVIAuo9AxI0UmaPPPKInnxa9P7ll18qm9U9iVH/SSedJHeL5r+0bE0P6aefflr+BgXKSNd2795dcueSSy5RmLCsr94qUPjuu+9WDI3Mccopp8SoNoFL2vZGIimBgnYW0W49CqZWAJagaSce3ZNSLYas0cmFF16oCTgtcZeJZV8p/hBNEzuuS/+atFrQzuE0qi32m2kULjJDAAJOEtDUg0Ii9NzVahezH1rQpPXb8i5o0xF9HUvxaI2ulkFJ6Jh5LDrRHvzqj0Jebr75ZiOCJ7GGNGPStGlTRS0kVryxpeS+0rYuejxrHZCiUvTkM1ZEqx49sTQczTopenTevHly2MjpJZmoYNvGtpKS/KKqiaRf/OIXmmGUcFGdZ5xxxj/+8Q/NORpSVdZXNJVE2O233/71119rpkzDscL62pJxzJgxo0ePlq1d6/jRzR87tEU8tRuTjhjWUQ1OmTtGrxq+FDw/yrn/COgO8N+gGBEEEiCQ2n8LmzdvVuSpQnbk29DSG6M/4Q8SpUTsqjEPZV7ViTSEEpVZtUkhmd/dsSN8Fd2pibbYeSJ2wKnE1FrBzlFILssJpBkuSWqJPM1nGa27fETG7aQ7yrxLY0ALuS1j5HTbJVmBmSbzS4MTCEAAAg0Q0Je4wkvvu+8+zc5oGbA29NMvdXOlq37Rmt/yScbNmALFXLnTQM/ivhzPKly5PUIOTyzzjptBIhnl8tGyL827KYJHQlbhyXLVuGfuKXyRmmFBY6maVqvpJMSm+qhJKN/sOsNMUyK3tYfKKKZPt6yHOkxXIeByAgpDVnSCfqlrGw/9TE9VbzUvpp/+idWmsBId0crKeaOZI3May1iFG55ZKkeRRhJkKddPIW354BvJiCXSVJ2ipkJG59RHY5GadpFxqgOOt4uacdwE1nZA7561tgFqh4BHCKTkIapKFD6po8FBG1vLNJjNyKAgFYVitGnTJs78ZrYQaWKbIjE7kMCJ3FcJlHJDkY4dO4qweqL5Jt0JCjeWZ07Ln93QtxT2ocFQ38cee0zCN4UtpqQqZppSgpFKIACBtCOglSN6pMU+4tzeV+tptbTbdJ/YgzJkykmPaq0Vko8neERMMJm2UIy5Qk+MuBlj4xaFHrs2HFhhPQqO1n2llV+GQXWij0rUJXNQISeGBJfc1ERncKhNSPCNC6WMBoKaCbEmHyEAAQjERSA4SsYMlzFPkoybiasHyWUy/Dpmh8NP9EhLrgVflVbkr/bgcb+OEXRtL6kYA20pqUlDveLKsKxO9FGJuhS8/6RvjISa8Y0pGQgEIAABCFhFQMv+5c1ysz/GGLn2QtTugtpURl3VK6vkTDLSdaKPStQlZQh535lV1GysFzVjI2yaggAEfEQg9kxTyJsNgpecaHOXwsLCLl26yPmhEF0d2j1FiZoR0BoTefXtgRQy0xQ8wWScx4gstqeHrmpFO824dl4pGJS2YtJb5bVRcsQNkJSoS8oQvGNTcHHvnhMF7F3b0XMIQMBhAtokRi9VULRBg/2If8lJPCtmJUQUu6Awl4jtGuEv4ZcknsLXK2mrG02ZhWcmxaMEtDJO2yBp5Z3mxcIFjRJ1SRmCF9DpllNEs1Zxhww5dooCa7Tzsrk9QUhZ+z+iZuxnTosQgAAEkiIQspQpqboo7C8CWuqvrXHk5NMG0/rbo0cPQ3BIsmg9uZZw622U+hu8U3b8UtvNqJhpcrN16BsEIOBqAnpLtmaUwudozBQ9TuLxtTg4SC3HNXsbftKnTx+9LMLB7tF0AgRkNb03VNOXd955p978YJhVJ/qoRF1ShgSqdXmRJop2dnkX6R4EIACB5AnoO52vu+QxJlmD/6zgvxElaWJHissK+GYcIU+jEIAABCAAAQikjABqJmUoqQgCEIAABCAAAUcIoGYcwU6jEIAABCAAAQikjABqJmUoqQgCEIAABCAAAUcIoGYcwU6jEIAABCAAAQikjABqJmUoqQgCEIAABCAAAUcIoGYcwU6jEIAABCAAAQikjABqJmUoqQgCEIAABCAAAUcIoGYcwU6jEICA3QT0zpqamhq7W6W9IALiH/7moKDrnjzlvnLcbMZ9hZpx3BB0AAIQsINATk4Om/TbATp6G+IvK0S/7skr3FeOm824r1AzjhuCDkAAAnYQyMvLmzdvnh0t0UYUAuIvK0S56NVk7ivHLWfcV7y4xHFD0AEIQMAOApWVlfn5+VVVVVlZWXa0Rxt7E9B0QG5ubllZWd++ffe+4u1P3FfO2s+8r1AzzhqC1iEAAfsI6I3WdXV1JSUl9jVJSz8TKCwszMjIKC4u/jnBP//nvnLQluZ9hZpx0Ao0DQEI2E1g4MCB2dnZ06dPx0NjG3r9ei4qKlqxYkV5ebltjdrcEPeVzcDVXMh9RdyM/SagRQhAwDECeqDKQ6Apj0mTJi1ZskRfiI51xe8Ni60Ii7Noi7mPpYwsyX1l2+0c7b7CN2ObCWgIAhBwCwHFOpSWllZUVFRXV9fW1rqlW/7qh5Yua72PgmQLCgp8FisTzVDcV9HIpDA92n2FmkkhZKqCAAQgAAEIQMABAv8f6wKXlcFD8JoAAAAASUVORK5CYII=)"
      ],
      "metadata": {
        "id": "mG3CjUvnojTi"
      }
    },
    {
      "cell_type": "code",
      "source": [
        "True and False"
      ],
      "metadata": {
        "colab": {
          "base_uri": "https://localhost:8080/"
        },
        "id": "1sIO0q7onUdY",
        "outputId": "4ad0493b-9634-423f-c559-e82425347ed9"
      },
      "execution_count": null,
      "outputs": [
        {
          "output_type": "execute_result",
          "data": {
            "text/plain": [
              "False"
            ]
          },
          "metadata": {},
          "execution_count": 99
        }
      ]
    },
    {
      "cell_type": "code",
      "source": [
        "True and True"
      ],
      "metadata": {
        "colab": {
          "base_uri": "https://localhost:8080/"
        },
        "id": "hufXpAL3pT3b",
        "outputId": "ec18f6e0-a60b-47c5-b013-cb916f8109c6"
      },
      "execution_count": null,
      "outputs": [
        {
          "output_type": "execute_result",
          "data": {
            "text/plain": [
              "True"
            ]
          },
          "metadata": {},
          "execution_count": 101
        }
      ]
    },
    {
      "cell_type": "code",
      "source": [
        "True or False"
      ],
      "metadata": {
        "colab": {
          "base_uri": "https://localhost:8080/"
        },
        "id": "JHVpULerpVer",
        "outputId": "c46a8ded-14c2-4dd9-b37d-dbf79a2e21e4"
      },
      "execution_count": null,
      "outputs": [
        {
          "output_type": "execute_result",
          "data": {
            "text/plain": [
              "True"
            ]
          },
          "metadata": {},
          "execution_count": 102
        }
      ]
    },
    {
      "cell_type": "code",
      "source": [
        "not True"
      ],
      "metadata": {
        "colab": {
          "base_uri": "https://localhost:8080/"
        },
        "id": "_eg-2BsIpbQ_",
        "outputId": "b997e86d-4577-4ae1-ce82-11190c0dd710"
      },
      "execution_count": null,
      "outputs": [
        {
          "output_type": "execute_result",
          "data": {
            "text/plain": [
              "False"
            ]
          },
          "metadata": {},
          "execution_count": 104
        }
      ]
    },
    {
      "cell_type": "markdown",
      "source": [
        "2. 윤년구하기\n",
        "\n",
        "year = 2000\n",
        "year = 1900\n",
        "\n",
        "y=2022\n",
        "\n",
        "1. 4로 나눠지면 윤년이다.\n",
        "2. 그런데, 100으로 나눠지면 윤년이 아니다.\n",
        "3. 그러나, 다시 400으로 나눠지면 윤년이다."
      ],
      "metadata": {
        "id": "ibi70QnFpo31"
      }
    },
    {
      "cell_type": "code",
      "source": [
        "year = 2100"
      ],
      "metadata": {
        "id": "nwvnqZtLr_yM"
      },
      "execution_count": null,
      "outputs": []
    },
    {
      "cell_type": "code",
      "source": [
        "leap_year = (year % 4 == 0 and (year % 100 != 0 or year % 400 == 0))"
      ],
      "metadata": {
        "id": "J0lO2koupcTI"
      },
      "execution_count": null,
      "outputs": []
    },
    {
      "cell_type": "code",
      "source": [
        "leap_year"
      ],
      "metadata": {
        "colab": {
          "base_uri": "https://localhost:8080/"
        },
        "id": "wC-h5PhWr-dG",
        "outputId": "51ad41d8-c6c4-4dc8-e31d-2ea8a7420544"
      },
      "execution_count": null,
      "outputs": [
        {
          "output_type": "execute_result",
          "data": {
            "text/plain": [
              "False"
            ]
          },
          "metadata": {},
          "execution_count": 123
        }
      ]
    },
    {
      "cell_type": "code",
      "source": [
        "y = 2022\n",
        "cond1 = y % 4 == 0\n",
        "cond2 = y % 100 != 0\n",
        "cond3 = y % 400 == 0\n",
        "cond1 and cond2 or cond3"
      ],
      "metadata": {
        "colab": {
          "base_uri": "https://localhost:8080/"
        },
        "id": "6v2aYZvesC-4",
        "outputId": "f18c8420-de38-41d0-8a6f-dfeb99590a56"
      },
      "execution_count": null,
      "outputs": [
        {
          "output_type": "execute_result",
          "data": {
            "text/plain": [
              "False"
            ]
          },
          "metadata": {},
          "execution_count": 125
        }
      ]
    },
    {
      "cell_type": "code",
      "source": [
        "sample_data_list = [1, 2, 4 ,3]"
      ],
      "metadata": {
        "id": "IRgdZ7DHsaLF"
      },
      "execution_count": null,
      "outputs": []
    },
    {
      "cell_type": "markdown",
      "source": [
        "#3. 연산자"
      ],
      "metadata": {
        "id": "C0axYvVRtyai"
      }
    },
    {
      "cell_type": "markdown",
      "source": [
        "![image.png](data:image/png;base64,iVBORw0KGgoAAAANSUhEUgAAApMAAAImCAIAAACAc5ZsAAAAAXNSR0IArs4c6QAAAERlWElmTU0AKgAAAAgAAYdpAAQAAAABAAAAGgAAAAAAA6ABAAMAAAABAAEAAKACAAQAAAABAAACk6ADAAQAAAABAAACJgAAAAC7PmYwAABAAElEQVR4Aeydd0BTV/vHTxQhsVXAqqB9q2jF0bpRq7Vu66xbW8Vdq9U666qjb9X+qrWv1tpi3eKoghYRB4q4sE4UFHABIjK0QlBJwEoSLNzfSW5yCXAzCAmG5Hv/IOee8ZzzfM54zkoQ5OfnEzwgAAIgAAIgAALlhIDDjRs3yklRUUwQAAEQAAEQAAHiIBAIvLy8QAIEQAAEQAAEQKBcEKhQLkqJQoIACIAACIAACLAEYLnREkAABEAABECgPBGA5S5PtYWyggAIgAAIgAAsN9oACIAACIAACJQnArDc5am2UFYQAAEQAAEQgOVGGwABEAABEACB8kQAlrs81RbKCgIgAAIgAAKw3GgDIAACIAACIFCeCMByl6faQllBAARAAARAAJYbbQAEQAAEQAAEyhMBWO7yVFsoKwiAAAiAAAjAcqMNgAAIgAAIgEB5IuBQusLKHkVfjYrNyBGQfKFro5YdvDyqlk4gUoOA/RJ4lZaUmKUorn9Nj8bVhMW9X5sPQxJ/6z81rNIbTm3nH1j60WsrBzK2VgK0JUfFxz2RKoROrlVruXt4eNR2cbKawkri4sRsYaytZ5UAUWRkJGPS8yLuz8+K59Pf55bEJHHmSJTP3FnCFqnXwZfmEAgZIFCGBHICaxbvUUqf1VGvyrAYhrOiHU3d9zuioxnGZV8xFHc2jX2Xpx17W0tTkYRMKijeujvltHZM3C3Pj9tTpfGnBzQAmrfSuI7PbOc67Equ5rXMPyWaHCtrHPgEgfJCwInrR4VLnCcq/G4Fb9WsoAwogvURkBx6p+m0PxLZgjXq06d/s+bqQj6zksLKzvy4gyuK89ydcdxLuXKYZrkl/j3Hq9X0PpjCMDE3GUYaOU3lJSeHOq69QZ0MeeK/YNaiRYtWbjx9+/y+L3o3bdmyZd9+a8KztAgpHh5cP+OTlvS/hAscBK1HrA64r9kslIRtm7V40ZKZP50XZz04v2/t7HHrzj8iRHLilwUTJg7q3bc5lda4b9+xs/93LDqDze7A7H6bVLIdT/nO/2n1ktmLTojZSYTkys6VXC59Z22LSFdPLtSFXDx7hf9tSfa9gM2rxs3cVk7rUgsrnOWbwOrobO2lwJJGDpKw38bMWbzmm0ULVx1Tj4Hi07SFr/7pm69nKFtsTvTBxXPGDR7Sm/YL+vQeNPH/dp16LFdzYHvT4m9++vNazKHV3jRCq2ZDfw1JoMEPzm+nfbOdoFXfmX8U6X3K+NevqeM370v7iB6sj8P3LhzYS9mTBYL3en/+RxjtrXjsjEDG6WHKwZgIydCzUiYuJCT4Vgwj//vi/qmVo9i2qHMAp6n4TcasbdHUKEjv+i8cw7bbLYWaluym/88jmrVgG16PcWtCk/UuHMVnRlwoqJQs8vORmBcF74Q8Dg/8dvxAZUbN+w4ZNHHe+j9vS7XDrcZtym65WL3YdiT9jmYVjDD/RP/IquVM5im34BWaLbXCyr5BPo+Sq1KlH21TOIi+0dDLCmVokn+nIoFuvg8YRcSgIr6q1+VXX9Cg4tKU24wKzRZ64YQ+UarBsVghaZtjC6AqIv6AQJkRyAnurW6j4/ZfiI27GaV6om8mK49+FHfYmTGN8a5/Qj7z9wZNe2668zYNT/ZtrfEo+HSsvf2pqvjFe1NBJG2X5phJV3yaNZVHd8vVhdHsloevqqIthnWzkVX54499EEhSmwbaAD5euOd0VNzfEnas16ivZwCnUYqNxsUbFeuzLTaXRs9nHvjU44nChmqyLPSZ7NuZTdCwn2YzYPoZLgZvM7a2syq2tMQEy50Xu1tNS9NvWVlcf2aNH/dakbSavfnAhaANnNEdc+gRw2TufVsphkY+HKu0//f8v2TF9lKNDkn+Q9W5cB8b71CZv3YatzXkWmKaNC39XvAvI9WBK+lUIeee3/fq18ZzA86HhR4KoYfuMSs1d3v6+9yIiz2zWX1CV52spbsFXCG5TOh0BJaba8pwlCGBAsvNtUbqKGiQWsNiwfmU5vgwLXAFHSsvxiZLpE/iog+ylpV2PXZuXdCbmg9Zuf6X4ZpRi8rv8c2vG2Z3Y3Pkpq1c/EYDluz+67z/zC5sBDopj9XuNaoR4J/o9Wxoh3UXlRMFaeSKhkoPOgs38RJNGUJHVmYkQIfT4pefaAOeufMCe/FI7wBeaDTuOPsnn2/6su1K+bf5kJ+3rOIsiHIVxzDxP7djI6wMuU9fX0btUS/eeh3kVYqb79KWGZP98P9UiQv6l2beQENPxYoVmZL7V5X9yBYtt2aGzmLirCDt/3RVzb0SDcecq+pFeXPV6pmr458O7Pf399/+jXp0IEozTNfcasv95eFbz+UymTzzuYzNJyc16uyBnRt//PHHSX3YiiOk017aMugUjB2wuBypOQ9QzbG4IYzOGPZo8glI1ypkvTXX0qUymUwieX1X7HibGzzthYAhy80wkpCZmhav/HQlS7VNo1yaeD5k36+rfvzfN2O4aD6q221cb1ofp1ys/Bu3mY3w7kb2hk7mtjpKD7bn0ghc/G3UUCufggh0XlvQtVWWm1vHkHE+tCP779/IjrB0TNTek2MF4a9tEygwn1wTZB2d9rLbP3RM1j2AF9nLyQlWfXGBm1DKzq1mhSktiGZspz5D1v95wNf/z81fsaEV62ygq7LiT8Gac/4lGhq3UW3oR4aoiqax3FRIt3GLf9+5n+4ZUNNTXI41+JjyrTBGIFMDikvPIYS7CybIkjxhA+ipm0Djop8vCRtNKFQvf/MkkrykGwc0Ub75TLN0Vvm4L43OWeKlCSRtGjWu5lSJjirKxOLTI917cQm5OETESmaPUpTe6oLl3j2oOtUQkla11V9YE3JfsHkuf1UgwbNeUzdnKoUrZEEQXCBQtgSWh2csa15FrulEQkd19i59fvIjPt6awiyLW8b1k6ube3w47ZwmpOAzT8QUvGhcAkbEOt9Qd0lhrSaEpGqCtT5fCmgfUfY+UZ7SN5/I5bT3a8qjiii/46s5Odwzc9SegsS55ETEw38HtDRlkCmQAle5IlC55dgI2Se3w8MuhJwPCfU5HqMuveNFv1tZo7vL9Q/gGlXfKOqorGrFwlq1NAGEaMZ26hM059OgggDaknc8zp1ep1ArVQbf2D5XHSvEd2PThEe/RbKv+1eF7ugzurJj/bG9yYFQpV/Ynh/DVC2ZLvk2x177ojHtAtb1VDChOBXrebFz6rzUGb+H/8NJiPf77xHVS37tfg21qXHVwJl8V9eK7u+zQuh86q/k9JR7sfS5m5yUlHzvdNpwbjZA5b3UjF/UfX/ft6zZ7rAg4HaaVJ4VqV64v1SXIpP91LwSx3f7q1bYeUSqKHZxoaJ6BqJKwyVRS8IHCLw2Au7uNehklHu4cuTHBa/jXgiZM+dP9W213MifVGabLnN3hsfThULsTs3OklZ8E5xvqO2+ek5cgc5s1UafEyb0HKLetHx/V0Ra+kNlT46NTUxPon9nwWxznOzBIT690e82Ebo26zp0+k+/BUczuemn2XGeTuOeSAwP4GpIOkbjfG2GmrGd+v3vWrw4SWVC7lETknT3XsiH2gaITZV79+efn6sF3PWdPmHi6jiNuItjToipW9T/ZM7dQ9sXDPhYE0DySNTkHde5V+txmGK5iWObpfPVKvxfh87rT95KFydd3jWt8VfnWd+hOwZV11bxVdrjXMWLlLNLRi5hvd+r5cw416qteqF30c9EZVRu0pg+bwtzon+fOu/8U+3UWm5ZQpAaYqP+XZu6O79Iuqf+/oEmUjWVo+LllYdSXuVK0zLlrvVVszSay0zfS3Qh/izm4CeqWRU9zGhlfTMpjR74tGsCe/0DTgUdZp/9+/erv46Re3dGk0/VywQWz8kxXdcpPegOFjtpfoO06v5Bw2okM/5mkZ5hIs/09HQil9w4sHjM30oJItKkWrExsWp91Y0VQu4GhKeSasqe7OGWl3x5cZM1jxUm5otk5ZFAviRt+ujmgqaTdhy+cC9ZTO3C7XPhbMukK7R6tRUGB/CSaO2qNiGEHDsX/69LfWW7q++YGf7biNnKob7II78cwK766JH5bM3DXfhYEXKH5EZ6C2b83WTA/46eovvhd/erzlmplL+t8nK5CTfUlLv8Oi5sK2FprswUHIYVRsheDaMyMsOWFQ5Rv7G3D7iTNvZkTpmp8gKthmaRlOq7ckVPCpWXC7Tu9Wgn0nVLls0If0GgzAkUbb1cc10ZR3+JJTOgj8ZjXaQ86yK7lKFeqi9W8NwMYmOz3adIb+IO/FTnhVRRddbcgSIXX5Ol+nPCeeWJYEHXVvU77uJPkcictDIniQxfDwHu/kSRlkBfNd+A0DeAF2lX2s2S/TpS0Xabfkp9Ul0kP9W1p8IICjqXsr9wj+a2Nb0ykpp7V72DW1jaFyc0B/RcKitwmLTmpoo5vr+SybyycZq2jnSnbv2J+8y+Ydp73doRqPu9fj6n5fPqqHxduy5/eTN4Qa/CUVr0/a6J+kSaDdDs1ynf6kz0PzC6HutPTyC+37JKXXN12HNuUe/Np7XL9JaQIR6f5t07s6gxm0j5lyZcfej+g5ENCryoq26hN7yAQNkTcGK3jIplXJNh0g9/M+KkMkB5++ZrL6eqH+3UTHxXdxgfzby/8epWLl2dcf/bMFvdTbS7D43AvlbQHH6/1DjyVbtkFYkLe6DIieIctNfQG7w7uxTaTWN7jYDUns5knt2k3fOU6drNGPWfYgt0TiActkegosfHwRtXcgtZtYK95u6PEt+e0JS+GhrANUg0ozHbI2iz1ASoP93Zduv2cYQ00ndWV+1Q2lA/n9ioqA3KvfuHZqt1UKs3ufhM454bVC8SsvJk0pt9x9TngqiDWrRfQmK29S3c5rVjvD63gK65vby4ay4mFEQmlap3xFxcCvFlyN3pgqabqEh6BT10WAW5nDDFD8lUOcolUtVtHKGTS7FTNJ4i5Uqk9Aaco4tL0erRxJXTvOhtGqFQO4Jq81xAGFHVWs7a/ppE+ASB8k5A2RnzRcJqTuxE1nR1kvcPqzfqEE1Pvxr7ReN/5XKBkTc3pVLV1iIjcnF1Mj17pCz3BGS5EgUdpXmHdIMDeMm1V5shczR+dcmppbDmNlz6a58iFxeRAdCq6wb6er7Q1aUkQ42jq4v+qTxvXo4utdwNFBTBIFCuCRjRGUuon+p+KL0sZ2yyItN3Y5Mhnq0REDm6inSN0gYH8JLDMGPL11fykhfMUilM3S0vUXm4u+UlSoXIIAACr5tAkc32110c5A8CIKAkUPrdcnAEARAAARAAARAoOwJlsuYuO3WQEwiAAAiAAAjYOAFYbhuvYKgHAiAAAiBgYwRguW2sQqEOCIAACICAjROA5bbxCoZ6IAACIAACNkYAltvGKhTqgAAIgAAI2DgBWG4br2CoBwIgAAIgYGMEYLltrEKhDgiAAAiAgI0TgOW28QqGeiAAAiAAAjZGAJbbxioU6oAACIAACNg4AUFionn+j6+Nc4J6IAACIAACIGAdBBwkEomnp6d1FAalAAEQAAEQAAEQMEAAu+UGACEYBEAABEAABKyKACy3VVUHCgMCIAACIAACBgjAchsAhGAQAAEQAAEQsCoCsNxWVR0oDAiAAAiAAAgYIADLbQAQgkEABEAABEDAqgjAcltVdaAwIAACIAACIGCAACy3AUAIBgEQAAEQAAGrIgDLbVXVgcKAAAiAAAiAgAECsNwGACEYBEAABEAABKyKACy3VVUHCgMCIAACIAACBgjAchsAhGAQAAEQAAEQsCoCsNxWVR0oDAiAAAiAAAgYIOBgIBzBIAACtkKgoiQ99ml2IW0YYbXGdaozhfzwAgJWSwBtmK0aWG6rbaIoGAiYmUDy8U/bTo8pInThxedLm2McKEIFr1ZKAG2YrRj0WCttoCgWCJidQL7ojUqk1x8X17Wpmp8jUIpXyAXVGjsQrLnNzhoCLUMAbZjlinNuy7QvSAWBEhKQXtgybdq0zacfc+mkF3ZTn+0Rzzif0jsqEGGtlnVqeNRln4aNsFVeeqiQoCaANlxmTcHENbdAnh55/VG+qFg5BTKH6u1beTgWC4AHCICAPgKuH3QWDVj4jZ+fy+1nI+tUcsgIqTtg1lvkhyWbaxCm2KJYIEu8didTtW4uIpRx9GjXokYRT/ZVQKr/S1ISY1LfrpL/r4tzLRcX3mjwBAHTCKANm8bNhFSCyMhIT0/PkqbMS9hYrc1i/lSrwrOmN+EPgi8IgIBuAnn3/au1nUqtdeizT6+2bjg3tdeh1MDOzvnFUwhyb1at0a24P/WpSTbEZI+tXMzW06BHezs31TrnpjvnmyJ3jPCsyisHniBgAgG0YROgmZDERMtNc5LL5bz55YuEvKMGb2R4ggAIaBMQB89qOHo367Pi0uM5zapoh2q7dXVAwoiEIj67Tcg/98+fSHVoXJOaannS5S3jFh10IgOPPt3X3pFncqCdF9wgYDwBtGHjWZkc01TLLZCkJBf+eommCE7O7u4uTpo3fIIACJSEgEB2qpf7iHBChh3N8u2iJ+XT5BT2llmROPlCl3puzkU8eV8TdnzSZu7FNRefTWleiTcCPEHAFAJow6ZQK1kaE8+582N2Nu+0gj8r7Jbzc4EvCBgmkBd/WGm2CakY+N8jqy8PqpnHm4buljdowb9bXp2svZ092Zh9rwZt+xNyUSjkzQGeIGAiAbRhE8GVJJmJlrtCi4m3bg3jzYiuuXn94QkCIKCfALXHk1Xn3EGX68zpOG6m5/LGL75rlM+z9c04tn4Qc0vXmpvfbAtkKUm5dT00y3G6MFq+iJYnD5Zbf60gtCQE0IZLQsv0uKbulpueI1KCAAjwERBIjvTxGHeF+EQ8G9ewkvqw8MsDaWv68FtiPhl6/OiQ2rVGt5v9Z/h4d68vlNzeunpRaALp8Uda0ECzyNeTNYLshQDacFnVNCx3WZFGPiCglwBrqr13RG0aXl8ZUSA7N7/1kK1P5gY/XNbpLb1JjQpkKqQd/nzyhICLXOwPp+zZunbwO8W/csbFgAMESkIAbbgktEoVF5a7VPiQGATKHQG5QiKXCYROrrquoJc7jVBgeyOANmziObe9NRToCwI2Q0Bps5Vf/uA5PrcZHaGIbRNAG8avn9p2C4d2IAACIAACtkYAltvWahT6gAAIgAAI2DYBWG7brl9oBwIgAAIgYGsEYLltrUahDwiAAAiAgG0TgOW27fqFdiAAAiAAArZGAJbb1moU+oAACIAACNg2AVhu265faAcCIAACIGBrBGC5ba1GoQ8IgAAIgIBtE4Dltu36hXYgAAIgAAK2RgCW29ZqFPqAAAiAAAjYNgFYbtuuX2gHAiAAAiBgawQEiYmJtqYT9AEBEAABEAAB2yXgIJFIvLy8bFdBaAYCIAACIAACNkUAu+U2VZ1QBgRAAARAwOYJwHLbfBVDQRAAARAAAZsiAMttU9UJZUAABEAABGyeACy3zVcxFAQBEAABELApArDcNlWdUAYEQAAEQMDmCcBy23wVQ0EQAAEQAAGbIgDLbVPVCWVAAARAAARsngAst81XMRQEARAAARCwKQKw3DZVnVAGBEAABEDA5gnActt8FUNBEAABEAABmyIAy21T1QllQAAEQAAEbJ4ALLfNVzEUBAEQAAEQsCkCDjalDZQBARAoNYEs8b342JSH6VmOLrXqNm7l5VG11CIhAATKCQG55H5cXHJy8jOByN2tXsuWLaoJrbHksNzWWCsoEwi8LgLJ+zvXG3VRO/dK889I1/SorO0FNwjYIgGG3B0lanpAS7WKpNWfydeG1q2k5WcVTjPslktDVnw0/0yOVaiDQoCA/REQHxtUb+kNc+nNNPnoxz9vp0llMpk0/cav3cmrtT394l6ZSzzkgECZE5BdmN9pWtBjg/kKckn9OhN2hsc/l8tk8sy7Qd/nkahhU45aoXUzh+XOOhy1R2wQCiKAAAjoISAJ+23ChAm/hjzi4kjCtlGfjeFPOR9eR570ycnkaEUub2CJPT1Gbbm4aERTd2ehUOjs1nrwMK8Si0ACeyVgchs2Elj4uukTxy05lFIwj7yya94X/Zf8lW5AwMsdlzZnKQxEosGO769K2Tnhg4bVnIRCJ9cmg4cOMpzm9cQwz255xVzeowBZwtWY5wIexRin+h1a1eQJgBcI2CsB1449KnefPWf37reSc8fQ3TnxsWrdp1Qna7/fVUM/EgEjohEqMzyxnkddjckVFA/KIaLm7VtU50mh7SV7Gndlx+Ebb5DPP2psdbuF2gWF20oIlLANl9hAtOv3QYd544P+yH2PWduYEMlfMztO3EDmX9rubgBAflPixtdB9CSTK9IiD+84QkjvCe2t8agoMjKSKd2T5N+yivPBl8WFKCJ0cXEn23niF5cAHxCwJwJ5sbtpl6HWOj73ybY6xJH0Oys1Qv/Y3TQmXzfO8dPVAwm5rNAn+d+4zVzSo1n6YiIMBLQJlKANm2QgkvymKFvm/EtS8ek2dJFce/tT7ex1uIM/Im6+D3QEFvfOCeTWlasuFQ+2Bh8BtdxeXiXeEEsPmv2foRd79lbq9zw0NJKQRn36eDCMQ3po3HsBt/yGs5MUuVzO9f9CDkYoVK4T8IAACBQikH54Sq0h21iv1dHZ37SoUihY8/JvSsCHHquq9XajHmkZobeiSMtmfdxqM4zgybWTvc7L17Z0UkWVyeV8m140jG6Ga4TxfWbd2OMXkRH/54Jfw0iX7SnnJ9XhiwU/EChOwMg2TBOaZCBkp2ZW7r1Bma2QDA2TBrZ3Ll4E6kOjNeh9uWbvmm60U5w6eZveNeMMVlO/hJ2jGvAmYz3vHfK7lJpy4usldM39f2FPv+1qaH9KjyzLBJm4W+7k8u7I2ZX/I1RuQDwThN462a9Xy2bKTTlBozo1CnYustPSc/gGjnyha30RP2/LqAmpIFA+CLgP/jX4o22fXCJk5BldZptq4iB06Tymq8PbSvv8fnreragz73dvqeqPLd0avCtkzTYh2VJppoJv9syIatYT6tsDdPYaN41O6KeO7jO7dt8vvjk5yL+P1Q1e5aNG7a+URrZhCsYkAyH62Cfisw1t6Q3w1iFbdJhtKltU5b2RM9+sxFol0cnbR3q3bNlSudQUNK5Zo5amh+ionfeGer9HyOQ5n64UNFjbbfVw1ea8jrivybv0u+Xpfh3pbjnPBoLuzZCaZAN2y3mIwcvuCbCbjXQwoEuEgHTjcCTvMvtueUHGybtoYd7deKfABy4Q0EvA2DZsqoFQb5jTdllvTazeknCBdLec+Cdwr8Y7To9Sruz1Hy0ZL82MMU1cc1No3CMTvKTuHHpHhvNiHY5txA+TdK25i0YukhavIGCHBHIjvZuMp+fcp2I8prQYPsX926bMD/Qmjv4nX6bc16pIb84WXUiI+j9JS9K15nbkl/rsXnLl9zy47hl3LpjGa1tPuS2PBwQMEzC+DZtkIJjorfW8twoWHLvV42azPguazGjFbOhhqFQyGsFN1U0MxJQ+TCT133XRxMqN3O5PRKTJf3R0Fk281/FZ+jV3sm/ryjX2Yg1txvkURNklgcyAzsohYFtsLlU/LWiy8mVGsMGeRW+T0TW3mZYFOYdops2H/LT/8F8hh7Z/05e+0bvlUXK7rBAoXWICJrZhY/ORRn5GiDOZx97HDJ2h7CJjDj0ylDznBDXGOw3fUPs37hcqsMc3vwaGnD/s/zvNiz7vmrRYN1Sk0oaT0ltuyYnlHeedNji+lLakSA8CNk2ANdUT/Lg9vZzQGbXpwLEozNDl2fSjw7r8j+9uuSm8bu6cqhqvNH8+XhKWrvcauimZII1tEjC9DRvHg+5d04ed2tIU+cydJapzpeOGzpXCV/acatjA0/nyxUWF97g+940wrmhlHcvEu+Wabo1PEAABGySQK5HSc658kZD+JIUNqgeVQEAPAZlcqjpjcnRx4Y6N9ER/LUFmOOd+LeVGpiAAApYj4OjqYoVHe5bTF5JBoICASOgisvYJqxl+/bRAYbhAAARAAARAAAQsTACW28KAIR4EQAAEQAAEzEoAltusOCEMBEAABEAABCxMAJbbwoAhHgRAAARAAATMSgCW26w4IQwEQAAEQAAELEwAltvCgCEeBEAABEAABMxKAJbbrDghDARAAARAAAQsTACW28KAIR4EQAAEQAAEzEoAltusOCEMBEAABEAABCxMAJbbwoAhHgRAAARAAATMSgCW26w4IQwEQAAEQAAELExAkJiYaOEsIB4EQAAEQAAEQMBsBBwkEomnp6fZ5EEQCIAACIAACICAJQlgt9ySdCEbBEAABEAABMxNAJbb3EQhDwRAAARAAAQsSQCW25J0IRsEQAAEQAAEzE0AltvcRCEPBEAABEAABCxJAJbbknQhGwRAAARAAATMTQCW29xEIQ8EQAAEQAAELEkAltuSdCEbBEAABEAABMxNAJbb3EQhDwRAAARAAAQsSQCW25J0IRsEQAAEQAAEzE0AltvcRCEPBEAABEAABCxJAJbbknQhGwRAAARAAATMTQCW29xEIQ8EQAAEQAAELEnAwZLCIRsEQMDaCVSQS+7fT0hNTX1OhDXd6jZr1ryakLH2QqN8IGAmAlkZ8Q/iU5Mzsis5u73j2bxV3apmEmxZMbDcluUL6SBgzQSYCrET3NoHahWxImmx+/aZAXUctfzgBAHbJJAS2Lf551e0das880jiyq6VrX7uit1y7VqDGwTsi0AFGalbZ/SmszeSMsTijOTwfUvzSMyYOSdzBPbFAdraJwEB06jD8t3h91PFYnFqwl8/dSE5PoMOxr+yfhqw3NZfRyihXRCQXtgybdq0zacfc9pKL+ymPtsjnnE+ZncwTk2W3d7o3aZBNSeh0Mm18cAB/cyeBwTaDQFLt+GIDfO++nL5sdRcjmj4viUzR6y4JDbRkNUZvv7k14ObuDkLhULnmi0/GdiSk2zlDnPulr8Sx1159KL4PgOd1zt/0K6Bk9VvQFh5XaF4Nk3A9YPOogELv/Hzc7n9bGSdSg4ZIXUHzHqL/LBkcw3CGNV3BPL0yOuP8kXFMAlkDtXbt/IwsAEuV6RHHd9zgpAe3l7Fe3ExofAAgaIEStaGBbLEa3cy+XZ3GEePdi1qFJVOSOtebXounXp0/78NX6xslM9ILi3o/dVWMjPUxy2/eOSS+Qhkz+Kv7wmOrkzGftDYkeQb1eNKloVZYwsiIyM9PT3NIvPxDuf35/JLWnjx+dLm5pwl8GcDXxAozwTy7vtXazuVWuvQZ59ebd1wbmqvQ6mBnZ2NHZXyEjZWa7OYH8Cq8KzpTfiDqK9AdtTTfaxYFb7sZNbcDjpjIgAE9BIwvg0Lcm9WrdGNV1hNsiEmeyzv9DH14Jxmk3ZSa506Wza4weDbtTfExY2tXjo7m5fgW63N12xJ9j960beqsT2Ot/Bl42mK5aa3Wn6o0n4tV8Aef6QFDVRSFsjkMr4ZFCF0L4KLDgcIgIAuAuLgWQ1H72ZDV1x6PKdZFZ6YAlnYJPfBAeoQuko4lfF7M9Wellwu54lPSL5IyDsOcpHjjgaEP34UungFXXN/G5y4oFN1LggOECgRAaPasEqiruZKGJFQpMMaC2RnF7gP3aJM70QGHk/d15Zvalsp1b9ys6lcsXv4Rh0aVp97LeKomBW192DUs4SgbzddIB197oSMf8e4Xa4icsry1bR1sMs7Pfv0dqv2FkMqSrMetlVfo6+YmSXOVvCWvoqbB75qwksGniCgTcBtwE8B7XePCCdk2FF+s01jM6I3Ww3t/lLk7sIQgTTjacM8ukNO1wkCiVicrS2Nczs5u1d2ceJeizsaDxzRmJDxMwavqdLq10/WD1TtRhaPBh8QMEjAqDaskvIiXcx7FzJf6FJP5MyfESPq/nPYsC3d6BciWgWu5zXbNCEjdB/Xtf+/tZVCsrLT33PWd1SU59xq1KRWhHw+vOfCxsNmLjvd37fnW/y5W42vKWtuXYV/8Luz1xL+wBmXnq9sZtosgV8gfEHAJgmwm41UNfrtrJ0JlwfVzDNezfxb61w7reCPr3+3XCtN2BfOnwUMPPp0X3vHcrBnqFVwOK2FgJFtWM9ueXWy9nb2ZF27ROoNc6quxw/Xb8+iB97m0pxdqXusuxoz6T1zybSQHHNa00be8bc+0bXmrkSnQRbSAWJBwDYI0LFssuqcO+hynTkdx830XN74xXfGD0wVWky8dWsYLwq65ub1ryhNSiDv1ndRG2lagD8CiJA0fJvuvaO/8iKDp14CxrdhxrH1g5hbutbcusw2c2snPed2nHXgr663Ogz9tt3c5llru+gtkb7AZ3EplZvU5fK6e+Ekje1V101fGusIM+ea2zo0QilAoHwSEEiO9PEYd4X4RDwb17CS+rDwywNpa/pwI4vZFWMvtXWd89OkTk0rZsUHfj6XbkLW942K0n0oaPYyQKDtELBwG6YH0uPrdD1FZga/WNkynzm70JkeeH+2997WAW+bwlAgC67qPrrpgBXzRrWpmp90cfeM9ae1b42YIrOs0sBylxVp5AMCegmwptp7R9Sm4aqrNALZufmth2x9Mjf44bJOljp1cxCHfzug9y/xBSUb+3vYhjGtC97hAgGjCVi6DdOjHHoxk53a0kKxd6V/IS32J1zuVZJzJU6hW/u+7vSVL/dKus07vnXRRzX1HYoXRH6tLlju14ofmYOAFRCoIJNnKpSX0h1dXSy3vrcCRVEEEOAhkCuR0k17+v0L+ntEPMFW6WXOc26rVBCFAgEQMECAjlkuItWYhbNtA6gQbIME6IS1HKyyC4M38UfjCgvBGwiAAAiAAAiAQBkRgOUuI9DIBgRAAARAAATMQgCW2ywYIQQEQAAEQAAEyogALHcZgUY2IAACIAACIGAWArDcZsEIISAAAiAAAiBQRgRgucsINLIBARAAARAAAbMQgOU2C0YIAQEQAAEQAIEyIgDLXUagkQ0IgAAIgAAImIUALLdZMEIICIAACIAACJQRAVjuMgKNbEAABEAABEDALARguc2CEUJAAARAAARAoIwICBITE8soK2QDAiAAAiAAAiBQagIOEonEy8ur1HIgAARAAARAAARAoCwIYLe8LCgjDxAAARAAARAwFwFYbnORhBwQAAEQAAEQKAsCsNxlQRl5gAAIgAAIgIC5CMBym4sk5IAACIAACIBAWRCA5S4LysgDBEAABEAABMxFAJbbXCQhBwRAAARAAATKggAsd1lQRh4gAAIgAAIgYC4CsNzmIgk5IAACIAACIFAWBGC5y4Iy8gABEAABEAABcxGA5TYXScgBARAAARAAgbIgAMtdFpSRBwiAAAiAAAiYiwAst7lIQg4IgAAIgAAIlAWB0lrui/O8t8e9KouSIg8QAIFiBKQhKyb6PyjmbYpHrjTtVnjYUf/9h4NCr0al5JgiA2lAwLoIMCTRp+PiaIXBUsmexkZdOBm03//IifPXHkgNJzAo0aIRTLTcsX5rd199Skv2j69/tqgSIZITP/9yQmzRokI4CICAmkBO9B9r/COocVVkBe1SCKjvvaDft4Qpu6RpT37cHifX2i06dB/kPWrI0D4ftvZ4o/7aONNkIRUIvH4CkkMr158X5xIiP3slJs+JkKwb23/4M5W/YLLjfSrXfK91l75DR3kP7t+tvaercPLJx/xxrcPXRMstUFyb8GHNWp9P7Ccl65YtGSyoNmz+Jan0hXUohVKAgM0TkC30bvdG00mzR8WQtasW9ha8P3TGE6m0NGr36eNzKVYsk8kUkicnfuxIkhZ8st88q/nSlAppQcA0ApViv+7m7tRr/uIjJGTtkjkClzaTw1Izdayl86t1Xe53/W+JnLb/p1EBgwjx77vshmkZl02qyMhIxrRHcWcJV8Sdt02TgVQgAAIsgcxzv44fP379iVQOSOa5rdTn96sZnE9hR87pUeoeWMX54NPCYaV9i91MRb/rn1BaOUhvTwRK3oZLRufqz19NGLs4MDmXS3Z559xJ/RafT+M8CjleJf/J2ahf4rILhel9CaxJ3iCfR8n1RnqtgQ6cYiVyvEq/sWPhZ6u4NBObfSW68P1nnaqrfJ5HXY3JFVRmuGC1I4eImrdvwcYpGoZ3ELBvAq4de1TuPnvO7t1vJeeOqVuJiI9V6z6lOln7/a4aPGAUT45vmveJvzrkRdbwgQsDtiwZ3sxF6fMq/d7FlOziHbCCjLh82L4h3TnU+yiy7oX4+tEoCzo00BsRgSBQiEDJ2jCRJVyNea486in6ME71O7SqWdSXkHb9Pugwb3zQH7nvMWsb0zPav2Z2nLiBzL+03b14XPIs+uB3rT7lAhY3nvBW2I9juzbkfHQ4ZA/OH9qTQV6OGtrSUE/RIaFMvE1ac+ecoANEN5+YrLTgjwidy9DFAS3shPPsvD9H2el1PJcVr3WigsxBwIoJ5MXupv2GWuv43Cfb6hBH0u+slL+4Sf4taejh2Kwk/05uvg+k4tPTaMr5l9jYKRt1dD9C/hv1il8i66uIoPuE7LPo3At9MREGAnwEjG/DjCJC09aKfrqT7S/5hFO/JL8pytj0cFZ8ug0hjrW38+425TN3aEtuuep0ZlbkSDLkapb0yialFT+apUOuyjvZtzVbFNoHecXqS1y2YQJqub28vNjiluCvTE5EQkJk/oLKEdGv1rWga3cZISK1BJlczjeToqFCIU2FBwRAgJ9A+uEptYZsY8NWR2d/06IKfzwioztYlQlJ3SSom3mHWfo+jZZDCPVRPTp7oP4OyJAn53YeuZMRO2eRj5AMDUwP7OemlogPEDCSgNFtmMjlcn6ZjFCoMSbFIshOzazce4PSmzbRMGlge+diUVQeVDht7QyJrCBoS1eMHzpSG8WaLf741Dcn6vie6/cfHpq75hT58OeIy3Pp3MBKH1Mtt0adV2npL1zdqxU2x9lp6ZkKviphRDXruWkGF40IfIIACBQQkB3vVPmTS4SMPMP49yjw1uVSPHkie6u2S+F9PUlachb/VZyq7h5Feiu/4ORjbesNjJx+htlgRBn4RcDXbgkY24YzkpJz+NZ4+ULX+u46DDIh1BiPErQ9QMiHIU8v9zF8+pqRlP5mPfcS2Z0LC9y6rM3Ylc6Mt9qZq0m75fr3BbBbrp8PQkFAJwF2s5EO+RVJq4B0ndH0B8Sv02kzvo7Wu1uukZvPPFBuv3faq2vTUhMRnyBQlICxbVj3bnlNskFPw1NvmNP2WW9NbNHMzfOe7jeEil+t/2jJPFmZKMXEG2o6BwZlgKj/k7QkXWtuumWBBwRAgJdAbqR3k/H0jO1UjMeUFsOnuH/blPmhMW9MvZ4NJzxJGqJrzc3f5V8kxSrqNSlYv0Sf3USzaF6ylYreQiHQPggY34Yd24gfJulac+taIjPRW+t5bxUsOHarx81mfRY0mdHKHNtCktikCk3qcat8ycU9QbS23q3F31msoiItsOY2cRKBZCBg3wQyAzorx4RtscovvaQFTVa+zAjWs/gwIy56qY2u8uf+cuD4+ZA/N89TZq0piRlzgShbJ2DhNiyN/IwQZzKP/Spz6AxlKx1z6FFpqSoi6IF2owFL9gWdDA3y++9ApVjS62DZdD3TCk9guU0Dh1QgYF4CrKme4Md9hTondEZtOoAsCiuLW67Pr27Vvo1DL67vuqLre+Tm1RvSbIeApdsw+wMG7NSWUqMXyOlvitAZ53FTz5VY9PnM3we8u6nMtfpP5xkBKdZdLaW9oaatLdwgAALlmgC9jksfwohcXAtfeSvXWqHwIGAUAVmuREF374VOLrpvthslqAwiWfE+fhlojyxAAAS0CNBv0dBHywNOELAfAiJHV1F5uYhl4u+W209lQlMQAAEQAAEQsCoCsNxWVR0oDAiAAAiAAAgYIADLbQAQgkEABEAABEDAqgjAcltVdaAwIAACIAACIGCAACy3AUAIBgEQAAEQAAGrIgDLbVXVgcKAAAiAAAiAgAECsNwGACEYBEAABEAABKyKACy3VVUHCgMCIAACIAACBgjAchsAhGAQAAEQAAEQsCoCsNxWVR0oDAiAAAiAAAgYIADLbQAQgkEABEAABEDAqggIEhMTrapAKAwIgAAIgAAIgIAeAg4SicTT01NPDASBAAiAAAiAAAhYDwHslltPXaAkIAACIAACIGCYACy3YUaIAQIgAAIgAALWQwCW23rqAiUBARAAARAAAcMEYLkNM0IMEAABEAABELAeArDc1lMXKAkIgAAIgAAIGCYAy22YEWKAAAiAAAiAgPUQgOW2nrpASUAABEAABEDAMAFYbsOMEAMEQAAEQAAErIcALLf11AVKAgIgAAIgAAKGCcByG2aEGCAAAiAAAiBgPQRgua2nLlASEAABEAABEDBMAJbbMCPEAAEQAAEQAAHrIVBay+2QETbJedie+6+sRyWUBATshwBTIW3/8NbzDz40WeUKcsmDW9fPBR8MCA7+K+J2plxgsigkBAErJCC9sKVr6+9vK/gbdlZG/I2LpwMDA4+euRSVkm2F5ectkgOvr/Gesce+P0KqT/ZwIiTf+FSICQIgYB4C0Ye/PJ24YlkN06QxFWInuLUP1EpckbTYffvMgDqOWn5wgkC5JSCQnJ66MKrutlpChjBFtUgJ7Nv88yvavpVnHklc2bVysZjacazBXao1N1Ph4f65N1/NnNfeEWbbGmoTZbA7AtfWL3qL/DCseVXTNK8gI3XrjN509kZShlickRy+b2keiRkz52QO//rEtEyQCgReGwEHcdgXfxPvpT2q8xljAdOow/Ld4fdTxWJxasJfP3UhOT6DDsaXgy3kUlnunJjDawnxGef12qoFGYOArRCge3rTpk3bfPoxp5D0wm7qsz3iGedTxFEx6+riQOLs2/8dhm9YKhKb75VxarLs9kbvNg2qOQmFTq6NBw7oxxcNfiBgDAET2rAxYrk4ERvmffXl8mOpuZxP+L4lM0esuCTWacji/tzgRAZ+1bY6l0TbUWf4+pNfD27i5iwUCp1rtvxkYEvtUGt2l2q3/PqvK+h8v1sjR6IaOF6J4648elF8n4HO650/aNfAycTBxZrxoWwgYC4Crh90Fg1Y+I2fn8vtZyPrVHLICKk7YBbtX0s212D7V/GM/r74ewxpse/jBuxZlUCeHnn9Ub6oWESBzKF6+1YeBjbA5Yr0qON7ThDSw9ureC8uJhQeIFCUQMnasECWeO1OJt/uDuPo0a4FzwFQ615tei6denT/vw1frGyUz0guLej91VYyM9THjX/Tlx4GbVx6Q7FsZTOD1kcgexZ/fU9wdGUy9oPGjiTf2q2VIDIy0tPTs2gNGPFO5/ud6/SR+kZFDavPRn+8w/n9ufwpF158vrR5qWYJ/HLhCwI2RCDvvn+1tlOptQ599unV1g3npvY6lBrY2Zl/VCICyR9VPWb0+CMtaCBraPMSNlZrs5ifx6rwrOlN+IOor0B21NN9rFgVvuxk1twOOmMiAAT0EjC+DQtyb1at0Y1XWE2yISZ7LO/0MfXgnGaTdlJrnTpbNrjB4Nu1N8TFjeXdCaeScyJ+qdVzuU/Es3ENK/FmxHrmJfhWa/M1697/6EXfqjp6nB4RZR5kuuVODRzb8vOUfY8uFegpkMllfDMoQuheRJmrhgxBoPwREAfPajh6N1vuFZcez2lWRZcOTvf9hW2nLj7z96K2b3Jx5HI559Z25IuEvOMgFyfuaED440ehi1fQNfe3wYkLOvHvLnLx4QABXQSMb8O6mithREKRjlWvQHZ2gfvQLcrM6Tb48dR9bXVObWWhQ9y/Orv2WvZkXaadVaFiVtTeg1HPEoK+3XSBdPS5EzLe5OMnXUzM7m+q5RZItlf1mDf8z6wdvbkyVZSkP8xWcK/ajipuHtXo1T48IAAC+gkIZKd6uY8IJ2TY0SzfLnri3v25ds/vh4a8+L0lt7MnkKQk83+txcnZ3d2FfgHEwEPvnK6p0uo3MvOsajfSQGwEgwAvAaPb8NPkFN67kPlCl3puzryyqSdT8eakN7vRL0S0D3wY2vMtXdEqZJ/r8s4Q1x33Dg1/W1ecIv5pZxY2HrZlWOBDX91iiyR5Xa8m7mDnxZ+cR8jCOR9qlzver5HXEm2PAveMS89XNjMxrwIpcIGArRPIiz+sNNuEVAz875HVlwfVzOPVmB7g/fz9y5yV0wvMNj3rjtnZvNMK3vhE/265Jo0gv37bESQ3IEVCv9XtiKm2hgs+S0LAyDZMd8sbtODfLa9O1t7Onqxrl+jRgT3s9xjD5/nF355FD7x5S5d0eg29BXL443eM/8ZynYatqKgbKfTcSOeEgDevsvc00ZrG7Jlahcwc3qKq9kl+I+/4W5/oWnPTYwZ+vmWvM3IEAeskQMeyyapz7qDLdeZ0HDfTc3njF9/xDkyK84fp4LXp06aEFJj2Ci0m3ro1jFc1uubm9a8oTUog79Z3UR/s0QL8EUCEpOHb9EYP+isvMnjqJWB8G2YcWz+IuaVrza3LbDO3dtJzbsdZB/7qeqvD0G/bzW2etbZL8RLRXyg6/fmVvGFHdV4TUaV5FpdSuUldLq+7F05Sb6+6bsUFWpuPKbvlAkXsxJrtb6y7GjPpPWvTB+UBgfJKQCA50sdj3BXCXqhRHxZ+eSBtTR9uZFGrptqN9E7VdzfHSAjspbauc36a1Klpxaz4wM/n0glBfa1rp0bKQTQQUBIwvg2bxIseSI+v0/UUmRn8YiXdbTq70JkeeH+2997WAUX3w9mLcvpvitCLmcFV3Uc3HbBi3qg2VfOTLu6esf40vVt+KuN3w3fRTSq/GROZYrnpXXyP/lv3JPyjayvPjOWDKBCwEwKsqfbeEbVpuOrLGgLZufmth2x9Mjf44bJOhfbu6E8Ov+E52CyncQ7i8G8H9P4lvoDx2N/DNoxpXfAOFwgYTcD4Nmy0yEIRw75wHhygntrSAHpm9EOV9r+QFvsTLvcqfK5081vnwT7zL2d/p/+u2a19X3f6yrcgj27zjm9d9FFNA9+fLIj/+lwlt9wC2ZE+7uPItrSTnxZdCrw+NZAzCNgPgUd7+7Wa/kbw00Bz/XZhBZk8U6G8lO7o6oJObT8NyVY1pTv2E2t0+2vj1cTRRu0K50qkdNOefv+C/h5ReWFS4nNuB3EI3dAbeLwHenh5qWOU05YI0Ovfv0y//OqLUHOZbQqHjlkuItWYhbNtW2or9qpLVujP9NBnz8fNtG+B6IFBJ6zlYJVdWAFT1txSiQJz88IY8QYCZUdAKpXSXyrV+YXXsisIcgIBayRA//1dpqyyi6vhr0FaY+mNK1OJ19z0O/IuLiLcOzUOL2KBgPkJuLi44Jsa5scKibZCIF/o6lJutr1NhK7zh9pNlIdkIAACIAACIAACliQAy21JupANAiAAAiAAAuYmAMttbqKQBwIgAAIgAAKWJADLbUm6kA0CIAACIAAC5iYAy21uopAHAiAAAiAAApYkAMttSbqQDQIgAAIgAALmJgDLbW6ikAcCIAACIAACliQAy21JupANAiAAAiAAAuYmAMttbqKQBwIgAAIgAAKWJCBITEy0pHzIBgEQAAEQAAEQMCcBB4lE4uXlZU6RkAUCIAACIAACIGAxAtgttxhaCAYBEAABEAABCxCA5bYAVIgEARAAARAAAYsRgOW2GFoIBgEQAAEQAAELEIDltgBUiAQBEAABEAABixGA5bYYWggGARAAARAAAQsQgOW2AFSIBAEQAAEQAAGLEYDlthhaCAYBEAABEAABCxCA5bYAVIgEARAAARAAAYsRgOW2GFoIBgEQAAEQAAELEIDltgBUiAQBEAABEAABixGA5bYYWggGARAAARAAAQsQgOW2AFSIBAEQAAEQAAGLEXAwWfLL2Ctno1P/da3VrmuX/wgLxLxIin0mrF+vllOBF1wgAAJmJyC9ezHs1iNBNc/23dq6O3LiFVkPk5+80aiJG+dTCofsaWxcbEryE0mFqrXcG7Zs2cAF/boUOJG0bAkkXA27kSJ2dmvdpVvDygVZy1JjUyrUa6xttgoCtVy50rS4uLjkJHG+0NXNo3GLVnW1hGjFey3OyMhIpuTPk5BZXGnfIJ9fVmhEpB+l/t0PPdO84xMEQMACBFQdjeuD22Jz2Tzymb+XUN+RZ8yRZU5wby4HteOLkEfmkAwZIGBxAhema7XeXgdfajKUhEyiAbvSNe86PvNid2ulVznrrYnVEbnsvU3ZLWfIkx19fyMLVKOD9GJP4jvu0ANWyTNfD6xO1u4c8lZRnfEOAiBgPgIRawe6kqWqcSRzTxcyefbRHJVw8eHlqwg5uqWHWbLKr9Z1ud/1vyVymUz2NCpgECH+fZfdMItoCAEBixIQn+78O2EnmjlX15NTw/3iXtEMGZK4pu8OsurSeCP2pPr08bkUK6aNXyF5cuLHjiRpwSf71ZbOomU3RrgplluQK7lDyLut6yozEDFHuHxSdn/sTyZe/bIO5wMHCICAcQQkYb9NmDDh15BHXHRJ2DbqszH8KeejccgywomkYyu2o736S+3NkLvfD9lGVkYOqKqJWKpP0QC/sGWj2tZ2cRIKhdVbDh9XUymuoqJUQpHYhgmUpA2bgiF83fSJ45YcSlHaYPa5smveF/2X/JWuedd85kvSqPMDD6V9ForYaa0yLMN/wU+k1dHpHZUvep8KjceFhMzo2LgmbfyOLrX6Dh6rN3pZB5p+zs2WlHGs9hkh52UC+nr8ywmOtbcvbP8mnxKyhKsxz5Wxij6MU/0OrVRDQtEQvIOAHRFw7dijcvfZc3bvfis5d0zdSkR8rFr3KXQH6/tdNXRRUJ26ubrRPe0cOY2Tsv+7raTVqflefPFL2QFlD84f2pNBXo4a2hIn3Xx84UcJlLANl7hNtuv3QYd544P+yH2PWduYEMlfMztO3EDmX9rurgt/JRogcHqb/n1JKtGp7WzvoLyf75R0aqvIuhfi60eFLOjQQFdOZe1v0jl3TkBnQhoujZHKM89tpSUeHf6CSd5FHevjchlp5I6FowcNGjR705EUbvtfEaFLMXeynTuB4KLDAQJ2SIA9WqPWOj73ybY6xJH0OyvlxxC706siabUvLjs3/fQ02rXmRuYzd+gc2s33AcNkHl83n3ZA74Vbr6dpkpeiAyb7tmY7Ly3YU408fIIALwHj2zBjUptM8puibI3zL0nFp9sQQteK/G1SEUEPdwQLjj2XSy7tGkFTBOUy6X4daZ+it7JeRgUsHTdg8MAJvx26xatFgadKDtv+F517UeD/ul3EJMvN5MX+SampH296+C8L/oiQjgf/YRLpOCIkQ9f9ukAZqnUvgJ4W8D85r5sB8gcBqyGQFjRZ06/I6uhsneVS3FnRUB2RXhGNkjPUvtJ+F6WQn/1Y6f/1+vXUkLNBrBD+3kd9DXXAlzeDN21et6CXUuyHP0foLBICQEBFwNg2zDAmtcmc0BnKpkgf2uCv6pja0oI8DJrNRqN/e/kn0KktteXv+icoMnYp/Qcu8fmmL/2kPnrqjV75POO7cf3qmTQmze64oXttekSZN0hALbeXF+/2mlI7vY8kPV1BGJF7LWcmen2FVl9vi2W+EO0WeEygN12/aFwpZadXw8/dwxTHP3RUislISs7h2y2nF+7ruzvrzQiBIGA/BGTHO1X+5JLqfri/gYtm2WnptE9VdXevnBvZ1qmtxD8hYaRilKBppH/Cg5EN8uK3ODSeSrfBZjdS7hmWvgNeWODWZW0GvZRrzO0e+6kwaFqMgLFt2LQ2yZDIUYK2B+g8MuTp5T7Vi+Wu5SGRZkjl/7q60rsa8ZvatvyqziUm8D/+H3l4u1GHF5Ed7FJ5BLP35YXRhr/ulXysbb2BkdPPMBsM9Eqt7C3pNG3NXXj6kLmDlrDXQepJZ1t0YsJ+z+zfuM10a4KuBpSP7o2RmmQDdstVjPAH7KI0oAAAQABJREFUBOhu1m62u9PN8ACjJ/jR6yrS5bWy3yXRAY2ovySmUC4ylAdY9DFHB0z3G0KFr456hXoCAT0EjG3DprZJ9YY5bYvGf01LepFuErPL69OjlNvDrNGhO1VVnAu+MKZHqXzmAd1OJp32Wom1Ku0NNaqLPOzXSYRs3jqMut083ntF9jzJJl5VyYsk5dm2ep3t2Eb8MEnXmtvwfIcKwgMCNk8gN9K7yXh6nHwqxmNKi+FT3L9tyvxAb+IYeLJPt5yb1y1ohXLrrHZ9aq3vS+n970pE8pB+76Mbm9iUDiiJTarQpB63Hya5uCeICnu3lhkGDQMaIbj8EjC+DZvSJgkTvbWe91Z6gH2rx81mfRY0mdHKmEXwrd8/TiDzwkcq75e906lNza/S6XVzaneeRt580Vx5u7P4Q39STFGvScGKPvrsJhqpubu1WKtSrrnpMcAGqg/dQ2AfsXLK32HdRYn04Z5+xJnMK7ikpmc+gyAQAAEmU3nxU7NiVh8Wzgg2OMe/Pl/Z0djfiKArA+UvsXTZniCVXNnUnTqNX7gXrQFFBF2mNBqwZF/QydAgv/8OVJZN++ZK0fh4BwFT27Cx5KSR9PYGbe3sti574D3mkKFfB0o/RVvuyBD1VTbpoS/o6/+FpWYnn6HSCoxX4UKkbCR032vuLweOnw/5c/M8GpE+3E8eFY77Gt5MvKHGlTTn6o9UH+1z+1jf4SodlX98o3RfseFEwAECIKA6aaJdZoIfd1+G3sSpTX0WhfFfnlUzU20DTjhfEOdl1BZl31M94/1vm4yWTsoPeKtX7Ky0zjMCMBE3mac9JGSnmyVuw0ajUW50a5lPeumMzlOpfdU2QMWF0bMkuo/FNV1lwx7DtmjlJEDXHbfnV7fSmSv30JPfXVcyigt/XT6luaHGKVXMIZdI5QJHFxdr2VgoVkB4gIBNE5BJpYp8oUs1rX8oYKq+slyJgp5zCZ1chCJTZSAdCFgZgVyJlLZqFxcX/eWSqx56EdvF1bp+x8AyR1ZCVxczDBn6kSIUBEBAFwGRi4u5zKzI0VWk+naIrrzgDwLlj4Cjq4sxrZr+gBp9rFA9U3791ArVQJFAAARAAARAwE4IwHLbSUVDTRAAARAAARshAMttIxUJNUAABEAABOyEACy3nVQ01AQBEAABELARArDcNlKRUAMEQAAEQMBOCMBy20lFQ00QAAEQAAEbIQDLbSMVCTVAAARAAATshAAst51UNNQEARAAARCwEQKw3DZSkVADBEAABEDATgjActtJRUNNEAABEAABGyEAy20jFQk1QAAEQAAE7ISAIDEx0U5UhZogAAIgAAIgYAMEHCQSiaenpw1oAhVAAARAAARAwB4IYLfcHmoZOoIACIAACNgOAVhu26lLaAICIAACIGAPBGC57aGWoSMIgAAIgIDtEIDltp26hCYgAAIgAAL2QACW2x5qGTqCAAiAAAjYDgFYbtupS2gCAiAAAiBgDwRgue2hlqEjCIAACICA7RCA5baduoQmIAACIAAC9kAAltseahk6ggAIgAAI2A4BWG7bqUtoAgIgAAIgYA8EYLntoZahIwiAAAiAgO0QgOW2nbqEJiAAAiAAAvZAoLSW2yEjbJLzsD33X2nDkl7Y0rX197cVAm1PuEEABMxOgKmQtn946/kHH2pL5u2V2hEMunOl6bcjLpw4GBh87Oz1mNQcdGWDyBDBWgnw2iNeT7UGAtmz+JhLZ44FHjx++mLkQ6nCCjVzKGWZYo99f4RUn+zhREi+Rm3J6akLo+puqyVkCFNK8UgOAiCgl0D04S9PJ65YVkM7Ek+v1A425M6771+j7dRCsTx+uH57VqN89OdCVPBSDggI+OwRryerjEAWOsT907OFNBsXeM+n59uFvF73S6nW3EyFh/vn3nw1c157R43ZJsRBHPbF38R7aY/q6Oavu3aRv80TuLZ+0Vvkh2HNq3Ka8vZKLtRIR8+P/xcakSAWi5+mxAcsb0+Svx0ZkGhkWkQDAeshwGuPeD25MjOuHy3eERafkkHb/8OLu/sRcnDYj9EVrGvfqVSWOyfm8FpCfMZ5cTpTR9yfG5zIwK/aVtf2hBsEQEA/Abp9N23atM2nH3PRpBd2U5/tEc84nyKOillXFwcSZ9/+7zAF02TeXlkkof7Xig1HBR78sn3DmkKh0NHFfUD/z/THRygIsARMaMMlQhexYd5XXy4/lprLpQrft2TmiBWXxDoNGa894vVUy2REfXYcXzS8tbuLE23/bzUfPMpNGVJRxuVpFY5S7ZZf/3UFne93a+RINAMHUyF249IbimUrmzmph5LMmOu3XwkqFwwsarVziPD9ds2wLreKVoBCWAEB1w86iwYs/MbPz+X2s5F1KjlkhNQdMIv2ryWba3D9q0gx/774ewxpse/jBgVnVYQU6ZWvxHFXHr0o3gEryIjzB+0aaPppEcncqyIr7vgfAfR1VltPQvI4fzhAoDiBkrVhgSzx2p1MvqUs4+jRrkWhAyA2r9a92vRcOvXo/n8bvlhJz24klxb0/mormRnq41aw6atdquL2iIbyemqnKnALZA8vHPMXk5zhAziLVhD6Wl2mW2463/8+oOh8X3bt5A66Cv+kjVopgexc548n6dAw9OmL6lrb7DpiwRsE7IIA49RkTcTmHW2nLmm22evZp1d7jKxEeu1Knf0Owz8qEXpWN/pYXo8/ujjncxdKivdKcfAHA+fyA1x48fnS5jpHAEHuzZE1up1QJZ137O+JdWC2+THClyNQojYsUMS2/rgnl1bbUZNsiMkeW3y6SXeDbu+41myST7sln6TOlg3tv7VS7Q1xK9tz7V9bCHUXtUeqYF7PIgnp66O9nZtOj6EOOntO9O2tK4viCcvGRxAZGenpSWfTJX5SA8e2/Dxl36NLfatqRhbV2f5XZ9dey57MLaYryOS6LqbSvYgS54oEIGDTBMTBsxqO3s2quOLS4znNquhS1+m+v7Dt1MVn/l7U9k0uDm+vlMv41jWE6O+A9Nb6hT0n7j2LX7RsCz3/2pvg16smjDdHGg6dBIxvw3K5nF8KIxKKiu3TslEFsrML3IduUb7QZnk8dV9bOnPlffjsEeH15EueExO6/+aD5KNLfj1H2q88HzqjFV+s1+ZnquUWSLZX9Zg3/M+sHb25slfIPtflnSGuO+4dGl5wDS87XSxR8FUPI6pRr2bxWRUnDQ4QsEcCAtmpXu4jwgkZdjTLt4seAnd/rt3z+6EhL35vyV355uuVFSXpD7P5v9ZSxc2jGv0CiKHHMSWkY/ORNycfzVqrrzyGxCDcbggY3YafJqfwruvyhS713Jx18WIq3pz0ZrdAQtoHPgzt+ZauaLz2iNdTlwTW/8q3Dfv6iDcl/ONtTTNXnXtl+pXJiz85j5CFcz7UjpZ0eg09dTv88TsFp260Chs11LNbrn0pXVsU3CBgnwTy4g8rzTa9ERP43yOrLw/SMVjQs7qfv3+Zs3J6gdmmp9B8vTLer5HXEn6WMy49X9nM8AigqNeILjdu3hXTQRZTbX6U8NUiYGQbpscxDVp000pX4KxO1t7OnqyrsT06sIeabfqEz/OL1/1lRR57RAivZ0HGfK4GLdsRciwjXUFqGu4sfAIs4mdiUWL2TK1CZg5vUZVo5vt0b+3051fyhh3trL13wYh6xd+/pWvN7VRwPmcR5SAUBMoVATqWTW47lZ6rBV2uM6fjuJmeyxu/+I73W9SK84fp4LXp06bat8aK90qqfSPv+Fuf6FpzV6L3dYoTepEcT601d+BFov+il1fI+266RtLiEuBjtwSMb8OMY+sHMbd0rbl1NTbm1s5mk3Y6zjrwV9dbHYZ+225uc96tIF57xOtZtKYEkvikCo08NCt+geTK/mM0Tj13+pslVnRaZIrlpjcLNviQt9Z5a48p+XHn6Sp8xdeti4Co6u5W8FXTImE8g0aRGHgFAbshIJAcHqTcA/SJmNqiYaX9+8Y3HL223fy2aWv6FB3FBLILK1fTuzm93PI4y8vbKym7PFf3uq66GPL3wKyz7ZrPbTH1x6+7Nq/yMuH8hDk+NL3PlEIbbLokwt+uCRjfhlWYanjULRGuillR4zvNoYvG4JV938vvc+jLlUO3DJzS5d7WAQXns6xAXnvE61mkAAJF0tQW3f7pO++bMR2rEcnVfZP+d5qQHn98rNXXiiR5La86vwanpzSZEb50fPl+QDPtOHS+70zma/8ihHYo3CAAAvoJiI8tG3eFeO+IGteQLoWJ24CfgqbUJls+W3PheZGEDuJwuqM+0KdfwbKYEN5eWSShka+Vm//agsT8vnjCiP7DqNmmV9w3nU5kS2WkBESzTwLGt2HT+JyZ15WanlURy9hDou5rw+fTn0kZM+pURsUiAnntEa9nkYT5wlqzRnS6H/LzpNFDh4ye9L8T5MMpe+4EDSo6ey6SrMxfS35DTSA70sd9HNmWdvJTThm6QzKxRre/Nl5NHP1emauADEHAvgg82tuv1fQ3gp8GFlwT4euVpYRC7/0qr/4yIhdXuk+IBwTKDQFee8TrqVMlgSw3U0F38oVOrjpvuetMXBYBJd4tdxCH0JXBwOM9OLNNi5kV+jOdCu35mK7CregkoCz4IQ8QKFsC9MdNf5l++dUXoQVmW/mTwzy9spTlot8Z0/+1sVLKR3IQsBABXnvE66mzAIzI0VXkqAzmP1HSmbCsAkxZc0slCkdXF23LXUEuyZRVxty8rGoN+dg1AalUWnQpIJAV75V2zQjK2zEBXnvE61l+IZXccpdfXVFyEAABEAABECj/BEy5oVb+tYYGIAACIAACIFBeCcByl9eaQ7lBAARAAATskwAst33WO7QGARAAARAorwRguctrzaHcIAACIAAC9kkAlts+6x1agwAIgAAIlFcCsNzlteZQbhAAARAAAfskAMttn/UOrUEABEAABMorAVju8lpzKDcIgAAIgIB9EoDlts96h9YgAAIgAALllYAgMTGxvJYd5QYBEAABEAAB+yPgIJFIvLy87E9xaAwCIAACIAAC5ZIAdsvLZbWh0CAAAiAAAnZLAJbbbqseioMACIAACJRLArDc5bLaUGgQAAEQAAG7JQDLbbdVD8VBAARAAATKJQFY7nJZbSg0CIAACICA3RKA5bbbqofiIAACIAAC5ZIALHe5rDYUGgRAAARAwG4JwHLbbdVDcRAAARAAgXJJAJa7XFYbCg0CIAACIGC3BGC57bbqoTgIgAAIgEC5JADLXS6rDYUGARAAARCwWwKw3HZb9VAcBEAABECgXBIoreW+OM97e9wrftXFx/pPD87hD4MvCICAGQhIQ1ZM9H/AK4ghiT4dF0creANL6il7Ght14WTQfv8jJ85feyA1j9CSFgLxQaCkBAz0AuOMVK407VZ42FH//YeDQq9GpViDUTPRcsf6rd199SmF+I+vf7aoEiGSEz//ckKsopp1w2fln6nUKc+8uE9RmZCc6IM/+EaUlDjigwAI6CKQE/3HGv8IOoIosoJ2KQQ02r2g37eEKbsk7YyHVq4/L86lPfDslZg8J0Kybmz/QdUlVcEl/yM73qdyzfdad+k7dJT34P7d2nu6CieffFxyOUgBAmVGQG8vKImRyo/b4+Rau0WH7oO8Rw0Z2ufD1h5v1F8bV2Z66MooMjKSKfkT6zucCnSfOIH+fXv84kGECMnQfXHZSknSyGmEVCStJg5R/l30dXcap+Wq009LngtSgAAI8BJ4GbWFdivy/uefqf4u6KV8++7QfVXkzKOjla895w2gf0cunq186b4mSs4ryRjPnKOjui73u/63RC6TyZ5GBdD+/gb53JSBw5jcEAcEzEBAby8oiZHKi93dp4/PpVgxbfwKyZMTP3ak/eld/wQzlLEUIohplluZo+LOEuWQoHp23i5ShrSgIWyII+l3WVEkEK8gAAJFCWSe+3X8+PHrT6RyAZnntlKf369mcD6FHTmnR6n7XxXng0Vmxq+S/1SHEfILO6UunLg0b4E1lZa7FFOB0mSOtNZLoORtuGS6XP35qwljFwcm53LJLu+cO6nf4vNpnEchh/5eYKKRit1Me1Z5tdy5aZGbxr7LDQ3UMW3/Bc3YkXP30Jo22mHd15yKzVITlf997dxVnif8XORDWPhCzQ4v9kVAcYduVtHnD3ZgSj9K3dXJ2hReCvK/g38ZqYqu/tNhQcAtiToqXRazotgwuh+2JyxeIybn/hWe/ke9rtwUa+Lo+cxJCNtL19xkVLCeSAiyUwIlasNMiZsiXf7SpudM5sWq+Gaen6Fs4fMv8dLW3wv0GSlecSpPufRu0ILONM/NybojlUmIaWvunBMuhHTziclKC/5IOaOniwOqzITzKtutgrsk5P6L+M10KfBMkXhgDHElS9kB6N+4X5SseZ91d8pEZWQCAlZKgB2YqLWOz32yrQ6h+1VnpfxFTfJvSUMPx2Yl+Xdy830gFZ9WmmrVEJbP3KGWlZ5PZWZFjiRDrmZJr2z6lAYeZSfPCp03TtzJ9pf8ual9k31bsx2XllAzTdebAIH2R8D4NsyY1BST/KYoG+H8S7TN0/WhY+3tvE3RQC/Qa6T4K00RoZywqp5F517wxylDX9MsN8PkyFSFzPEj5OvoV6ybK7YsR+n8N35lTbKBHQtYHzYCPS3gffSPGpxwOEDAhgmkBU3WjA9kdbTq4gi/tjlsf0nZSMgP6ikv14No/6KJ8hmlkVafVak7rFIWb+9Teqq6LX9uKt+XN4M3bV7Hnql/+HOEnpgIsmcCRrdh05piTqhqpU3bNt1Muqpjakv5G+gFeo1U8erLZ/4+47tx/eqZbL7H04tHKVMfAT3n9vLy4gaLkjpepaW/cHWvJuRNJ0tPy3Wv5Vw4TJKcnFXYR/3m6FKrtgu9CIsHBOyZgOx4p8qfXKJXy84w/j0Mg1A8eSJ7S1fHyUhKf7OeO/1+h/aTkZSco7yNXvTJF7rWdy/SW4vGYd8vLHDrsjZjVzoz3o0/Anztm4Cxbdi0psiQyFGCtgcI+TDk6eU+1Q2i5u0FmlS8RkoTyPuZfKxtvYGR088wG4zonrwSzOJp+g01k2YY+dGrdBYbu+UmIUUiWyLAbjbSPkK/lxFgiXm97i1KbofMIM90P+X909VR7GabweiIYF8EjG3DpjZF9YY5bYL11rAH3mXJN595oDyZ6rSX2+Iqy9y5vBxoGcryEbSYmpSkuRFbOGO65i7sgTcQsDMCuZHeTcbTU+RTMR5TWgyf4v5tU+aHxuZl4NhG/DBJ15q7yOpck7MkNqlCk3rcclxycU8QDXq3VlmPHpry4NOKCRjfhk1pioSJ3lrPe6tgwbFbPW4267OgyYxWll77vkiKVdRrUrC0jz67ieJvXnQrq6yrpIzX3NyUAQ4QAIHCBDIDlLdWybZY5Zde1IeFM4Jf79ReWUJFBL0K1GjAkn1BJ0OD/P47UDVG9Tr4+gtWGB/erICAhduwNJL+gAG9W87+lgB74D3m0COLKk6vktANsLm/HDh+PuTPzfNYC812Uovmq1+4qTfU9EtFKAiAQAkJsKZ6gh/3Cw/0Jk5tOkwsCuO9PFtC6aWITu/mHPDuxg5Y7N/OMwL4v6tWilyQ1AYIWLoNsz9gwFlNeoGc/qYINasWvS/2/OpWOnPlHvqdjl1XdP3EQtnVYWlvqHH6wAECIGDTBGS5EgXdZhc6uQhFNq0olAOBYgTkqocwIhdXq7hGjZOqYlUEDxAAAR4CIkdXkSOPP7xAwPYJCFWP9ehp4n8csR4FUBIQAAEQAAEQsCsCsNx2Vd1QFgRAAARAoNwTgOUu91UIBUAABEAABOyKACy3XVU3lAUBEAABECj3BGC5y30VQgEQAAEQAAG7IgDLbVfVDWVBAARAAATKPQFY7nJfhVAABEAABEDArgjActtVdUNZEAABEACBck8AlrvcVyEUAAEQAAEQsCsCsNx2Vd1QFgRAAARAoNwTgOUu91UIBUAABEAABOyKgCAxMdGuFIayIAACIAACIFCuCThIJBJPT89yrQMKDwIgAAIgAAL2QwC75fZT19AUBEAABEDAFgjActtCLUIHEAABEAAB+yEAy20/dQ1NQQAEQAAEbIEALLct1CJ0AAEQAAEQsB8CsNz2U9fQFARAAARAwBYIwHLbQi1CBxAAARAAAfshAMttP3UNTUEABEAABGyBACy3LdQidAABEAABELAfArDc9lPX0BQEQAAEQMAWCMBy20ItQgcQAAEQAAH7IQDLbT91DU1BAARAAARsgQAsty3UInQAARAAARCwHwIOJqsqkKdHRESkZORWrdGwY5dmlRmTJSEhCIBAyQkIZInXIqIfPa3k7Nbmo061hWbogRXkkvv3E1JTU58TYU23us2aNa9mDrEl1w0pQMAMBF6J4yKu30lTiN7ybNe1RQ2DErMy4h/EpyZnZNM+9Y5n81Z1qxpM8roimGi5K2Sf++ydIScI6d7z/XNn7jqT+adffNco3wxjx+sCgXxBoBwRYCqk/fF+45mppGHPnvfPnKEl35Twj3fNvNKowFSIneDWPlBLREXSYvftMwPqOGr5wQkC5YOA9OL6up8so224Z7OY0NuETD6atbaLnqKnBPZt/vkV7QiVZx5JXNnVOhelJu6WX9s+IZS0CEj4Jyjwyv29U7PI2nPxudo6ww0CIGA5Aorzu6jZnhv8MCIwMOfWTprR8lMJpcyugozUrTN609kbSRlicUZy+L6leSRmzJyTOYJSCkZyEChrAnRqe/CTZW+RH2KyL/55KevkFOK0bXt4rj57J2AadVi+O/x+qlgsTk3466cuJMdn0MH4V2VddOPy06eJTgkC2T/3smio0Em5yHZ2dtEZEwEgAALGEZBe2DJt2rTNpx9z0aUXdlOf7RHPOB/OkZ2RTt15QiflX1dlB6zJhZnqYJyaLLu90btNg2pOQqGTa+OBA/qZKgrp7JNAidqwCYgiNsz76svlx1ILVonh+5bMHLHikri4IZPeI0RAhCKiNFIOtZzp3zcYpVvXU2f4+pNfD27i5iwUCp1rtvxkYEtdMa3B36TdckbUavzivIAfB4z59cjyunsGrK5Ue8OIhpVyM6X/VnNh9xboKXjk9Uf5omI6CmQO1du38sD+WzEy8LBvAq4fdBYNWPiNn5/L7Wcj61RyyAipO2AWXTQs2VyDFBtxance3Jrs2thzYpPjswW/DqlEeq0a0KCC/PkzUo09mS5lB5Qr0qOO76HHYT28vaxzt9C+G4uVal+iNkyUFzXuZPLt6DCOHu34jqVb92rTc+nUo/v/bfhiJT2clVxa0PurrWRmqI9bfhEigvwmY2ZU37Fh/qhva6zumtpzRRZZNbeZEyOVSl1cDC01BbJn8df3BEdXJmM/aOxIrPIUWBAZGenp6VlEbcOvAllAE/cv/lZGpIfcN7P/+5Yg1rtK+xProrMm1aOeeQkbq7VZzC9nVXjW9Cb8QfAFATsmkHffv1rbqdRahz779GrrhnNTex1KDezsXHRUYgkl7OjWZu5N1r3/0Yu+zi+PerpPZrYlPfiU2lrTO6BARuWMFasELzuZNbeDHVcIVC8xAePbsCD3ZtUa3XgzqEk2xGSP5Z0yph6c02zSTmqtU2fLBjcYfLv2hri4sdX51tJU/sga3ejsU/nMDM36ob3TfV9h26+/i3w2z7MS6138b16Cb7U2X7P+ym5Vlb/3FU9Yxj4mWu74ff3bfXVpxc6dLyZOXEvID2cez/jg6bwqrYJ/j7o/pj6rg1wu51UmXyTkrRLeyPAEAbsiIA6e1XD0blblFZcez2lWhVf9l7d21u40p8+vu0bE/nfS5kf91533m9TqryHOA+Xb0k4qLTd9TO6AcUcDwh8/Cl28go563wYnLuhUnbcM8AQBXgJGtmGaVlcTJYxIKOKzxjSNQHZ2gfvQLcqcncjA46n72vJObQWSI308pl4Z+5t/y42j5sWRsQdSN3bP3ftGg2mrI59N0225K2ZF7T0Y9Swh6NtNF0hHnzsh498ptuOlzPt1P6ZY7opZVzvX6ZMwI/TxyvZUz9l1uu4g5LufZn3/zW+Lz/y9qO2bSqUEkpTk7P9v774Dmjj/P4A/AYXg96uAVaC2RaSCWhVcWKyjWq2j7lX33nWLq9Y6Wq22+nXXvbCKWEScdYsDEQUniiAytUIESYCWAP4kvycJHCFckktI8IB3/pDLc88999zr7rnP3fPcRdats7R2cLCRj8/hAwEIqAsIpBc6OwwMIaT/yfS9X6rPVX4XiA80clqWuOJaxoxPSNrZ8U6D/ySf//RroyUL9qwMSZ+m6NAqcQOUmcWuqdp0E5l+WdEzyV4TpEKguACXY1ixVEp8Auvzj3lCmzr28pFp1o/M/N64/3agL0F4+see7/QBa56s0PUfdlpGH+Fc2vaDfx/51mo7iXZ9//hT0pIlZlr6sVSLSro0v37/Hf39Y/dqWIVq5tKfNmScO/f1U9pJ59zMjlb3nXXTjYlXbR3b07BNr4C6u9FbBPm1Ut7DfW5tl7NvD3rL2V2QCgHyLuq4PGwTYu7/44nVN3uzveglyIm7mkjedKytuBuw7bY73lf25eAlC24TsrpLXSViyRugIM/ZYyDJ9UsQZwuIhYYbIOwxCBQT4HIM04Vob3Zdd/be8hpkbXjGBE1dsy+OHFC+uxji5RMVPoP1beQ3URfpKurYy1/I/o/b4Fc3CA3e3y+hD2780cImTxGjitW7aIKja1OacDeBjhuxXxwUzV7a3wyJ3EJLK1rN2HPhWQOcKS4N3j+Hrlrr8X0OOXnuTkpjRd+amfuYR4/6s24NvedmTUciBCq4AD2XTVCMcwfcdJzVeuR0l2X12X4mIU9oRZ+xqXr5zgOz3k3o4zMy26779hM/+Ukw4ELYFBf5yLQBDdBcEhdNPnWm5zXFh1bmDz8iJK4f0VdIELiVKPhXlwDHY5gWI7No9vzhI0333JrCtuzRPjrObTHjyLX2j1r1W9xyjhvrW9qWQvrw1s3j4S9GuspHb2nwjlg56bMfiOVlvyBR385sF8SpkQlVGtRm1vvk+jm6YPPa9rq2+P3MN6S3nPaE0846+jqp06DNG6Y3ET67tmjs4ntf9+iTdPr4Y/k7prSD4v1sDdYKgbIroBiZGxlMNoemjnStnD9YOOlI0pquzNmE2bjHv9u1XpRDXKcdWDe4Lon08xq/JarzoO4vDp556rbk3A0vQx4rUz7U1n7Wr+PaNjJPj/IfO4fe2TjvvX+/f/6TK8zaMQEBdgF9jmH2ErSm0sHZUY7tL5DppzNX0mvWy/Ot6YD3oIMRO3t+pLacckiX9g33XOU7v81HcUEHRn6/y2H4sFoHD4WTzj7Rx9SDt0B6uprDsEY9l3sNaVEtL+6G97QNF2kH+4XXv9Mn0tUK58NXgyI37cqTRO6eMGzWhefKbWg5w3vvir6O2RGrWnuuiiZrbrycKO82xwcCEOAqoAzVQ/fc3zZAESkF0itzm/Xd+Yr9UlggvrBu7MBlV/JL7+B1yXuZh82/lxf367cpuOHWW8HDPuO64oJ8lUQhi3t2WR9V8J2QEb8HbhnerPA7piCgVUC/Y1hrUawzA8db9/HLv7SlGeiv/q2o6rmeuPtG31SPxIT8E318RotRyn51mnn83uD/9W/47llAJ4/RT0ivkymHPC2KPDf+6NDstt/tLVxvB68zOxe2sePpC8wGRm7l5uWKJbSvg/5og8bnAAsZMAUBCBhZgP7MeFq2gL6sQX87xVhFm0mz03Lkb4VY2Ob/NoOxSkY5ECh9AfoCN10p94NZGdSM26ZMsdWGjHMz9aAcigsSPnYmMJXEBATKq0Ce0NbGaCE7H4mes2ysFIWiWZfX46YibVf+765wPpgLghrfjcz4XkHUDwIQgAAEIAABFQFEbhUMTEIAAhCAAAR4L4DIzftdhApCAAIQgAAEVAQQuVUwMAkBCEAAAhDgvQAiN+93ESoIAQhAAAIQUBFA5FbBwCQEIAABCECA9wKI3LzfRaggBCAAAQhAQEUAkVsFA5MQgAAEIAAB3gsgcvN+F6GCEIAABCAAARUBRG4VDExCAAIQgAAEeC+AyM37XYQKQgACEIAABFQEBDExMSpfMQkBCEAAAhCAAK8FKonF4ubNm/O6jqgcBCAAAQhAAAIFAugtL5DAXwhAAAIQgEBZEEDkLgt7CXWEAAQgAAEIFAggchdI4C8EIAABCECgLAggcpeFvYQ6QgACEIAABAoEELkLJPAXAhCAAAQgUBYEELnLwl5CHSEAAQhAAAIFAojcBRL4CwEIQAACECgLAojcZWEvoY4QgAAEIACBAgFE7gIJ/IUABCAAAQiUBQFE7rKwl1BHCEAAAhCAQIEAIneBBP5CAAIQgAAEyoIAIndZ2EuoIwQgAAEIQKBAoASRO/5U7zo/PMgpKAl/IQCBUhSQkZifnLscTHhb0nVmi589uHXh+GGfE8evhDxMyy5peVgeAjwRSDo3s+b001laa5Muirhz9ayvr++xc9fuxmdozcujmZUMrsu7nFfn4h8sEBhcABaEAARKIpB9L+6CdckCrYw8GWLV6IhKLcxJ0z/jb/erXVklDZMQKJMCOZLrWUdaks0aKx/v267OkBuqsyvPvSRZ07GKahIvpw2/5xbIrOgWVZHxcrNQKQhAgIOAIJc4O47eFxL1JlsqzU57EvDTO3K//8ST2m9TOBSMLBDghYB5rlBbPWQN2qz6MzxJIpVKJcl3N35F3q7t5BNZ4n4sbas0zjzDI7dx1o9SIAABhYA4cNPo0aM3nn3BeIgDd9GUrSEpTIrxJywa/pKwb/TnrtUthUJL2wZ9+vU2/jpQYkURMPUxHLJu6piRi46pjBAF7/ca333RtWQDhZ2G7LixcGAjB2uhUGht36xP/+YGFlTqixneW168qm+TI24kZBS/CzeTEpsvPF0tiy+BFAhAIF/AtnXHKl/NnOXt/UF87nDaWS06Vf2riTXI2p/21+RqlPPqTnBinrwvrOhHIK1s17p5HYuiqerfsnOSwo7vOUFIl9Ge/O8tVK89vvNAQM9jWBp96+EbtvFWmaVzq6Z2xTeo5Teft/IaFfBH7meytfUJEV+b3nrMFjI3aLdD8bz6pkhTIoP3HL/7HzK2Tf2yMFQUFhYmM+jz7qm3BfnmfnbhwglbNWL9eP9tYT5MQQACbAK0TdEmRKN1VO6rXY6Etq/LErZ8irQ82WN6f7whMpfJ8X+R6zW2wHWPmWxsE1n+zHnylyC2DEiDACcBPY7hnFBNh6sD2f2vhrXF+UyULzU3SCK62IIQi1q7UzTkpMlxh5tUtT6qqShmuf+L3M7U5GQ6k8zrCWLEyC2TZdHRAtYPrw1QOQjwRiApYAJzEln9IENLvYpHbpqZtfXRRJ0nryf+h3as/0XZVf5zoJaToZYaYRYE5ALcj2FNh6s0S4tk1vlp+U1ESPrd0nxpS4vgGLllkjDvrdvWzOwgL/fL3QlaVs6bWQIauZs3N6RzPy/ygFWDI7ezzzRhusHFSfHp7G+JVXNwqq71QQHmbIUJCFRsAemZtlV6BBEy+JLscEctFPSx8L6CRh0ic2fWYzr3xPHx6ayLWNh8WMuGaaisWeSJ9E2zlYK6a4lXiKI3UmM+zICANgGux/DruPgstt7yPKGts4O1pjXISNgQgQd9IeKLsyk3u9bQlI2mx/s2dZu8OFnSn+PoD32LrFa3TYPPphzWWqyWNZbaLGOOcz/bX6veHPaaz37wdp27MdfFvhqkQqCMC+RF+snDNiHmvvOObrg3wF6P7ZE93F6nySL2BWhv+eyG7LNUUgXkU88hJOdwXFou7YhUmYFJCHAW4HoM54bZO3uwlmpHtsTJpmoKtwmHdynfYwz+bn9k7Fw64G2sz4cNmtGiQuNE8jErfn+MGU1dR7+K66vpntuYK+I3KWoHAUMFcsOGNhhFx7kvPHSa6D5gosPiRrIV3E9MAvfJcXFDWNdN77lZ04kkNoY4f2pTMDM3bPdhYkUafIywXUCCv/oJcD+GLVqIYuM03XNrCtuyBzvrDN0pmHfqUcd7jbvOazCtqWyLtq4p7ZVPjYiv8pkTs67IK6dpfo86+lwva1+B6eYadZybN4MAqAgEyp5Aml87eUPf9VT+0Fn+YOG005qGqFnHufXdaOVDbR0XbPQ/e/X44d8HKU40nx6O1rcc5IeAQkC/Y1hvNEkYPUStiZfysWrlgPfwYy80laNrnDvrGD3g3fr+6nv82tljuxd0o9/os+Wqj11rKvm9pxv3CbX3vjmoAATKqoAyVI/2YaImfRKnFj2VLNTwvJhRIrcs6cbCojf1Y/eGllVB1Pt9C+h7DOtb34uKHiXlpS1dljYBOjhEf/XvTDJ7Sboit+zevsmKi9WCf75eFJicw14Wz1KN+oRawebjLwQgYGoBtifUDF2nNFuSI/8ZVQsbG6bn0NCysBwE+CLA8Qm1XLGEdtrnWQnp7xHxpeq66lHS4WfWUQpdK8V8CECATwJWQhurMnPO4hMc6sJ3gXcWun/Z38LWpsw912H4r5+aCYX0SZbiv5jG9z2J+kGgvAg0JI3/g/84oLzsTWyH0QWEQo+sr8vnJanhveVGV0aBEIAABCAAAQjoFDD8nltn0cgAAQhAAAIQgIDRBRC5jU6KAiEAAQhAAAImFEDkNiEuioYABCAAAQgYXQCR2+ikKBACEIAABCBgQgFEbhPiomgIQAACEICA0QUQuY1OigIhAAEIQAACJhRA5DYhLoqGAAQgAAEIGF0AkdvopCgQAhCAAAQgYEIBRG4T4qJoCEAAAhCAgNEFBDExMUYvFAVCAAIQgAAEIGAigUpisdjFxcVEpaNYCEAAAhCAAASMK4DecuN6ojQIQAACEICAaQUQuU3ri9IhAAEIQAACxhVA5DauJ0qDAAQgAAEImFYAkdu0vigdAhCAAAQgYFwBRG7jeqI0CEAAAhCAgGkFELlN64vSIQABCEAAAsYVQOQ2ridKgwAEIAABCJhWAJHbtL4oHQIQgAAEIGBcAURu43qiNAhAAAIQgIBpBRC5TeuL0iEAAQhAAALGFUDkNq4nSoMABCAAAQiYVgCR27S+KB0CEIAABCBgXIFKJS8uRxIfL7Gt52Rd8qJQAgQgoK+AWbY4MiHz4/qOVWT6LsqeP/111POoxPjXGZWt7T9xcWtauxp7PqRCoIwIZMZHpdg4OdtY6qwvbU3PnkUnJia+IUI7+9qNG7tVFxqpXelctz4ZShq5BTlPv6/tuYeQ5UEvZzWuqs+qkRcCECixgEB6dqjTt5eJ07pbD8d9VuLiSIJ/N7exwarlVJl+ImZle2NdFqiWjGkIlILAu2eHP/aYbEl6nUw55GmRp2WNMrOno+09/VVymBN37/BLPR0tVNJ4MVmy3nKB9K9p8rDdjJBf2nwXkluy0ngBgkpAoCwJJB6dSMN2I3cSP6fVzkeZJa+6QFav1TLvkGeJIpEoMfrar1+SrM29j0a9LXnJKAECpS9A7y3neUymATiHnOzS2zdVoK0KZlJS23HYtst3416LRK/jQw798I48HD7rXJbWpbSVaLJ5JYq19Kwx+E8y89LfV1POdeTgYrKtQMEQKPMCkus7pkyZsv3iS2ZLJNe9acru0FQmRW2C3kw0HnuSLLl280b87o/I4rZGuHp2HLDh3Ow+DeythUKhtV2THr2aqK0UXyGgScCAY1hTUazpoVu8vpu07FRiLjM35NCi6QOXB4k0BDLFveV+4n7oRZDkxmoSPKHXwQhm2eITMssGS8O3Dm1Rt7qlUGhpW79Xz2+KZ+JHiiAsLMzFxcWAytCzRnWPyWT6+fQVnnTx7Ovr7Xsua7j1VvCwgi47gTTm9uM0tqsVmYVTS/eaBqwUi0CgvArQm4PZdvIerB3hqYMdK1d6ffY/LoM/ICuuZcz4RMYy0kZ79ryqeh4vyGCWceXLT/re6/hHUkAvpmc77eGd8LcC5itDl0WEDVs2rsFSKpOFEIE0NerOzvm9NgeOuJr5e7087blVFsRkRRXQ7xjWP0Aog05VMv1y5kp6QIqD5jl138nEoOLqiUdnNR63b+iZ2G1tPqBzQ9c5dlqevuZG6kS3ysUzq6Vk5yTfP7Ox65itHfdEHBvwkdrc9/7VwMhN99BPdp67yNybGUuY04qaiyD3XrWaHVi30I5seZgxovgJhTUzEiFQQQSUJyYarc+nfnurmeucxM7HEv3bWbONzAmkgeMc+viRA9H/9LZ7p/ShdxW1e6wqvHoWSI9Wcxinwe58SqaWMb930Xurt5itXNT3RWa3amx10FAykiuyAPdj2LAAoQzGNFonzpT2qdsnvNaWyMgRrNegaveWdKfIzJL2VK2/SOeAt0B60sVhhEixG5eeS5/Tioc71MDIHb2nR6s5VvseHetZO/+soXTx/qb+rPg14U8mKcN5dnY2+zbLrIRWuIRnt0FqRRYQnZ7hOsxbKaDlqc9/w7fVarNwpH/E5k5F7gZCf+/dbZHFHy/8lbHWTJqtaYiOdoZrcTZPv3/w6P3U6IDF266T1psfnx3FXKBrWQqzIEAFOB7DNKchAUIgvTzPod8OuTR96OxM4iEP9ktb8YmuTiNfrbgTPkO1u6jS68CBLn1eLjl3w0tbPI486Rfy8sX575f/Rcji0zHz2taQr49PHwMjN8dNSIlPYD1x5Alt6tjjLTKOishWkQQE0gudHQaGENL/ZPreL0u45RnJInEO29WzzKpmHTsunV5Jl+bX77+jv3/s3k7y/kZ8IKBbgPMxbFiAkJnfG/ffDvQJcE//2POmPCxlZrFrqjbdVNA5r3vDSzFHSd8K01JV2hlS1529t7wGWRueMYHLiUNL+ZgFgfIn8C7quDxsE2Lu/+OJ1TeZnnBDtpSeQOu5GtZbzqzO0bUpnb6bQLsOEbkZFUxoE+B4DBscIF4cOaB8cSvEyyeq6C21tmrpP0+Q5+wxkOT6JYizBcSCX53EJozcMotmzx8+0nTPjbCt/4GEJcq5AD2XTfCYTMe5A246zmo9crrLsvqZS1T7+vTbfplV56hnjzTdc1vmEbZzUWpkQpUGtZnm+eT6ObrS5rXt9Vs1cldUAe7HsGEBQvZoH33ozGLGkWvtH7Xqt7jlHLf0tSXtmmL2lbkkLpp86myT/1QH3ZY//IiQuH5kKWNtLMyCpT9h2t7y0t8erBECZVVAoBiZCyabQ1NHulbOHyycdCRpTVcmjpp80wTS09UchjXqudxrSItqeXE3vKdtuFiFjLjw+vfG9OSFDwS0C5j4GKaPX4xybH+BTD+dubJJnuzyfGs64D3oYMTOnkWe9tBeRy1z30Vvrd7i+/azfh3XtpF5epT/2Dn05t557/37/Z21LPVeZiFyvxd2rBQC6gLKUD10z/1tAxSnCYH0ytxmfXe+mnM6dmnb0uupfnRodtvv9hZWroPXmZ0L29jx7jekCmuIKd4ImPoYDhxvTd+nUF7a0o2mL0auqOq5nrj7Rt/sXPCGRUkwKolCFvfssj6qsIwRvwduGU5/aYx3H0Ru3u0SVAgC710gVyyh41x5VkL6kxTvvTKoAARKU4C+kZGmGGOysLUpve4uPbfQhOPcetYE2SEAAb4I0HMW7rL5sjNQj9IVoBesNlaKC1YeDxBp+NG40pXC2iAAAQhAAAIQ4CiAyM0RCtkgAAEIQAACvBBA5ObFbkAlIAABCEAAAhwFELk5QiEbBCAAAQhAgBcCiNy82A2oBAQgAAEIQICjACI3RyhkgwAEIAABCPBCAJGbF7sBlYAABCAAAQhwFEDk5giFbBCAAAQgAAFeCCBy82I3oBIQgAAEIAABjgKI3ByhkA0CEIAABCDACwFEbl7sBlQCAhCAAAQgwFFAEBMTwzErskEAAhCAAAQg8N4FKonF4ubNm7/3eqACEIAABCAAAQhwEUBvORcl5IEABCAAAQjwRQCRmy97AvWAAAQgAAEIcBFA5OaihDwQgAAEIAABvgggcvNlT6AeEIAABCAAAS4CiNxclJAHAhCAAAQgwBcBRG6+7AnUAwIQgAAEIMBFAJGbixLyQAACEIAABPgigMjNlz2BekAAAhCAAAS4CCByc1FCHghAAAIQgABfBBC5+bInUA8IQAACEIAAFwFEbi5KyAMBCEAAAhDgiwAiN1/2BOoBAQhAAAIQ4CJQiUsm5IEABCCgKpArSYqMjIyPE+UJbe2d6rs3rV1FdTamIVCeBaQpTyOfJsS/EptV+9DBtUmTujaWpby5iNylDI7VQaDMC+RFHrBsMKrIZtRZ8zR2bv0iSfgCgXIpID3TtUqP80U2bfzZF7u6flwkycRfDO4tF0c9FemsW2pEfJbOTMgAAQjoL8Clcb1NjniZrX/RHJbo2nVz0FORVCrNEb/6a1VrEjevh+9zDsshCwRKSyDnVVxSjs6VcWlHaoXkVW+/zOfO3+Jsevyn3PfrTcjhbkvvqmUy8VdDI3duTP3PHARdvPxCEjXHZunFhnVsBd03H7+TauLNQPEQKOsC4sBNo0eP3nj2BbMh4sBdNGVrSAqTojLBqXHFHW74iZVgwvaTzyW6T2EqheuYNKs/8uzZaa3r2wmFQgubD7v1GaFjAcyuGAJ6HsN6o4Ssmzpm5KJjCW+ZJYP3e43vvuhaMpNQOCGL9HauJWw7c9eN+IzCVPUpTu2o6EJWPX0Clw7xqGVjSY//Gk0GjLSTzzc3ZgsrukLWb2FhYTJDPlnhZ3cPUpRoQb7ZFHD7jZSllJT7p3/slb/a8dtOPJRkF8+Uei/4csit4p/Ltx6kFM+NFAiUV4Gcx1MUbeWP+Fz5JiafpN9qkLUJGraXS+PKTQrzmd9V2QLbzNgZFJFevLDcpCesDfD2lVtRLO1VvYBsyZOAee3oKrbHq8/C9wonoN8xnPUsuPiJX54SfE/ESvfuqTc90qyJ11PF7LSr0+TH9twg1sx5sr8v7p8jz0A/nef8eSvqX7Z8XNoR23LKtKzowIP0npsMOa05j0nmEEMjd35tUu9d3tBDQUOIpthMTx8B8zSdPrJ88pdm+XMzxyTbjEIhwE8B5YmJRuuo3Fe7HAm9Jr4s0VFTrY2rYNnsv2/uXZHfwIqdwhK2sjQ9ZdKP998WFMH2NydUfs5SfBZeyWTLgbQKJ6DHMZwTWnD4qP91ILtZoyzVjPOZKM89N0giutiCEItau3Xd4GU9uqr7JpNTOyq6M+P3NlPWmzZYXXUouqQxvpU0civrQK+7j65uo9yMzoej2SsmTbvr87MyD71CKdwxWXSwgP3DXg5SIVB+BZICJuS3EUJWP8jguqGaGleR5bOehRxU9pPRuxaVrjaNLbDI0sW+0HuaS3u3blg9nVZYSPqdSS6WAwkVUoD7Mcx+3qepWVrgss4r7rSVR90tXZe2TEH/RNzc+FV+29r1VNGtxcxjJji1o/zc/947vW37unmd5WV+8b9QpozSmTDOs+X/xCanPElSqjRzsMnnKfonPT0u9nWEMq1pI2vmHZIMiSQth+0pGpmVXR0hk61oYfgGgfIp4NBn4+k2u3oEETL40gL3qhw3UlPjKrK4WCKKS45RJKV3cKrJzBNLktPZx+iqOThVFzL51CcEpFbHMVM6EjJz0NcedXp1//mybAv9hk9FF+B+DGckJWcJWLjoq4bOVtYsM+RJVl9vDh20xeMIIc3O7vDUlEt9YXGsKO6J4qFq2pVVy7ay+nzFd07tqGDJKk27T27anUya3WOe/ZdeHt7DZKPsC+aVwt+S9ZanqY52rwq4zdppkKgy2j153cmio93oLS+dSzSspWwIKDsbacM3J039ONzFam1c+ZucEXdXy2h31DqNp5nZD7T2lheI5smey0fo2x4s7EgrmIW/FVCA6zGsubfcjmzRcizld5jTQ46+i6jTVxxzeatX/iFebKiIWZpLO2Iyq00k+/Sl5a/WPrSktkyJvxrcW54VvFX5PA0hDcceCGQf/I++ukk5EkZPQ78dvsb6FFv6q6Q41k9sspadV+INRwEQ4J9ATijtzabDZvceHqVjeLbkBy0nJi6N613EJWVvHj2z9N3wZ9GL5oLNT3vF2v5oImuDpYtlxEaoXqPn3d8hPzNOvVRQIv5WYAF9jmFRLPuhF5OksRNcebAJ5p0KP7dcx1GX83jvjPbyPITUHrHpwlOWxzPpfuLSjoruzrSIWNXqpfkpHuLicp1dtJwSfTM0cisulxxH/nbhKftDgIpKKe6nNcf1ElUcC0OgvAmk+cmf0SbKQbj8wcJpKk+EFNleTo2L3k/Ti+alh6+9YHv1o0h5+nyhD7XRYuesP3Lm6tk/t+ff0GgcO9SnZOQt4wJ6HcP6b6skjF7aMk9pKAe8hx97wVpQ3v31tDUNWPXn4yQtjzpzakdFys8JpVfV9XouOhRw7nyAT/7LU52PlvJ9pqGRW5aV9Er1uqPIpjFf6P00M40JCEBAi4AyVI/2YR7wpE/i1KKnnoWBqve3hQVwaVy5r5LYFy4sxpCpN7d20pMX86EDh/uDXxtSEJYpXwL6HsP6bv3FIfKDjrlGzJM9XqQYV2J/OjL771dputfApR2plkIfzDwytANz8NOJdtP8NL26qbqgcacFdJy7efPmqvXANAQgAAGdAtmKD5FZ2diW9o8266wbMkDAxALSXHEOfbxOaGkjtDLxqtiKN86z5WwlIw0CECjPAvQHpOinPG8htg0CGgWsLGytLDTONfkMQ3/91OQVwwogAAEIQAACEGARQORmQUESBCAAAQhAgLcCiNy83TWoGAQgAAEIQIBFAJGbBQVJEIAABCAAAd4KIHLzdtegYhCAAAQgAAEWAURuFhQkQQACEIAABHgrgMjN212DikEAAhCAAARYBBC5WVCQBAEIQAACEOCtACI3b3cNKgYBCEAAAhBgEUDkZkFBEgQgAAEIQIC3AojcvN01qBgEIAABCECARUAQExPDkowkCEAAAhCAAAR4KVBJLBa7uLjwsm6oFAQgAAEIQAAC6gLoLVcXwXcIQAACEIAAnwUQufm8d1A3CEAAAhCAgLoAIre6CL5DAAIQgAAE+CyAyM3nvYO6QQACEIAABNQFELnVRfAdAhCAAAQgwGcBRG4+7x3UDQIQgAAEIKAugMitLoLvEIAABCAAAT4LIHLzee+gbhCAAAQgAAF1AURudRF8hwAEIAABCPBZAJGbz3sHdYMABCAAAQioCyByq4vgOwQgAAEIQIDPAojcfN47qBsEIAABCEBAXaCSegK+QwACENAlkCtJjop+9iIhJc/Sxs7RpVETxyoyXctgPgTKh4BAmhr5LPJFokhiVs3e/tPGjZ1tLEt5yxC5Sxkcq4NAmRd49+xwTY/JRTbDacWd8Bn18hC9i6jgSzkUEEjP93X49nKRLRvpH7G500dFkkz8xci95TmS+GSxQHudzbLFT0Xp2vNgLgQgYIAAp8YlkL6IfG1A4aqLdPr6t/Oh0SKRKCUhym+ZJ4lfPNgvRjUDpiHAT4HM+IRUHTGKaG9HMts23+8JjEp4TY//2Bve3xBytP+qB2a6CjUqh9Eid2bCA78lA+xqu29++VZTDc0lcdf2/lDV3snz4CtNeZAOgYopILm+Y8qUKdsvvmQ2X3Ldm6bsDk1lUrRMcGpcAnHEpQNjqzm0//xEVgnOM+auQ/yPTvJ0tRMKhRY2Dj27D9JSMcyqOAIlPIZ1QoVu8fpu0rJTiblMzpBDi6YPXB4k4hTIXj66sHKI9cfubs9zNObX3Y5kVl33nFk4oJmDjSU9/j9w6zPEXl4dcylTqdKYMEJvOeU4sGTgr4Hy6o5af3yqS2VC1DvNaFw/t2fF+I0XaZ5WkzetHP4ps3FpD++EvxUUHyTLIsKGLRvXUC+JWQ4TEChXAraft7PqOX+Bj49NeOpgx8qVXp+t3XPGB5+Rs5IAAAfbSURBVGTFou01iUxbM9DSuBggej66cmx3r9lb5ClfTfNd3odpcW9FkcEvMpmvzCJmUmL9ecu6ltpWTTPnpEee+cOPTszwcCHkHbM4JiqggH7HsEAac/txGtsVpMzCqaV7zeKAzTq36PTD5JO+/+eauZIOzYiD5nX5bieZfn6zfV7xzIUp9IL14qm1/af7E1KZdF7tv9TNMq9YjCJc2lFhmcopgTT2+qnDIpI1oGdjXS1FfdmSfReEhYW5uNAmp/9HIL5/6uhvw+b+RYgl6fWb/4IeXzcqHmj/Dj2x45eRG6/Iy5+4NWBK907ONirKAunRag7jNKz8fEqmp4VKZg3ZkAyB8iFAx4+re0ym0fp86re3mrnOSex8LNG/nbXGJqCjcSlQMhNun9j609TtQfTbVzN3LBn3TdPa1VS5Xu6xbjhHNaFwev6NNz+4aby4F+TeG1yzA23+9ON16u8l7f5buCSmKqoA92OYHj/VanZgdbIjWx5mjCh+NUkzJx6d1XjcPhqtE2dK+9TtE15rS2TkiOJxR1ksvWA9c2z3IOUF6zdevt+P6eb2SfE1cmlHxZd6cbBdo6kPaTptsHcypmuqQ/EFjZJiYOSunHCsitsYeQ1c5gb4TP7KleX6SGYWu6Jq07WKy5wtp1f1aleXdU+YSbM1ddzRvgijbCQKgUBZERCdnuE6zFtZ2+VBL2c1rspac46N6/J863475AWM2/fX3G/a1BKy3UALpNlSthsfQrQ3QJlZ0vUDf0WkRi1cuoNeux+M9ulsh3tu1t1VsRI5HsMUJTs7m51GZiW0YjtWaW6B9PI8B+VRTY+6M4mHPDRc2jLVMJt5IHhqtwb2FsXXxbEdFV+QpmQ9PO9773n8yUX0vtRz5dXz05qyZjNRosbufu3rk1nZ9lfkqBItosP0Ggb8rT5pK8/0llyIfy1KFuewlilJT6fj/Cyf5AxNEZ21HCRCoBwI2Pf81c9TsR39T2oK24rZnBpXtdrtlSYRCSkiDY+FmqdpaIAiUVo2e0RXlinI+/DL4eOmzPpN+si3ITk58DdFx5pyHv6twAKcj2GSmcxy4qdJSRkSjX4yq6/+F6iMPk39N2gK23RxS2tnZSF5UYkiUbKGaMKpHbFWpop7l7Fjpv4UkH52un3ID+19XpuzZjNRooH33MravAw/sXNJfk/4qPWHJ/Xv2NBa/bU2OnhwYusPys46OsK9bGxfz3oqnXXoLTfRjkWxZVNA2dlI625O3PdF3+yt9S5WR+NSCMg7DAO2DJq1W/7tq2n7F43p0rJI79fz362bL1JkLfbPtKA3Kxtr7C1nstMbF6+qTfd8sSvp3Les/WpMTkxUBAGOx7CW3vIaZG14xgRNx1J+hzml1PkuokAcefLo8uHyIV06wr3y0MKBnVpUL9bzxKUdadlxr48Odxl3avmNN7M0Dy1pWdywWSWK3MpV/hN1+/je/IG09t9u+mXNmIaqI9mKTPQxlsBju5jTh8+vC7q75sfvjGSROIetz0RmVbOOnaadZ9jWYikI8FmAnsvG1OxwlawIuOk4q/XIGDL3YuYSnS9Ja2lczMbSt1zuXsp/KoWewn4+unrK1/lPiZqLk2Mz2PvD6GsgxU9ztMzM+KicOvWYgT3Zo302bWeRCSfT137JrBETFVNAr2M4JT6B9VY4T2hTx96aFVB5sFnMOHKt/aNW/VZyOuroo3B3Lnr/MkL5uBV9jHrJuA7M0cushUs7kmcWiKPizOo5FVRPID7e32nURXIg+h/t19nMiowyYYTIrawH3exzPmtGLjyq5akWevq4eebgorGL7/0Skj61gVE2AIVAoJwICMQnujqNDCabQ1NHulbOH6WbdCRpTVcu16+cGpfiUdhN8yecitB2T6PTkz7U5jbHffKq2e3dqv4bfXX0rM10EWW1dS6LDOVZoGTHsE4Z8/T7oxzbXyDTT2eubJInUz7GMehgxM6enH4F5Z9nV4/8b/Yc31gtzz7rbEf00qR9zQ7/dPNaMLx1dSK+dWjcb/SOvuMfSQG9uLRTndvIMYPRIrdyffT6/YXVh+wPwjA1EohFSVXsHdT71Zn5mIBABRRQhuqhe+5vG6AYnxNIr8xt1nfnqzmnY5e2/YArCLfGJUpOt3couGngWnRhvrTQ/f07zbxXkEBv4jdd3Da0ZY2CBPytoALGOYY14wWOt+7jV3iNKDN7uqKq53ri7ht9k/vTkbSXt9KH9jqirOZ2RB/MPD52wmi/G0w1v5h4YOfaPp9ofXWTyWysCSNHbmNVC+VAAAI8F6APBsufDZZZ2djiKpzn+wrVM7aAQJqblkO7+oWWthofgzf2OlXL0/34iWpuTEMAAhBQCtB3xrS/NgYoCJRbAZmVha2V4j0zDW+vmXjLDXwrzMS1QvEQgAAEIAABCLALIHKzuyAVAhCAAAQgwE8BRG5+7hfUCgIQgAAEIMAugMjN7oJUCEAAAhCAAD8FELn5uV9QKwhAAAIQgAC7ACI3uwtSIQABCEAAAvwUQOTm535BrSAAAQhAAALsAojc7C5IhQAEIAABCPBTAJGbn/sFtYIABCAAAQiwCyBys7sgFQIQgAAEIMBPAURufu4X1AoCEIAABCDALiCIiYlhn4NUCEAAAhCAAAT4JyCQle7/TcY/AdQIAhCAAAQgUJYE0FtelvYW6goBCEAAAhD4f93zdC7mrg61AAAAAElFTkSuQmCC)"
      ],
      "metadata": {
        "id": "kZD_wsqSt2Ux"
      }
    },
    {
      "cell_type": "code",
      "source": [
        "not False"
      ],
      "metadata": {
        "colab": {
          "base_uri": "https://localhost:8080/"
        },
        "id": "299_icKjt1km",
        "outputId": "20f9cf38-e7ae-4eca-95bc-fd586255066c"
      },
      "execution_count": null,
      "outputs": [
        {
          "output_type": "execute_result",
          "data": {
            "text/plain": [
              "True"
            ]
          },
          "metadata": {},
          "execution_count": 128
        }
      ]
    },
    {
      "cell_type": "code",
      "source": [
        "x = 5"
      ],
      "metadata": {
        "id": "GtELMqpGthkY"
      },
      "execution_count": null,
      "outputs": []
    },
    {
      "cell_type": "code",
      "source": [
        "x +=3"
      ],
      "metadata": {
        "id": "4ZxO5RugvMCs"
      },
      "execution_count": null,
      "outputs": []
    },
    {
      "cell_type": "code",
      "source": [
        "x"
      ],
      "metadata": {
        "colab": {
          "base_uri": "https://localhost:8080/"
        },
        "id": "fksQNTrsvNBE",
        "outputId": "fa5b570f-8372-431b-88b8-83e95666f531"
      },
      "execution_count": null,
      "outputs": [
        {
          "output_type": "execute_result",
          "data": {
            "text/plain": [
              "8"
            ]
          },
          "metadata": {},
          "execution_count": 131
        }
      ]
    },
    {
      "cell_type": "code",
      "source": [
        "x -= 3"
      ],
      "metadata": {
        "id": "2Hosl4l5vNmq"
      },
      "execution_count": null,
      "outputs": []
    },
    {
      "cell_type": "code",
      "source": [
        "x"
      ],
      "metadata": {
        "colab": {
          "base_uri": "https://localhost:8080/"
        },
        "id": "F0sQ9g6JvPK6",
        "outputId": "d0ae4067-988a-41e9-e8ec-f6eb634c9710"
      },
      "execution_count": null,
      "outputs": [
        {
          "output_type": "execute_result",
          "data": {
            "text/plain": [
              "5"
            ]
          },
          "metadata": {},
          "execution_count": 133
        }
      ]
    },
    {
      "cell_type": "code",
      "source": [
        "x *= 3\n"
      ],
      "metadata": {
        "id": "4g6J_1jtvPYF"
      },
      "execution_count": null,
      "outputs": []
    },
    {
      "cell_type": "code",
      "source": [
        "x"
      ],
      "metadata": {
        "colab": {
          "base_uri": "https://localhost:8080/"
        },
        "id": "GFuRQCNbvRVi",
        "outputId": "a30079c2-8dc3-4511-ce7f-a3c786097192"
      },
      "execution_count": null,
      "outputs": [
        {
          "output_type": "execute_result",
          "data": {
            "text/plain": [
              "15"
            ]
          },
          "metadata": {},
          "execution_count": 135
        }
      ]
    },
    {
      "cell_type": "code",
      "source": [
        "x /= 3"
      ],
      "metadata": {
        "id": "jkmj_L9bvRpt"
      },
      "execution_count": null,
      "outputs": []
    },
    {
      "cell_type": "code",
      "source": [
        "x"
      ],
      "metadata": {
        "colab": {
          "base_uri": "https://localhost:8080/"
        },
        "id": "A2bU8aTzvTkb",
        "outputId": "bde9d30c-61fb-4d98-e1f4-085ad16d02a0"
      },
      "execution_count": null,
      "outputs": [
        {
          "output_type": "execute_result",
          "data": {
            "text/plain": [
              "5.0"
            ]
          },
          "metadata": {},
          "execution_count": 137
        }
      ]
    },
    {
      "cell_type": "code",
      "source": [
        "x"
      ],
      "metadata": {
        "colab": {
          "base_uri": "https://localhost:8080/"
        },
        "id": "vercShYMvT6b",
        "outputId": "056e5668-6987-4c77-b875-b71d1d22fc6e"
      },
      "execution_count": null,
      "outputs": [
        {
          "output_type": "execute_result",
          "data": {
            "text/plain": [
              "5.0"
            ]
          },
          "metadata": {},
          "execution_count": 138
        }
      ]
    },
    {
      "cell_type": "code",
      "source": [
        "type(x)"
      ],
      "metadata": {
        "colab": {
          "base_uri": "https://localhost:8080/"
        },
        "id": "1MiD_TcavbSj",
        "outputId": "22d7226c-fb14-49b3-db42-2950ea5f9f14"
      },
      "execution_count": null,
      "outputs": [
        {
          "output_type": "execute_result",
          "data": {
            "text/plain": [
              "float"
            ]
          },
          "metadata": {},
          "execution_count": 139
        }
      ]
    },
    {
      "cell_type": "code",
      "source": [
        "type(a)"
      ],
      "metadata": {
        "colab": {
          "base_uri": "https://localhost:8080/"
        },
        "id": "VhW90jGavcLJ",
        "outputId": "0473136a-eace-4349-f42b-7322aca86c68"
      },
      "execution_count": null,
      "outputs": [
        {
          "output_type": "execute_result",
          "data": {
            "text/plain": [
              "bool"
            ]
          },
          "metadata": {},
          "execution_count": 140
        }
      ]
    },
    {
      "cell_type": "code",
      "source": [
        "a"
      ],
      "metadata": {
        "colab": {
          "base_uri": "https://localhost:8080/"
        },
        "id": "MOHw_QoFveTH",
        "outputId": "2393da72-bc70-4b4e-ef90-543ad852775c"
      },
      "execution_count": null,
      "outputs": [
        {
          "output_type": "execute_result",
          "data": {
            "text/plain": [
              "False"
            ]
          },
          "metadata": {},
          "execution_count": 141
        }
      ]
    },
    {
      "cell_type": "code",
      "source": [
        "x = str(x)"
      ],
      "metadata": {
        "id": "y3Ir0KEzvfEY"
      },
      "execution_count": null,
      "outputs": []
    },
    {
      "cell_type": "code",
      "source": [
        "x"
      ],
      "metadata": {
        "colab": {
          "base_uri": "https://localhost:8080/",
          "height": 56
        },
        "id": "Ljv2U9QZvlDl",
        "outputId": "c1464f4a-53c5-40f2-ed5e-f6f0cd55f891"
      },
      "execution_count": null,
      "outputs": [
        {
          "output_type": "execute_result",
          "data": {
            "text/plain": [
              "'5.0'"
            ],
            "application/vnd.google.colaboratory.intrinsic+json": {
              "type": "string"
            }
          },
          "metadata": {},
          "execution_count": 143
        }
      ]
    },
    {
      "cell_type": "code",
      "source": [
        "type(x)"
      ],
      "metadata": {
        "colab": {
          "base_uri": "https://localhost:8080/"
        },
        "id": "-kpK2X4KvlcZ",
        "outputId": "ccf4c53d-04dc-45da-d63c-498ef6a476dd"
      },
      "execution_count": null,
      "outputs": [
        {
          "output_type": "execute_result",
          "data": {
            "text/plain": [
              "str"
            ]
          },
          "metadata": {},
          "execution_count": 144
        }
      ]
    },
    {
      "cell_type": "markdown",
      "source": [
        "형변환 연산자 : str(), int(), float(), list(), tuple(), set(), dict()"
      ],
      "metadata": {
        "id": "yB79mm1uvpIG"
      }
    },
    {
      "cell_type": "code",
      "source": [
        "input_data = int(input('숫자를 입력하세요 : '))"
      ],
      "metadata": {
        "colab": {
          "base_uri": "https://localhost:8080/"
        },
        "id": "zRv_rJjgvnIk",
        "outputId": "6c21568c-5078-49bd-f720-2fa8d6c29d27"
      },
      "execution_count": null,
      "outputs": [
        {
          "name": "stdout",
          "output_type": "stream",
          "text": [
            "숫자를 입력하세요 : 12\n"
          ]
        }
      ]
    },
    {
      "cell_type": "code",
      "source": [
        "input_data"
      ],
      "metadata": {
        "colab": {
          "base_uri": "https://localhost:8080/"
        },
        "id": "UWL7m5Vkv3Ns",
        "outputId": "31dfc0e1-da51-4970-ae9c-2cbaac25f895"
      },
      "execution_count": null,
      "outputs": [
        {
          "output_type": "execute_result",
          "data": {
            "text/plain": [
              "12"
            ]
          },
          "metadata": {},
          "execution_count": 154
        }
      ]
    },
    {
      "cell_type": "code",
      "source": [
        "type(input_data)"
      ],
      "metadata": {
        "colab": {
          "base_uri": "https://localhost:8080/"
        },
        "id": "sCoUQsfvv75b",
        "outputId": "2261ebeb-5dfe-41ce-9b30-70d320271441"
      },
      "execution_count": null,
      "outputs": [
        {
          "output_type": "execute_result",
          "data": {
            "text/plain": [
              "int"
            ]
          },
          "metadata": {},
          "execution_count": 155
        }
      ]
    },
    {
      "cell_type": "code",
      "source": [
        "input_data = float(input('숫자를 입력하세요 : '))"
      ],
      "metadata": {
        "colab": {
          "base_uri": "https://localhost:8080/"
        },
        "id": "hMrvytB-wAM6",
        "outputId": "1b1a789c-8231-4733-d345-573cad4088cd"
      },
      "execution_count": null,
      "outputs": [
        {
          "name": "stdout",
          "output_type": "stream",
          "text": [
            "숫자를 입력하세요 : 12\n"
          ]
        }
      ]
    },
    {
      "cell_type": "code",
      "source": [
        "input_data"
      ],
      "metadata": {
        "colab": {
          "base_uri": "https://localhost:8080/"
        },
        "id": "I9-YhE55wUF-",
        "outputId": "6b0b3565-dd69-4541-a6b0-9ade9f600a44"
      },
      "execution_count": null,
      "outputs": [
        {
          "output_type": "execute_result",
          "data": {
            "text/plain": [
              "12.0"
            ]
          },
          "metadata": {},
          "execution_count": 157
        }
      ]
    },
    {
      "cell_type": "code",
      "source": [
        "type(input_data)"
      ],
      "metadata": {
        "colab": {
          "base_uri": "https://localhost:8080/"
        },
        "id": "LQ3DFcXuwWC2",
        "outputId": "fdc01ba3-c83f-46e4-e35d-5b3e65bbb531"
      },
      "execution_count": null,
      "outputs": [
        {
          "output_type": "execute_result",
          "data": {
            "text/plain": [
              "float"
            ]
          },
          "metadata": {},
          "execution_count": 158
        }
      ]
    },
    {
      "cell_type": "code",
      "source": [
        "input_data = int(input('숫자를 입력하세요 : '))"
      ],
      "metadata": {
        "colab": {
          "base_uri": "https://localhost:8080/",
          "height": 205
        },
        "id": "GoephJVSwc35",
        "outputId": "133c9e3c-126f-4ab5-aaee-86c905e2669c"
      },
      "execution_count": null,
      "outputs": [
        {
          "name": "stdout",
          "output_type": "stream",
          "text": [
            "숫자를 입력하세요 : 12.0\n"
          ]
        },
        {
          "output_type": "error",
          "ename": "ValueError",
          "evalue": "ignored",
          "traceback": [
            "\u001b[0;31m---------------------------------------------------------------------------\u001b[0m",
            "\u001b[0;31mValueError\u001b[0m                                Traceback (most recent call last)",
            "\u001b[0;32m<ipython-input-162-cd25ec0089c0>\u001b[0m in \u001b[0;36m<cell line: 1>\u001b[0;34m()\u001b[0m\n\u001b[0;32m----> 1\u001b[0;31m \u001b[0minput_data\u001b[0m \u001b[0;34m=\u001b[0m \u001b[0mint\u001b[0m\u001b[0;34m(\u001b[0m\u001b[0minput\u001b[0m\u001b[0;34m(\u001b[0m\u001b[0;34m'숫자를 입력하세요 : '\u001b[0m\u001b[0;34m)\u001b[0m\u001b[0;34m)\u001b[0m\u001b[0;34m\u001b[0m\u001b[0;34m\u001b[0m\u001b[0m\n\u001b[0m",
            "\u001b[0;31mValueError\u001b[0m: invalid literal for int() with base 10: '12.0'"
          ]
        }
      ]
    },
    {
      "cell_type": "code",
      "source": [
        "type(input_data)"
      ],
      "metadata": {
        "colab": {
          "base_uri": "https://localhost:8080/"
        },
        "id": "7SzoNPpowiS9",
        "outputId": "4ec5820f-a7a9-4cb6-92df-19be798132b1"
      },
      "execution_count": null,
      "outputs": [
        {
          "output_type": "execute_result",
          "data": {
            "text/plain": [
              "int"
            ]
          },
          "metadata": {},
          "execution_count": 161
        }
      ]
    },
    {
      "cell_type": "code",
      "source": [
        "int('13')"
      ],
      "metadata": {
        "colab": {
          "base_uri": "https://localhost:8080/"
        },
        "id": "mPIiQIC0wrTk",
        "outputId": "8f8dd07c-089b-4b76-a80f-1dc06884cade"
      },
      "execution_count": null,
      "outputs": [
        {
          "output_type": "execute_result",
          "data": {
            "text/plain": [
              "13"
            ]
          },
          "metadata": {},
          "execution_count": 163
        }
      ]
    },
    {
      "cell_type": "code",
      "source": [
        "int('12.0')"
      ],
      "metadata": {
        "colab": {
          "base_uri": "https://localhost:8080/",
          "height": 188
        },
        "id": "720hGOqQwx1h",
        "outputId": "f4543922-b4a3-45d4-9232-647f7e7dee23"
      },
      "execution_count": null,
      "outputs": [
        {
          "output_type": "error",
          "ename": "ValueError",
          "evalue": "ignored",
          "traceback": [
            "\u001b[0;31m---------------------------------------------------------------------------\u001b[0m",
            "\u001b[0;31mValueError\u001b[0m                                Traceback (most recent call last)",
            "\u001b[0;32m<ipython-input-164-c377d029ad40>\u001b[0m in \u001b[0;36m<cell line: 1>\u001b[0;34m()\u001b[0m\n\u001b[0;32m----> 1\u001b[0;31m \u001b[0mint\u001b[0m\u001b[0;34m(\u001b[0m\u001b[0;34m'12.0'\u001b[0m\u001b[0;34m)\u001b[0m\u001b[0;34m\u001b[0m\u001b[0;34m\u001b[0m\u001b[0m\n\u001b[0m",
            "\u001b[0;31mValueError\u001b[0m: invalid literal for int() with base 10: '12.0'"
          ]
        }
      ]
    },
    {
      "cell_type": "code",
      "source": [
        "int(float('12.0'))"
      ],
      "metadata": {
        "colab": {
          "base_uri": "https://localhost:8080/"
        },
        "id": "XwkG6jH7wz2C",
        "outputId": "ca36c7b9-9322-4b0f-9090-f211263baa42"
      },
      "execution_count": null,
      "outputs": [
        {
          "output_type": "execute_result",
          "data": {
            "text/plain": [
              "12"
            ]
          },
          "metadata": {},
          "execution_count": 166
        }
      ]
    },
    {
      "cell_type": "code",
      "source": [
        "sentence = ''' 존경하고 사랑하는 국민 여러분!\n",
        "감사합니다. 국민 여러분의 위대한 선택에 머리 숙여 깊이 감사드립니다.\n",
        "\n",
        "저는 오늘 대한민국 제19대 대통령으로서 새로운 대한민국을 향해 첫걸음을내딛습니다. 지금 제 두 어깨는 국민 여러분으로부터 부여받은 막중한 소명감으로 무겁습니다. 지금 제 가슴은 한 번도 경험하지 못한 나라를 만들겠다는 열정으로 뜨겁습니다. 그리고 지금 제 머리는 통합과 공존의 새로운 세상을 열어 갈청사진으로 가득 차 있습니다.\n",
        "\n",
        "우리가 만들어 가려는 새로운 대한민국은 숱한 좌절과 패배에도 불구하고 우리 선대들이 일관되게 추구했던 나라입니다. 또한 많은 희생과 헌신을 감내하며 우리 젊은이들이 그토록 이루고 싶어 했던 나라입니다. 그런 대한민국을 만들기위해 저는 역사와 국민 앞에 두렵지만 겸허히 대한민국 제19대 대통령으로서 책임과 소명을 다할 것을 천명합니다.\n",
        "\n",
        "함께 선거를 치른 후보들께 감사의 말씀과 함께 심심한 위로를 전합니다. 이번 선거에서는 승자도 패자도 없습니다. 우리는 새로운 대한민국을 함께 이끌어 가야 할 동반자입니다. 이제 치열했던 경쟁의 순간을 뒤로하고 함께 손을 맞잡고 미래로 전진해야 합니다.\n",
        "\n",
        "존경하는 국민 여러분!\n",
        "지난 몇 달간 우리는 유례없는 정치적 격변기를 보냈습니다. 정치는 혼란했지만 국민은 위대했습니다. 현직 대통령의 탄핵과 구속 앞에서도 국민께서 대한민국의 앞길을 열어 주셨습니다. 우리 국민은 좌절하지 않고 오히려 전화위복의 계기로 삼아 마침내 오늘 새로운 세상을 열었습니다. 대한민국의 위대함은 국민의 위대함입니다. 그리고 이번 대통령 선거에서 우리 국민은 또 하나의 역사를 만들어 주셨습니다. 전국 각지에서 고른 지지로 새로운 대한민국을 선택해 주셨습니다. 오늘부터 저는 국민 모두의 대통령이 되겠습니다. 저를 지지하지 않았던 분도 진심으로 우리의 국민으로 섬기겠습니다. 저는 감히 약속드립니다. 2017년 5월 10일은 진정한 국민통합이 시작된 날로 역사에 기록될 것입니다.\n",
        "\n",
        "존경하고 사랑하는 국민 여러분!\n",
        "힘들었던 지난 세월 국민은 이게 나라냐고 물었습니다. 대통령 문재인은 바로그 질문에서 시작하겠습니다.\n",
        "오늘부터 나라를 나라답게 만드는 대통령이 되겠습니다. 구시대의 잘못된 관행과 과감히 결별하겠습니다. 대통령부터 새로워지겠습니다.\n",
        "우선 권위적 대통령 문화를 청산하겠습니다. 준비를 마치는 대로 지금의 청와대에서 나와서 광화문 대통령 시대를 열겠습니다. 참모들과 머리와 어깨를 맞대고 토론하겠습니다. 국민과 수시로 소통하는 대통령이 되겠습니다. 주요 사안은대통령이 직접 언론에 브리핑하겠습니다. 퇴근길에는 시장에 들러 마주치는 시민 여러분과 격의 없는 대화를 나누겠습니다. 때로는 광화문광장에서 대토론회를 열겠습니다. 대통령의 제왕적 권력을 최대한 나누겠습니다.\n",
        "권력기관은 정치로부터 완전히 독립시키겠습니다. 그 어떤 기관도 무소불위의권력을 행사할 수 없도록 견제 장치를 만들겠습니다. 낮은 자세로 일하겠습니다.\n",
        "\n",
        "국민과 눈높이를 맞추는 대통령이 되겠습니다.\n",
        "안보위기도 서둘러 해결하겠습니다. 한반도 평화를 위해 동분서주하겠습니다.\n",
        "필요하면 곧바로 워싱턴으로 날아가겠습니다. 베이징(北京)과 도쿄(東京)에도 가고, 여건이 조성되면 평양에도 가겠습니다. 한반도 평화 정착을 위해서라면 제가할 수 있는 모든 일을 다하겠습니다. 한미동맹은 더욱 강화하겠습니다. 한편으로사드 문제 해결을 위해 미국 및 중국과 진지하게 협상하겠습니다. 튼튼한 안보는막강한 국방력에서 비롯됩니다. 자주국방을 강화하기 위해 노력하겠습니다. 북핵문제를 해결할 토대도 마련하겠습니다. 동북아 평화 구조를 정착시킴으로써한반도 긴장완화의 전기를 마련하겠습니다.\n",
        "분열과 갈등의 정치도 바꾸겠습니다. 보수와 진보의 갈등은 끝나야 합니다. 대통령이 나서서 직접 대화하겠습니다. 야당은 국정운영의 동반자입니다. 대화를정례화하고 수시로 만나겠습니다.\n",
        "전국의 인재를 고르게 등용하겠습니다. 능력과 적재적소(適材適所)를 인사의 대원칙으로 삼겠습니다. 저에 대한 지지 여부와 상관없이 유능한 인재를 삼고초려(三顧草廬)해서 일을 맡기겠습니다.\n",
        "나라 안팎으로 경제가 어렵습니다. 민생도 어렵습니다. 선거 과정에서 약속했듯이 무엇보다 먼저 일자리를 챙기겠습니다. 동시에 재벌 개혁에도 앞장서겠습니다.\n",
        "문재인정부 시대에는 정경유착이라는 말이 완전히 사라질 것입니다. 지역과 계층과 세대 간 갈등을 해소하고, 비정규직 문제도 해결의 길을 모색하겠습니다. 차별 없는 세상을 만들겠습니다.\n",
        "\n",
        "거듭 말씀드립니다.\n",
        "문재인과 더불어민주당 정부에서 기회는 평등할 것입니다.\n",
        "과정은 공정할 것입니다.\n",
        "결과는 정의로울 것입니다.\n",
        "\n",
        "존경하는 국민 여러분!\n",
        "이번 대통령 선거는 전임 대통령의 탄핵으로 치렀습니다. ‘불행한 대통령’의역사가 계속되고 있습니다. 문재인정부를 시작으로 이런 불행한 역사는 종식되어야 합니다. 저는 대한민국 대통령의 새로운 모범이 되겠습니다. 국민과 역사가평가하는 성공한 대통령이 되기 위해 최선을 다하겠습니다. 그것으로 지지와 성원에 보답하겠습니다.\n",
        "깨끗한 대통령이 되겠습니다. 빈손으로 취임하고 빈손으로 퇴임하는 대통령이되겠습니다. 훗날 고향으로 돌아가 평범한 시민이 되어 이웃과 정을 나누며 사는대통령이 되겠습니다. 국민 여러분의 자랑으로 남겠습니다.\n",
        "약속을 지키는 솔직한 대통령이 되겠습니다. 선거 과정에서 제가 했던 약속들을 꼼꼼하게 챙겨서 지키겠습니다. 대통령부터 신뢰받는 정치를 솔선수범해야 진정한 정치 발전이 가능할 것입니다. 불가능한 일을 하겠다고 큰소리치지 않겠습니다. 잘못한 일은 잘못했다고 말씀드리겠습니다. 거짓으로 불리한 여론을 덮지 않겠습니다.\n",
        "공정한 대통령이 되겠습니다. 특권과 반칙이 없는 세상을 만들겠습니다. 상식대로 해야 이득을 보는 세상을 만들겠습니다.\n",
        "이웃의 아픔을 외면하지 않겠습니다. 소외된 국민이 없도록 노심초사하는 마음으로 항상 살피겠습니다. 국민의 서러운 눈물을 닦아 드리는 대통령이 되겠습니다.\n",
        "소통하는 대통령이 되겠습니다. 낮은 사람, 겸손한 권력이 되어 가장 강력한 나라를 만들겠습니다. 군림하고 통치하는 대통령이 아니라 대화하고 소통하는 대통령이 되겠습니다.\n",
        "‘광화문 시대 대통령’이 되어 국민과 가까운 곳에 있겠습니다. 따뜻한 대통령,친구 같은 대통령으로 남겠습니다.\n",
        "\n",
        "사랑하고 존경하는 국민 여러분!\n",
        "2017년 5월 10일 오늘 대한민국이 다시 시작합니다. 나라를 나라답게 만드는역사가 시작됩니다. 이 길에 함께해 주십시오. 저의 신명을 바쳐 일하겠습니다.\n",
        "감사합니다.'''"
      ],
      "metadata": {
        "id": "hmi0C2oBw-bP"
      },
      "execution_count": null,
      "outputs": []
    },
    {
      "cell_type": "code",
      "source": [
        "sentence"
      ],
      "metadata": {
        "colab": {
          "base_uri": "https://localhost:8080/",
          "height": 246
        },
        "id": "OjKLYlefx2vX",
        "outputId": "3097788a-f357-47f7-d201-f41cd7318800"
      },
      "execution_count": null,
      "outputs": [
        {
          "output_type": "execute_result",
          "data": {
            "text/plain": [
              "' 존경하고 사랑하는 국민 여러분!\\n감사합니다. 국민 여러분의 위대한 선택에 머리 숙여 깊이 감사드립니다.\\n\\n저는 오늘 대한민국 제19대 대통령으로서 새로운 대한민국을 향해 첫걸음을내딛습니다. 지금 제 두 어깨는 국민 여러분으로부터 부여받은 막중한 소명감으로 무겁습니다. 지금 제 가슴은 한 번도 경험하지 못한 나라를 만들겠다는 열정으로 뜨겁습니다. 그리고 지금 제 머리는 통합과 공존의 새로운 세상을 열어 갈청사진으로 가득 차 있습니다.\\n\\n우리가 만들어 가려는 새로운 대한민국은 숱한 좌절과 패배에도 불구하고 우리 선대들이 일관되게 추구했던 나라입니다. 또한 많은 희생과 헌신을 감내하며 우리 젊은이들이 그토록 이루고 싶어 했던 나라입니다. 그런 대한민국을 만들기위해 저는 역사와 국민 앞에 두렵지만 겸허히 대한민국 제19대 대통령으로서 책임과 소명을 다할 것을 천명합니다.\\n\\n함께 선거를 치른 후보들께 감사의 말씀과 함께 심심한 위로를 전합니다. 이번 선거에서는 승자도 패자도 없습니다. 우리는 새로운 대한민국을 함께 이끌어 가야 할 동반자입니다. 이제 치열했던 경쟁의 순간을 뒤로하고 함께 손을 맞잡고 미래로 전진해야 합니다.\\n\\n존경하는 국민 여러분!\\n지난 몇 달간 우리는 유례없는 정치적 격변기를 보냈습니다. 정치는 혼란했지만 국민은 위대했습니다. 현직 대통령의 탄핵과 구속 앞에서도 국민께서 대한민국의 앞길을 열어 주셨습니다. 우리 국민은 좌절하지 않고 오히려 전화위복의 계기로 삼아 마침내 오늘 새로운 세상을 열었습니다. 대한민국의 위대함은 국민의 위대함입니다. 그리고 이번 대통령 선거에서 우리 국민은 또 하나의 역사를 만들어 주셨습니다. 전국 각지에서 고른 지지로 새로운 대한민국을 선택해 주셨습니다. 오늘부터 저는 국민 모두의 대통령이 되겠습니다. 저를 지지하지 않았던 분도 진심으로 우리의 국민으로 섬기겠습니다. 저는 감히 약속드립니다. 2017년 5월 10일은 진정한 국민통합이 시작된 날로 역사에 기록될 것입니다.\\n\\n존경하고 사랑하는 국민 여러분!\\n힘들었던 지난 세월 국민은 이게 나라냐고 물었습니다. 대통령 문재인은 바로그 질문에서 시작하겠습니다.\\n오늘부터 나라를 나라답게 만드는 대통령이 되겠습니다. 구시대의 잘못된 관행과 과감히 결별하겠습니다. 대통령부터 새로워지겠습니다.\\n우선 권위적 대통령 문화를 청산하겠습니다. 준비를 마치는 대로 지금의 청와대에서 나와서 광화문 대통령 시대를 열겠습니다. 참모들과 머리와 어깨를 맞대고 토론하겠습니다. 국민과 수시로 소통하는 대통령이 되겠습니다. 주요 사안은대통령이 직접 언론에 브리핑하겠습니다. 퇴근길에는 시장에 들러 마주치는 시민 여러분과 격의 없는 대화를 나누겠습니다. 때로는 광화문광장에서 대토론회를 열겠습니다. 대통령의 제왕적 권력을 최대한 나누겠습니다.\\n권력기관은 정치로부터 완전히 독립시키겠습니다. 그 어떤 기관도 무소불위의권력을 행사할 수 없도록 견제 장치를 만들겠습니다. 낮은 자세로 일하겠습니다.\\n\\n국민과 눈높이를 맞추는 대통령이 되겠습니다.\\n안보위기도 서둘러 해결하겠습니다. 한반도 평화를 위해 동분서주하겠습니다.\\n필요하면 곧바로 워싱턴으로 날아가겠습니다. 베이징(北京)과 도쿄(東京)에도 가고, 여건이 조성되면 평양에도 가겠습니다. 한반도 평화 정착을 위해서라면 제가할 수 있는 모든 일을 다하겠습니다. 한미동맹은 더욱 강화하겠습니다. 한편으로사드 문제 해결을 위해 미국 및 중국과 진지하게 협상하겠습니다. 튼튼한 안보는막강한 국방력에서 비롯됩니다. 자주국방을 강화하기 위해 노력하겠습니다. 북핵문제를 해결할 토대도 마련하겠습니다. 동북아 평화 구조를 정착시킴으로써한반도 긴장완화의 전기를 마련하겠습니다.\\n분열과 갈등의 정치도 바꾸겠습니다. 보수와 진보의 갈등은 끝나야 합니다. 대통령이 나서서 직접 대화하겠습니다. 야당은 국정운영의 동반자입니다. 대화를정례화하고 수시로 만나겠습니다.\\n전국의 인재를 고르게 등용하겠습니다. 능력과 적재적소(適材適所)를 인사의 대원칙으로 삼겠습니다. 저에 대한 지지 여부와 상관없이 유능한 인재를 삼고초려(三顧草廬)해서 일을 맡기겠습니다.\\n나라 안팎으로 경제가 어렵습니다. 민생도 어렵습니다. 선거 과정에서 약속했듯이 무엇보다 먼저 일자리를 챙기겠습니다. 동시에 재벌 개혁에도 앞장서겠습니다. \\n문재인정부 시대에는 정경유착이라는 말이 완전히 사라질 것입니다. 지역과 계층과 세대 간 갈등을 해소하고, 비정규직 문제도 해결의 길을 모색하겠습니다. 차별 없는 세상을 만들겠습니다.\\n\\n거듭 말씀드립니다.\\n문재인과 더불어민주당 정부에서 기회는 평등할 것입니다.\\n과정은 공정할 것입니다.\\n결과는 정의로울 것입니다.\\n\\n존경하는 국민 여러분!\\n이번 대통령 선거는 전임 대통령의 탄핵으로 치렀습니다. ‘불행한 대통령’의역사가 계속되고 있습니다. 문재인정부를 시작으로 이런 불행한 역사는 종식되어야 합니다. 저는 대한민국 대통령의 새로운 모범이 되겠습니다. 국민과 역사가평가하는 성공한 대통령이 되기 위해 최선을 다하겠습니다. 그것으로 지지와 성원에 보답하겠습니다.\\n깨끗한 대통령이 되겠습니다. 빈손으로 취임하고 빈손으로 퇴임하는 대통령이되겠습니다. 훗날 고향으로 돌아가 평범한 시민이 되어 이웃과 정을 나누며 사는대통령이 되겠습니다. 국민 여러분의 자랑으로 남겠습니다.\\n약속을 지키는 솔직한 대통령이 되겠습니다. 선거 과정에서 제가 했던 약속들을 꼼꼼하게 챙겨서 지키겠습니다. 대통령부터 신뢰받는 정치를 솔선수범해야 진정한 정치 발전이 가능할 것입니다. 불가능한 일을 하겠다고 큰소리치지 않겠습니다. 잘못한 일은 잘못했다고 말씀드리겠습니다. 거짓으로 불리한 여론을 덮지 않겠습니다.\\n공정한 대통령이 되겠습니다. 특권과 반칙이 없는 세상을 만들겠습니다. 상식대로 해야 이득을 보는 세상을 만들겠습니다.\\n이웃의 아픔을 외면하지 않겠습니다. 소외된 국민이 없도록 노심초사하는 마음으로 항상 살피겠습니다. 국민의 서러운 눈물을 닦아 드리는 대통령이 되겠습니다.\\n소통하는 대통령이 되겠습니다. 낮은 사람, 겸손한 권력이 되어 가장 강력한 나라를 만들겠습니다. 군림하고 통치하는 대통령이 아니라 대화하고 소통하는 대통령이 되겠습니다.\\n‘광화문 시대 대통령’이 되어 국민과 가까운 곳에 있겠습니다. 따뜻한 대통령,친구 같은 대통령으로 남겠습니다.\\n\\n사랑하고 존경하는 국민 여러분!\\n2017년 5월 10일 오늘 대한민국이 다시 시작합니다. 나라를 나라답게 만드는역사가 시작됩니다. 이 길에 함께해 주십시오. 저의 신명을 바쳐 일하겠습니다.\\n감사합니다.'"
            ],
            "application/vnd.google.colaboratory.intrinsic+json": {
              "type": "string"
            }
          },
          "metadata": {},
          "execution_count": 168
        }
      ]
    },
    {
      "cell_type": "code",
      "source": [
        "sentence.count('평화')"
      ],
      "metadata": {
        "colab": {
          "base_uri": "https://localhost:8080/"
        },
        "id": "CXIT0lGex3kI",
        "outputId": "7d4c3efa-7879-473e-da9c-eb120617b496"
      },
      "execution_count": null,
      "outputs": [
        {
          "output_type": "execute_result",
          "data": {
            "text/plain": [
              "3"
            ]
          },
          "metadata": {},
          "execution_count": 169
        }
      ]
    },
    {
      "cell_type": "code",
      "source": [
        "sentence.count('핵')"
      ],
      "metadata": {
        "colab": {
          "base_uri": "https://localhost:8080/"
        },
        "id": "Q6lkR3hGyAA4",
        "outputId": "4ff60beb-c3d0-40ee-9527-61e8d9c56d32"
      },
      "execution_count": null,
      "outputs": [
        {
          "output_type": "execute_result",
          "data": {
            "text/plain": [
              "3"
            ]
          },
          "metadata": {},
          "execution_count": 170
        }
      ]
    },
    {
      "cell_type": "code",
      "source": [
        "sentence.count('통일')"
      ],
      "metadata": {
        "colab": {
          "base_uri": "https://localhost:8080/"
        },
        "id": "rRvzITKIyDoR",
        "outputId": "3be0c911-cefe-41b3-f38d-2a47af825c2b"
      },
      "execution_count": null,
      "outputs": [
        {
          "output_type": "execute_result",
          "data": {
            "text/plain": [
              "0"
            ]
          },
          "metadata": {},
          "execution_count": 171
        }
      ]
    },
    {
      "cell_type": "code",
      "source": [
        "sentence.count('전쟁')"
      ],
      "metadata": {
        "id": "56IgWefGyFu9",
        "outputId": "4c237dee-3d07-48ef-93f6-9fbec0f4001e",
        "colab": {
          "base_uri": "https://localhost:8080/"
        }
      },
      "execution_count": null,
      "outputs": [
        {
          "output_type": "execute_result",
          "data": {
            "text/plain": [
              "0"
            ]
          },
          "metadata": {},
          "execution_count": 172
        }
      ]
    }
  ]
}