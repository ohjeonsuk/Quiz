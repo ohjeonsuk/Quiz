{
 "cells": [
  {
   "cell_type": "code",
   "execution_count": 7,
   "id": "43f71cdd",
   "metadata": {},
   "outputs": [],
   "source": [
    "# 붓꽃 데이터 로드 / 데이터 셋 분류와 관련된 모듈 import\n",
    "from sklearn.datasets import load_iris\n",
    "from sklearn.model_selection import train_test_split\n",
    "\n",
    "# 붓꽃 데이터 셋 객체화\n",
    "dataset = load_iris()\n",
    "\n",
    "# feature는 붓꽃 특징 데이터, label은 붓꽃 종류 데이터\n",
    "feature= dataset['data']\n",
    "label = dataset['target']"
   ]
  },
  {
   "cell_type": "code",
   "execution_count": 8,
   "id": "0963926f",
   "metadata": {},
   "outputs": [],
   "source": [
    "x_train, x_valid, y_train, y_valid = train_test_split(feature, label, test_size=0.2, shuffle=True, stratify=label)"
   ]
  },
  {
   "cell_type": "code",
   "execution_count": 9,
   "id": "0ebd9320",
   "metadata": {},
   "outputs": [],
   "source": [
    "# LogisticRegression 알고리즘을 사용하기 위한 모듈 import\n",
    "from sklearn.linear_model import LogisticRegression\n",
    "\n",
    "# 모델 선언\n",
    "model = LogisticRegression()"
   ]
  },
  {
   "cell_type": "code",
   "execution_count": 10,
   "id": "b1322dc2",
   "metadata": {},
   "outputs": [
    {
     "data": {
      "text/plain": [
       "LogisticRegression()"
      ]
     },
     "execution_count": 10,
     "metadata": {},
     "output_type": "execute_result"
    }
   ],
   "source": [
    "model.fit(x_train, y_train)"
   ]
  },
  {
   "cell_type": "code",
   "execution_count": 11,
   "id": "a95beaaa",
   "metadata": {},
   "outputs": [],
   "source": [
    "y_predict = model.predict(x_valid)"
   ]
  },
  {
   "cell_type": "code",
   "execution_count": 12,
   "id": "3944828c",
   "metadata": {},
   "outputs": [
    {
     "data": {
      "text/plain": [
       "0.9333333333333333"
      ]
     },
     "execution_count": 12,
     "metadata": {},
     "output_type": "execute_result"
    }
   ],
   "source": [
    "(y_predict == y_valid).mean()"
   ]
  }
 ],
 "metadata": {
  "kernelspec": {
   "display_name": "Python 3 (ipykernel)",
   "language": "python",
   "name": "python3"
  },
  "language_info": {
   "codemirror_mode": {
    "name": "ipython",
    "version": 3
   },
   "file_extension": ".py",
   "mimetype": "text/x-python",
   "name": "python",
   "nbconvert_exporter": "python",
   "pygments_lexer": "ipython3",
   "version": "3.9.7"
  }
 },
 "nbformat": 4,
 "nbformat_minor": 5
}
