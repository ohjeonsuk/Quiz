{
 "cells": [
  {
   "cell_type": "code",
   "execution_count": 9,
   "id": "9eaa63e3",
   "metadata": {},
   "outputs": [
    {
     "name": "stdout",
     "output_type": "stream",
     "text": [
      "검색할 키워드를 입력하세요: 코로나\n"
     ]
    },
    {
     "name": "stderr",
     "output_type": "stream",
     "text": [
      "C:\\Users\\usn14\\AppData\\Local\\Temp/ipykernel_7580/1548702437.py:12: DeprecationWarning: executable_path has been deprecated, please pass in a Service object\n",
      "  driver = webdriver.Chrome('C:/Users/usn14/OneDrive/바탕 화면/chromedriver.exe')\n"
     ]
    }
   ],
   "source": [
    "#step1.관련 패키지 import\n",
    "from selenium import webdriver\n",
    "from selenium.webdriver.common.keys import Keys\n",
    "import time\n",
    "from bs4 import BeautifulSoup as bs\n",
    "\n",
    "#step2.검색할 키워드 입력\n",
    "query = input('검색할 키워드를 입력하세요: ')\n",
    "\n",
    "#step3.크롬드라이버로 원하는 url로 접속\n",
    "url = 'https://www.naver.com/'\n",
    "driver = webdriver.Chrome('C:/Users/usn14/OneDrive/바탕 화면/chromedriver.exe')\n",
    "driver.get(url)\n",
    "time.sleep(3)"
   ]
  },
  {
   "cell_type": "code",
   "execution_count": 10,
   "id": "35c80f27",
   "metadata": {},
   "outputs": [
    {
     "name": "stderr",
     "output_type": "stream",
     "text": [
      "C:\\Users\\usn14\\AppData\\Local\\Temp/ipykernel_7580/1269898934.py:2: DeprecationWarning: find_element_by_* commands are deprecated. Please use find_element() instead\n",
      "  search_box = driver.find_element_by_css_selector(\"input#query\")\n",
      "C:\\Users\\usn14\\AppData\\Local\\Temp/ipykernel_7580/1269898934.py:8: DeprecationWarning: find_element_by_* commands are deprecated. Please use find_element() instead\n",
      "  driver.find_element_by_xpath('//*[@id=\"lnb\"]/div[1]/div/ul/li[2]/a').click()\n"
     ]
    }
   ],
   "source": [
    "#step4.검색창에 키워드 입력 후 엔터\n",
    "search_box = driver.find_element_by_css_selector(\"input#query\")\n",
    "search_box.send_keys(query)\n",
    "search_box.send_keys(Keys.RETURN)\n",
    "time.sleep(3)\n",
    "\n",
    "#step5.뉴스 탭 클릭\n",
    "driver.find_element_by_xpath('//*[@id=\"lnb\"]/div[1]/div/ul/li[2]/a').click()\n",
    "time.sleep(2)"
   ]
  },
  {
   "cell_type": "code",
   "execution_count": 11,
   "id": "42948fc1",
   "metadata": {},
   "outputs": [
    {
     "name": "stderr",
     "output_type": "stream",
     "text": [
      "C:\\Users\\usn14\\AppData\\Local\\Temp/ipykernel_7580/1273712795.py:2: DeprecationWarning: find_elements_by_* commands are deprecated. Please use find_elements() instead\n",
      "  news_titles = driver.find_elements_by_css_selector(\".news_tit\")\n"
     ]
    },
    {
     "name": "stdout",
     "output_type": "stream",
     "text": [
      "병무청, 6월 20일 병력동원훈련 시작…코로나로 축소 시행\n",
      "‘코로나 확진, 정말일까?’…인권위 “재검사 지침 명확해야”\n",
      "신한금투, 코로나 학번 이야기 담은 '응원하기 캠페인' 네 번째 영상 공개\n",
      "WHO 사무총장 “코로나19 팬데믹 끝난 게 아니다”\n",
      "제넨셀, 개발중 코로나치료제 UAE 제약사에 판권 이전\n",
      "코로나 신규확진 9975명…4개월 만에 1만명 아래로\n",
      "\"원숭이두창 치명률 코로나 30배\"…국내 들어올 가능성은?\n",
      "코로나19 확진자 118일 만에 1만명 아래로(종합)\n",
      "코로나19 신규 확진자 118일만에 1만명 아래로\n",
      "코로나 신규 확진자, 118일 만에 1만명 밑으로\n"
     ]
    }
   ],
   "source": [
    "#step5.검색 결과 페이지에서 selenium 패키지로 수집해보기\n",
    "news_titles = driver.find_elements_by_css_selector(\".news_tit\")\n",
    "\n",
    "for i in news_titles:\n",
    "    title = i.text\n",
    "    print(title)"
   ]
  },
  {
   "cell_type": "code",
   "execution_count": 12,
   "id": "e1de4dde",
   "metadata": {},
   "outputs": [
    {
     "name": "stdout",
     "output_type": "stream",
     "text": [
      "병무청, 6월 20일 병력동원훈련 시작…코로나로 축소 시행\n",
      "‘코로나 확진, 정말일까?’…인권위 “재검사 지침 명확해야”\n",
      "신한금투, 코로나 학번 이야기 담은 '응원하기 캠페인' 네 번째 영상 공개\n",
      "WHO 사무총장 “코로나19 팬데믹 끝난 게 아니다”\n",
      "제넨셀, 개발중 코로나치료제 UAE 제약사에 판권 이전\n",
      "코로나 신규확진 9975명…4개월 만에 1만명 아래로\n",
      "\"원숭이두창 치명률 코로나 30배\"…국내 들어올 가능성은?\n",
      "코로나19 확진자 118일 만에 1만명 아래로(종합)\n",
      "코로나19 신규 확진자 118일만에 1만명 아래로\n",
      "코로나 신규 확진자, 118일 만에 1만명 밑으로\n"
     ]
    }
   ],
   "source": [
    "#step5-1.검색 결과 페이지의 html 문서 전체를 받아와서 bs4로 파싱하여 수집하기\n",
    "\n",
    "html = driver.page_source\n",
    "soup = bs(html, 'html.parser')\n",
    "\n",
    "titles = soup.select('a.news_tit')\n",
    "\n",
    "for i in titles:\n",
    "    title = i.get_text()\n",
    "    print(title)"
   ]
  }
 ],
 "metadata": {
  "kernelspec": {
   "display_name": "Python 3 (ipykernel)",
   "language": "python",
   "name": "python3"
  },
  "language_info": {
   "codemirror_mode": {
    "name": "ipython",
    "version": 3
   },
   "file_extension": ".py",
   "mimetype": "text/x-python",
   "name": "python",
   "nbconvert_exporter": "python",
   "pygments_lexer": "ipython3",
   "version": "3.9.7"
  }
 },
 "nbformat": 4,
 "nbformat_minor": 5
}
