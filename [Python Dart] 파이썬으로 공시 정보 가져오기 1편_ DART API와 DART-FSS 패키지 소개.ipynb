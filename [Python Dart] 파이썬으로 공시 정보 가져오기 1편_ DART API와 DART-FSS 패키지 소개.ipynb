{
 "cells": [
  {
   "cell_type": "code",
   "execution_count": 25,
   "id": "06513827",
   "metadata": {},
   "outputs": [
    {
     "name": "stdout",
     "output_type": "stream",
     "text": [
      "Requirement already satisfied: dart-fss in c:\\users\\usn14\\appdata\\local\\programs\\python\\python39\\lib\\site-packages (0.3.17)"
     ]
    },
    {
     "name": "stderr",
     "output_type": "stream",
     "text": [
      "WARNING: You are using pip version 21.2.3; however, version 22.1.2 is available."
     ]
    },
    {
     "name": "stdout",
     "output_type": "stream",
     "text": [
      "\n"
     ]
    },
    {
     "name": "stderr",
     "output_type": "stream",
     "text": [
      "\n"
     ]
    },
    {
     "name": "stdout",
     "output_type": "stream",
     "text": [
      "Requirement already satisfied: urllib3 in c:\\users\\usn14\\appdata\\local\\programs\\python\\python39\\lib\\site-packages (from dart-fss) (1.26.8)"
     ]
    },
    {
     "name": "stderr",
     "output_type": "stream",
     "text": [
      "You should consider upgrading via the 'C:\\Users\\usn14\\AppData\\Local\\Programs\\Python\\Python39\\python.exe -m pip install --upgrade pip' command."
     ]
    },
    {
     "name": "stdout",
     "output_type": "stream",
     "text": [
      "\n"
     ]
    },
    {
     "name": "stderr",
     "output_type": "stream",
     "text": [
      "\n"
     ]
    },
    {
     "name": "stdout",
     "output_type": "stream",
     "text": [
      "Requirement already satisfied: xmltodict in c:\\users\\usn14\\appdata\\local\\programs\\python\\python39\\lib\\site-packages (from dart-fss) (0.13.0)\n",
      "Requirement already satisfied: idna>=3.0 in c:\\users\\usn14\\appdata\\local\\programs\\python\\python39\\lib\\site-packages (from dart-fss) (3.3)Note: you may need to restart the kernel to use updated packages.\n",
      "\n",
      "Requirement already satisfied: requests in c:\\users\\usn14\\appdata\\local\\programs\\python\\python39\\lib\\site-packages (from dart-fss) (2.27.1)Error in callback <function Halo.__init__.<locals>.clean_up at 0x0000018B6DA2C160> (for post_run_cell):\n",
      "\n",
      "Requirement already satisfied: fake-useragent in c:\\users\\usn14\\appdata\\local\\programs\\python\\python39\\lib\\site-packages (from dart-fss) (0.1.11)\n",
      "Requirement already satisfied: tqdm in c:\\users\\usn14\\appdata\\local\\programs\\python\\python39\\lib\\site-packages (from dart-fss) (4.64.0)\n",
      "Requirement already satisfied: attrs in c:\\users\\usn14\\appdata\\local\\programs\\python\\python39\\lib\\site-packages (from dart-fss) (21.2.0)\n",
      "Requirement already satisfied: beautifulsoup4 in c:\\users\\usn14\\appdata\\local\\programs\\python\\python39\\lib\\site-packages (from dart-fss) (4.10.0)\n",
      "Requirement already satisfied: pickleshare in c:\\users\\usn14\\appdata\\local\\programs\\python\\python39\\lib\\site-packages (from dart-fss) (0.7.5)\n",
      "Requirement already satisfied: chardet in c:\\users\\usn14\\appdata\\local\\programs\\python\\python39\\lib\\site-packages (from dart-fss) (4.0.0)"
     ]
    },
    {
     "ename": "AttributeError",
     "evalue": "'HaloNotebook' object has no attribute 'output'",
     "output_type": "error",
     "traceback": [
      "\u001b[1;31m---------------------------------------------------------------------------\u001b[0m",
      "\u001b[1;31mAttributeError\u001b[0m                            Traceback (most recent call last)",
      "\u001b[1;32m~\\AppData\\Local\\Programs\\Python\\Python39\\lib\\site-packages\\backcall\\backcall.py\u001b[0m in \u001b[0;36madapted\u001b[1;34m(*args, **kwargs)\u001b[0m\n\u001b[0;32m    102\u001b[0m                 \u001b[0mkwargs\u001b[0m\u001b[1;33m.\u001b[0m\u001b[0mpop\u001b[0m\u001b[1;33m(\u001b[0m\u001b[0mname\u001b[0m\u001b[1;33m)\u001b[0m\u001b[1;33m\u001b[0m\u001b[1;33m\u001b[0m\u001b[0m\n\u001b[0;32m    103\u001b[0m \u001b[1;31m#            print(args, kwargs, unmatched_pos, cut_positional, unmatched_kw)\u001b[0m\u001b[1;33m\u001b[0m\u001b[1;33m\u001b[0m\u001b[0m\n\u001b[1;32m--> 104\u001b[1;33m             \u001b[1;32mreturn\u001b[0m \u001b[0mcallback\u001b[0m\u001b[1;33m(\u001b[0m\u001b[1;33m*\u001b[0m\u001b[0margs\u001b[0m\u001b[1;33m,\u001b[0m \u001b[1;33m**\u001b[0m\u001b[0mkwargs\u001b[0m\u001b[1;33m)\u001b[0m\u001b[1;33m\u001b[0m\u001b[1;33m\u001b[0m\u001b[0m\n\u001b[0m\u001b[0;32m    105\u001b[0m \u001b[1;33m\u001b[0m\u001b[0m\n\u001b[0;32m    106\u001b[0m         \u001b[1;32mreturn\u001b[0m \u001b[0madapted\u001b[0m\u001b[1;33m\u001b[0m\u001b[1;33m\u001b[0m\u001b[0m\n",
      "\u001b[1;32m~\\AppData\\Local\\Programs\\Python\\Python39\\lib\\site-packages\\halo\\halo.py\u001b[0m in \u001b[0;36mclean_up\u001b[1;34m()\u001b[0m\n\u001b[0;32m    102\u001b[0m         \u001b[1;32mdef\u001b[0m \u001b[0mclean_up\u001b[0m\u001b[1;33m(\u001b[0m\u001b[1;33m)\u001b[0m\u001b[1;33m:\u001b[0m\u001b[1;33m\u001b[0m\u001b[1;33m\u001b[0m\u001b[0m\n\u001b[0;32m    103\u001b[0m             \u001b[1;34m\"\"\"Handle cell execution\"\"\"\u001b[0m\u001b[1;33m\u001b[0m\u001b[1;33m\u001b[0m\u001b[0m\n\u001b[1;32m--> 104\u001b[1;33m             \u001b[0mself\u001b[0m\u001b[1;33m.\u001b[0m\u001b[0mstop\u001b[0m\u001b[1;33m(\u001b[0m\u001b[1;33m)\u001b[0m\u001b[1;33m\u001b[0m\u001b[1;33m\u001b[0m\u001b[0m\n\u001b[0m\u001b[0;32m    105\u001b[0m \u001b[1;33m\u001b[0m\u001b[0m\n\u001b[0;32m    106\u001b[0m         \u001b[1;32mif\u001b[0m \u001b[0menvironment\u001b[0m \u001b[1;32min\u001b[0m \u001b[1;33m(\u001b[0m\u001b[1;34m\"ipython\"\u001b[0m\u001b[1;33m,\u001b[0m \u001b[1;34m\"jupyter\"\u001b[0m\u001b[1;33m)\u001b[0m\u001b[1;33m:\u001b[0m\u001b[1;33m\u001b[0m\u001b[1;33m\u001b[0m\u001b[0m\n",
      "\u001b[1;32m~\\AppData\\Local\\Programs\\Python\\Python39\\lib\\site-packages\\halo\\halo.py\u001b[0m in \u001b[0;36mstop\u001b[1;34m(self)\u001b[0m\n\u001b[0;32m    513\u001b[0m \u001b[1;33m\u001b[0m\u001b[0m\n\u001b[0;32m    514\u001b[0m         \u001b[1;32mif\u001b[0m \u001b[0mself\u001b[0m\u001b[1;33m.\u001b[0m\u001b[0menabled\u001b[0m\u001b[1;33m:\u001b[0m\u001b[1;33m\u001b[0m\u001b[1;33m\u001b[0m\u001b[0m\n\u001b[1;32m--> 515\u001b[1;33m             \u001b[0mself\u001b[0m\u001b[1;33m.\u001b[0m\u001b[0mclear\u001b[0m\u001b[1;33m(\u001b[0m\u001b[1;33m)\u001b[0m\u001b[1;33m\u001b[0m\u001b[1;33m\u001b[0m\u001b[0m\n\u001b[0m\u001b[0;32m    516\u001b[0m \u001b[1;33m\u001b[0m\u001b[0m\n\u001b[0;32m    517\u001b[0m         \u001b[0mself\u001b[0m\u001b[1;33m.\u001b[0m\u001b[0m_frame_index\u001b[0m \u001b[1;33m=\u001b[0m \u001b[1;36m0\u001b[0m\u001b[1;33m\u001b[0m\u001b[1;33m\u001b[0m\u001b[0m\n",
      "\u001b[1;32m~\\AppData\\Local\\Programs\\Python\\Python39\\lib\\site-packages\\halo\\halo_notebook.py\u001b[0m in \u001b[0;36mclear\u001b[1;34m(self)\u001b[0m\n\u001b[0;32m     49\u001b[0m             \u001b[1;32mreturn\u001b[0m \u001b[0mself\u001b[0m\u001b[1;33m\u001b[0m\u001b[1;33m\u001b[0m\u001b[0m\n\u001b[0;32m     50\u001b[0m \u001b[1;33m\u001b[0m\u001b[0m\n\u001b[1;32m---> 51\u001b[1;33m         \u001b[1;32mwith\u001b[0m \u001b[0mself\u001b[0m\u001b[1;33m.\u001b[0m\u001b[0moutput\u001b[0m\u001b[1;33m:\u001b[0m\u001b[1;33m\u001b[0m\u001b[1;33m\u001b[0m\u001b[0m\n\u001b[0m\u001b[0;32m     52\u001b[0m             \u001b[0mself\u001b[0m\u001b[1;33m.\u001b[0m\u001b[0moutput\u001b[0m\u001b[1;33m.\u001b[0m\u001b[0moutputs\u001b[0m \u001b[1;33m+=\u001b[0m \u001b[0mself\u001b[0m\u001b[1;33m.\u001b[0m\u001b[0m_output\u001b[0m\u001b[1;33m(\u001b[0m\u001b[1;34m\"\\r\"\u001b[0m\u001b[1;33m)\u001b[0m\u001b[1;33m\u001b[0m\u001b[1;33m\u001b[0m\u001b[0m\n\u001b[0;32m     53\u001b[0m             \u001b[0mself\u001b[0m\u001b[1;33m.\u001b[0m\u001b[0moutput\u001b[0m\u001b[1;33m.\u001b[0m\u001b[0moutputs\u001b[0m \u001b[1;33m+=\u001b[0m \u001b[0mself\u001b[0m\u001b[1;33m.\u001b[0m\u001b[0m_output\u001b[0m\u001b[1;33m(\u001b[0m\u001b[0mself\u001b[0m\u001b[1;33m.\u001b[0m\u001b[0mCLEAR_LINE\u001b[0m\u001b[1;33m)\u001b[0m\u001b[1;33m\u001b[0m\u001b[1;33m\u001b[0m\u001b[0m\n",
      "\u001b[1;31mAttributeError\u001b[0m: 'HaloNotebook' object has no attribute 'output'"
     ]
    },
    {
     "name": "stdout",
     "output_type": "stream",
     "text": [
      "\n",
      "Requirement already satisfied: traitlets in c:\\users\\usn14\\appdata\\local\\programs\\python\\python39\\lib\\site-packages (from dart-fss) (5.1.0)\n",
      "Requirement already satisfied: decorator in c:\\users\\usn14\\appdata\\local\\programs\\python\\python39\\lib\\site-packages (from dart-fss) (5.1.0)\n",
      "Requirement already satisfied: py in c:\\users\\usn14\\appdata\\local\\programs\\python\\python39\\lib\\site-packages (from dart-fss) (1.11.0)\n",
      "Requirement already satisfied: arelle in c:\\users\\usn14\\appdata\\local\\programs\\python\\python39\\lib\\site-packages (from dart-fss) (2.2)\n",
      "\n",
      "Requirement already satisfied: halo in c:\\users\\usn14\\appdata\\local\\programs\\python\\python39\\lib\\site-packages (from dart-fss) (0.0.31)\n",
      "Requirement already satisfied: six in c:\\users\\usn14\\appdata\\local\\programs\\python\\python39\\lib\\site-packages (from dart-fss) (1.16.0)Requirement already satisfied: pytz in c:\\users\\usn14\\appdata\\local\\programs\\python\\python39\\lib\\site-packages (from dart-fss) (2021.3)\n",
      "Requirement already satisfied: pandas>=1.2.0 in c:\\users\\usn14\\appdata\\local\\programs\\python\\python39\\lib\\site-packages (from dart-fss) (1.4.0)\n",
      "Requirement already satisfied: openpyxl in c:\\users\\usn14\\appdata\\local\\programs\\python\\python39\\lib\\site-packages (from dart-fss) (3.0.10)\n",
      "Requirement already satisfied: ipython-genutils in c:\\users\\usn14\\appdata\\local\\programs\\python\\python39\\lib\\site-packages (from dart-fss) (0.2.0)\n",
      "Requirement already satisfied: log_symbols>=0.0.14 in c:\\users\\usn14\\appdata\\local\\programs\\python\\python39\\lib\\site-packages (from halo->dart-fss) (0.0.14)\n",
      "Requirement already satisfied: termcolor>=1.1.0 in c:\\users\\usn14\\appdata\\local\\programs\\python\\python39\\lib\\site-packages (from halo->dart-fss) (1.1.0)\n",
      "\n",
      "Requirement already satisfied: et-xmlfile in c:\\users\\usn14\\appdata\\local\\programs\\python\\python39\\lib\\site-packages (from openpyxl->dart-fss) (1.1.0)\n"
     ]
    }
   ],
   "source": [
    "pip install dart-fss"
   ]
  },
  {
   "cell_type": "code",
   "execution_count": null,
   "id": "27f3e42a",
   "metadata": {},
   "outputs": [
    {
     "data": {
      "application/vnd.jupyter.widget-view+json": {
       "model_id": "be45021742f446a49949b667312a33c9",
       "version_major": 2,
       "version_minor": 0
      },
      "text/plain": [
       "Annual reports:   0%|          | 0/11 [00:00<?, ?report/s]"
      ]
     },
     "metadata": {},
     "output_type": "display_data"
    }
   ],
   "source": [
    "import dart_fss as dart\n",
    "\n",
    "# Open DART API KEY 설정\n",
    "api_key='c37e2c822909f3fd63a83115f667b69aa81b1b13'\n",
    "dart.set_api_key(api_key=api_key)\n",
    "\n",
    "# DART 에 공시된 회사 리스트 불러오기\n",
    "corp_list = dart.get_corp_list()\n",
    "\n",
    "# 삼성전자 검색\n",
    "samsung = corp_list.find_by_corp_name('삼성전자', exactly=True)[0]\n",
    "\n",
    "# 2012년부터 연간 연결재무제표 불러오기\n",
    "fs = samsung.extract_fs(bgn_de='20120101')\n",
    "\n",
    "# 재무제표 검색 결과를 엑셀파일로 저장 ( 기본저장위치: 실행폴더/fsdata )\n",
    "fs.save()"
   ]
  }
 ],
 "metadata": {
  "kernelspec": {
   "display_name": "Python 3 (ipykernel)",
   "language": "python",
   "name": "python3"
  },
  "language_info": {
   "codemirror_mode": {
    "name": "ipython",
    "version": 3
   },
   "file_extension": ".py",
   "mimetype": "text/x-python",
   "name": "python",
   "nbconvert_exporter": "python",
   "pygments_lexer": "ipython3",
   "version": "3.9.7"
  }
 },
 "nbformat": 4,
 "nbformat_minor": 5
}
