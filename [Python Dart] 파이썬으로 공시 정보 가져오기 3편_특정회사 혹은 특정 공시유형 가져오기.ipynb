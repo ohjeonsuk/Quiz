{
 "cells": [
  {
   "cell_type": "code",
   "execution_count": 11,
   "id": "dc578900",
   "metadata": {},
   "outputs": [],
   "source": [
    "import dart_fss as dart\n",
    "\n",
    "# Open DART API KEY 설정\n",
    "api_key='c37e2c822909f3fd63a83115f667b69aa81b1b13'\n",
    "dart.set_api_key(api_key=api_key)\n",
    "\n",
    "# 오늘 나온 공시 검색\n",
    "reports = dart.filings.search()"
   ]
  },
  {
   "cell_type": "code",
   "execution_count": 14,
   "id": "3d259e18",
   "metadata": {},
   "outputs": [],
   "source": [
    "# 2021년 1월 1일부터 2021년 3월 31일까지 검색 (페이지당 표시 건수: 100)\n",
    "reports = dart.filings.search(bgn_de='20190101', end_de='20190331', page_count=100)"
   ]
  },
  {
   "cell_type": "code",
   "execution_count": 15,
   "id": "75ce535a",
   "metadata": {},
   "outputs": [],
   "source": [
    "# 2019년 5월 1일부터 2019년 7월 1일까지 연간보고서만 검색\n",
    "reports = dart.filings.search(bgn_de='20190501', end_de='20190701', pblntf_detail_ty='a001')"
   ]
  },
  {
   "cell_type": "code",
   "execution_count": 7,
   "id": "6adf6459",
   "metadata": {},
   "outputs": [],
   "source": [
    "# 2019년 5월 1일부터 2019년 7월 1일까지 연간보고서 및 반기보고서 검색\n",
    "reports = dart.filings.search(bgn_de='20190501', end_de='20190701', pblntf_detail_ty=['a001', 'a002'])"
   ]
  },
  {
   "cell_type": "code",
   "execution_count": 8,
   "id": "7d7bc30f",
   "metadata": {},
   "outputs": [
    {
     "data": {
      "text/html": [
       "\n",
       "    <style scoped>\n",
       "        .dart-table tbody tr th {\n",
       "            vertical-align: top;\n",
       "            text-overflow: ellipsis;\n",
       "        }\n",
       "        .dart-table thead th {\n",
       "            text-align: right;\n",
       "            text-overflow: ellipsis;\n",
       "        }\n",
       "    </style>\n",
       "    <table border=\"1\" class=\"dart-table\"><thead><tr style=\"text-align: right;\"><th>Label</th><th>Data</th></tr></thead><tbody><tr><th>page_no</th><td>1</td></tr><tr><th>page_count</th><td>10</td></tr><tr><th>total_count</th><td>68913</td></tr><tr><th>total_page</th><td>6892</td></tr><tr><th>report_list</th><td><table style=\"width:100%\"><thead><tr><th width=\"20\">No.</th><th>rcp_no</th><th>corp_code</th><th>corp_name</th><th>stock_code</th><th>corp_cls</th><th>report_nm</th><th>flr_nm</th><th>rcept_dt</th><th>rm</th></tr></thead><tbody><tr><th width=\"20\">0</th><td>20210323001152</td><td>01344336</td><td>신테카바이오</td><td>226330</td><td>K</td><td>[첨부추가]사업보고서 (2020.12)</td><td>신테카바이오</td><td>20210323</td><td>정</td></tr><tr><th width=\"20\">1</th><td>20210219900156</td><td>01065013</td><td>우정바이오</td><td>215380</td><td>K</td><td>[첨부추가]단일판매ㆍ공급계약체결</td><td>우정바이오</td><td>20210219</td><td>코정</td></tr><tr><th width=\"20\">2</th><td>20210112000208</td><td>00260453</td><td>삼성자산운용</td><td></td><td>E</td><td>일괄신고서(집합투자증권-신탁형)(삼성에너지트랜지션증권자투자신탁H[주식-재간접형])</td><td>삼성자산운용</td><td>20210112</td><td>정</td></tr><tr><th width=\"20\">3</th><td>20210121000296</td><td>00260453</td><td>삼성자산운용</td><td></td><td>E</td><td>[기재정정]일괄신고서(집합투자증권-신탁형)(삼성KODEX레버리지증권상장지수투자신탁[주식-파생형])</td><td>삼성자산운용</td><td>20210121</td><td>정</td></tr><tr><th width=\"20\">4</th><td>20210223900093</td><td>01050738</td><td>솔트룩스</td><td>304100</td><td>K</td><td>[첨부추가]단일판매ㆍ공급계약체결</td><td>솔트룩스</td><td>20210223</td><td>코</td></tr><tr><th width=\"20\">5</th><td>20210319000481</td><td>01063884</td><td>휴센텍</td><td>215090</td><td>K</td><td>[첨부추가]사업보고서 (2020.12)</td><td>휴센텍</td><td>20210319</td><td>정</td></tr><tr><th width=\"20\">6</th><td>20210311001187</td><td>00442561</td><td>에프알텍</td><td>073540</td><td>K</td><td>[첨부추가]사업보고서 (2020.12)</td><td>에프알텍</td><td>20210311</td><td>연</td></tr><tr><th width=\"20\">7</th><td>20210319000935</td><td>00602279</td><td>그린플러스</td><td>186230</td><td>K</td><td>[첨부추가]사업보고서 (2020.12)</td><td>그린플러스</td><td>20210319</td><td>연</td></tr><tr><th width=\"20\">8</th><td>20210319000859</td><td>00243979</td><td>EV수성</td><td>084180</td><td>K</td><td>[첨부추가]사업보고서 (2020.12)</td><td>EV수성</td><td>20210319</td><td>정연</td></tr><tr><th width=\"20\">9</th><td>20210319000523</td><td>00146232</td><td>일성건설</td><td>013360</td><td>Y</td><td>[첨부추가]사업보고서 (2020.12)</td><td>일성건설</td><td>20210319</td><td>연</td></tr></tbody></table></td></tr></tbody></table>"
      ],
      "text/plain": [
       "{'page_count': 10,\n",
       " 'page_no': 1,\n",
       " 'report_list': [{'corp_cls': 'K',\n",
       "                  'corp_code': '01344336',\n",
       "                  'corp_name': '신테카바이오',\n",
       "                  'flr_nm': '신테카바이오',\n",
       "                  'rcept_dt': '20210323',\n",
       "                  'rcp_no': '20210323001152',\n",
       "                  'report_nm': '[첨부추가]사업보고서 (2020.12)',\n",
       "                  'rm': '정',\n",
       "                  'stock_code': '226330'},\n",
       "                 {'corp_cls': 'K',\n",
       "                  'corp_code': '01065013',\n",
       "                  'corp_name': '우정바이오',\n",
       "                  'flr_nm': '우정바이오',\n",
       "                  'rcept_dt': '20210219',\n",
       "                  'rcp_no': '20210219900156',\n",
       "                  'report_nm': '[첨부추가]단일판매ㆍ공급계약체결',\n",
       "                  'rm': '코정',\n",
       "                  'stock_code': '215380'},\n",
       "                 {'corp_cls': 'E',\n",
       "                  'corp_code': '00260453',\n",
       "                  'corp_name': '삼성자산운용',\n",
       "                  'flr_nm': '삼성자산운용',\n",
       "                  'rcept_dt': '20210112',\n",
       "                  'rcp_no': '20210112000208',\n",
       "                  'report_nm': '일괄신고서(집합투자증권-신탁형)(삼성에너지트랜지션증권자투자신탁H[주식-재간접형])',\n",
       "                  'rm': '정',\n",
       "                  'stock_code': ''},\n",
       "                 {'corp_cls': 'E',\n",
       "                  'corp_code': '00260453',\n",
       "                  'corp_name': '삼성자산운용',\n",
       "                  'flr_nm': '삼성자산운용',\n",
       "                  'rcept_dt': '20210121',\n",
       "                  'rcp_no': '20210121000296',\n",
       "                  'report_nm': '[기재정정]일괄신고서(집합투자증권-신탁형)(삼성KODEX레버리지증권상장지수투자신탁[주식-파생형])',\n",
       "                  'rm': '정',\n",
       "                  'stock_code': ''},\n",
       "                 {'corp_cls': 'K',\n",
       "                  'corp_code': '01050738',\n",
       "                  'corp_name': '솔트룩스',\n",
       "                  'flr_nm': '솔트룩스',\n",
       "                  'rcept_dt': '20210223',\n",
       "                  'rcp_no': '20210223900093',\n",
       "                  'report_nm': '[첨부추가]단일판매ㆍ공급계약체결',\n",
       "                  'rm': '코',\n",
       "                  'stock_code': '304100'},\n",
       "                 {'corp_cls': 'K',\n",
       "                  'corp_code': '01063884',\n",
       "                  'corp_name': '휴센텍',\n",
       "                  'flr_nm': '휴센텍',\n",
       "                  'rcept_dt': '20210319',\n",
       "                  'rcp_no': '20210319000481',\n",
       "                  'report_nm': '[첨부추가]사업보고서 (2020.12)',\n",
       "                  'rm': '정',\n",
       "                  'stock_code': '215090'},\n",
       "                 {'corp_cls': 'K',\n",
       "                  'corp_code': '00442561',\n",
       "                  'corp_name': '에프알텍',\n",
       "                  'flr_nm': '에프알텍',\n",
       "                  'rcept_dt': '20210311',\n",
       "                  'rcp_no': '20210311001187',\n",
       "                  'report_nm': '[첨부추가]사업보고서 (2020.12)',\n",
       "                  'rm': '연',\n",
       "                  'stock_code': '073540'},\n",
       "                 {'corp_cls': 'K',\n",
       "                  'corp_code': '00602279',\n",
       "                  'corp_name': '그린플러스',\n",
       "                  'flr_nm': '그린플러스',\n",
       "                  'rcept_dt': '20210319',\n",
       "                  'rcp_no': '20210319000935',\n",
       "                  'report_nm': '[첨부추가]사업보고서 (2020.12)',\n",
       "                  'rm': '연',\n",
       "                  'stock_code': '186230'},\n",
       "                 {'corp_cls': 'K',\n",
       "                  'corp_code': '00243979',\n",
       "                  'corp_name': 'EV수성',\n",
       "                  'flr_nm': 'EV수성',\n",
       "                  'rcept_dt': '20210319',\n",
       "                  'rcp_no': '20210319000859',\n",
       "                  'report_nm': '[첨부추가]사업보고서 (2020.12)',\n",
       "                  'rm': '정연',\n",
       "                  'stock_code': '084180'},\n",
       "                 {'corp_cls': 'Y',\n",
       "                  'corp_code': '00146232',\n",
       "                  'corp_name': '일성건설',\n",
       "                  'flr_nm': '일성건설',\n",
       "                  'rcept_dt': '20210319',\n",
       "                  'rcp_no': '20210319000523',\n",
       "                  'report_nm': '[첨부추가]사업보고서 (2020.12)',\n",
       "                  'rm': '연',\n",
       "                  'stock_code': '013360'}],\n",
       " 'total_count': 68913,\n",
       " 'total_page': 6892}"
      ]
     },
     "execution_count": 8,
     "metadata": {},
     "output_type": "execute_result"
    }
   ],
   "source": [
    "import dart_fss as dart\n",
    "\n",
    "# 2021년 1월 1일부터 2021년 3월 31일까지 검색\n",
    "reports = dart.filings.search(bgn_de='20210101', end_de='20210331')\n",
    "\n",
    "reports"
   ]
  },
  {
   "cell_type": "code",
   "execution_count": 10,
   "id": "4e6774ed",
   "metadata": {},
   "outputs": [
    {
     "data": {
      "text/html": [
       "\n",
       "    <style scoped>\n",
       "        .dart-table tbody tr th {\n",
       "            vertical-align: top;\n",
       "            text-overflow: ellipsis;\n",
       "        }\n",
       "        .dart-table thead th {\n",
       "            text-align: right;\n",
       "            text-overflow: ellipsis;\n",
       "        }\n",
       "    </style>\n",
       "    <table border=\"1\" class=\"dart-table\"><thead><tr style=\"text-align: right;\"><th>Label</th><th>Data</th></tr></thead><tbody><tr><th>rcp_no</th><td>20220308000798</td></tr><tr><th>corp_code</th><td>00126380</td></tr><tr><th>corp_name</th><td>삼성전자</td></tr><tr><th>stock_code</th><td>005930</td></tr><tr><th>corp_cls</th><td>Y</td></tr><tr><th>report_nm</th><td>사업보고서 (2021.12)</td></tr><tr><th>flr_nm</th><td>삼성전자</td></tr><tr><th>rcept_dt</th><td>20220308</td></tr><tr><th>rm</th><td>연</td></tr><tr><th>xbrl</th><td>[삼성전자]사업보고서_IFRS(원문XBRL)(2022.03.08).zip</td></tr><tr><th>attached_reports</th><td><table style=\"width:100%\"><thead><tr><th width=\"20\">No.</th><th>rpt_nm</th></tr></thead><tbody><tr><th width=\"20\">0</th><td>2022.03.08 감사보고서</td></tr><tr><th width=\"20\">1</th><td>2022.03.08 감사의감사보고서</td></tr><tr><th width=\"20\">2</th><td>2022.03.08 내부감시장치에대한감사의의견서</td></tr><tr><th width=\"20\">3</th><td>2022.03.08 내부회계관리제도운영보고서</td></tr><tr><th width=\"20\">4</th><td>2022.03.08 연결감사보고서</td></tr><tr><th width=\"20\">5</th><td>2022.03.08 영업보고서</td></tr><tr><th width=\"20\">6</th><td>2022.03.08 정관</td></tr></tbody></table></td></tr><tr><th>attached_files</th><td><table style=\"width:100%\"><thead><tr><th width=\"20\">No.</th><th>filename</th></tr></thead><tbody><tr><th width=\"20\">0</th><td>[삼성전자]사업보고서(2022.03.08).pdf</td></tr><tr><th width=\"20\">1</th><td>[삼성전자]사업보고서_재무제표(2022.03.08)_ko.xls</td></tr><tr><th width=\"20\">2</th><td>[삼성전자]사업보고서_IFRS(원문XBRL)(2022.03.08).zip</td></tr></tbody></table></td></tr><tr><th>pages</th><td><table style=\"width:100%\"><thead><tr><th width=\"20\">No.</th><th>title</th><th>ele_id</th></tr></thead><tbody><tr><th width=\"20\">0</th><td>사 업 보 고 서</td><td>1</td></tr><tr><th width=\"20\">1</th><td>【 대표이사 등의 확인 】</td><td>2</td></tr><tr><th width=\"20\">2</th><td>I. 회사의 개요</td><td>3</td></tr><tr><th width=\"20\">3</th><td>1. 회사의 개요</td><td>4</td></tr><tr><th width=\"20\">4</th><td>2. 회사의 연혁</td><td>5</td></tr><tr><th width=\"20\">5</th><td>3. 자본금 변동사항</td><td>6</td></tr><tr><th width=\"20\">6</th><td>4. 주식의 총수 등</td><td>7</td></tr><tr><th width=\"20\">7</th><td>5. 정관에 관한 사항</td><td>8</td></tr><tr><th width=\"20\">8</th><td>II. 사업의 내용</td><td>9</td></tr><tr><th width=\"20\">9</th><td>1. 사업의 개요</td><td>10</td></tr><tr><th width=\"20\">10</th><td>2. 주요 제품 및 서비스</td><td>11</td></tr><tr><th width=\"20\">11</th><td>3. 원재료 및 생산설비</td><td>12</td></tr><tr><th width=\"20\">12</th><td>4. 매출 및 수주상황</td><td>13</td></tr><tr><th width=\"20\">13</th><td>5. 위험관리 및 파생거래</td><td>14</td></tr><tr><th width=\"20\">14</th><td>6. 주요계약 및 연구개발활동</td><td>15</td></tr><tr><th width=\"20\">15</th><td>7. 기타 참고사항</td><td>16</td></tr><tr><th width=\"20\">16</th><td>III. 재무에 관한 사항</td><td>17</td></tr><tr><th width=\"20\">17</th><td>1. 요약재무정보</td><td>18</td></tr><tr><th width=\"20\">18</th><td>2. 연결재무제표</td><td>19</td></tr><tr><th width=\"20\">19</th><td>3. 연결재무제표 주석</td><td>20</td></tr><tr><th width=\"20\">20</th><td>4. 재무제표</td><td>21</td></tr><tr><th width=\"20\">21</th><td>5. 재무제표 주석</td><td>22</td></tr><tr><th width=\"20\">22</th><td>6. 배당에 관한 사항</td><td>23</td></tr><tr><th width=\"20\">23</th><td>7. 증권의 발행을 통한 자금조달에 관한 사항</td><td>24</td></tr><tr><th width=\"20\">24</th><td>8. 기타 재무에 관한 사항</td><td>27</td></tr><tr><th width=\"20\">25</th><td>IV. 이사의 경영진단 및 분석의견</td><td>28</td></tr><tr><th width=\"20\">26</th><td>V. 회계감사인의 감사의견 등</td><td>29</td></tr><tr><th width=\"20\">27</th><td>1. 외부감사에 관한 사항</td><td>30</td></tr><tr><th width=\"20\">28</th><td>2. 내부통제에 관한 사항</td><td>31</td></tr><tr><th width=\"20\">29</th><td>VI. 이사회 등 회사의 기관에 관한 사항</td><td>32</td></tr><tr><th width=\"20\">30</th><td>1. 이사회에 관한 사항</td><td>33</td></tr><tr><th width=\"20\">31</th><td>2. 감사제도에 관한 사항</td><td>34</td></tr><tr><th width=\"20\">32</th><td>3. 주주총회 등에 관한 사항</td><td>35</td></tr><tr><th width=\"20\">33</th><td>VII. 주주에 관한 사항</td><td>36</td></tr><tr><th width=\"20\">34</th><td>VIII. 임원 및 직원 등에 관한 사항</td><td>37</td></tr><tr><th width=\"20\">35</th><td>1. 임원 및 직원 등의 현황</td><td>38</td></tr><tr><th width=\"20\">36</th><td>2. 임원의 보수 등</td><td>39</td></tr><tr><th width=\"20\">37</th><td>IX. 계열회사 등에 관한 사항</td><td>40</td></tr><tr><th width=\"20\">38</th><td>X. 대주주 등과의 거래내용</td><td>41</td></tr><tr><th width=\"20\">39</th><td>XI. 그 밖에 투자자 보호를 위하여 필요한 사항</td><td>42</td></tr><tr><th width=\"20\">40</th><td>1. 공시내용 진행 및 변경사항</td><td>43</td></tr><tr><th width=\"20\">41</th><td>2. 우발부채 등에 관한 사항</td><td>44</td></tr><tr><th width=\"20\">42</th><td>3. 제재 등과 관련된 사항</td><td>45</td></tr><tr><th width=\"20\">43</th><td>4. 작성기준일 이후 발생한 주요사항 등 기타사항</td><td>46</td></tr><tr><th width=\"20\">44</th><td>XII. 상세표</td><td>47</td></tr><tr><th width=\"20\">45</th><td>1. 연결대상 종속회사 현황(상세)</td><td>48</td></tr><tr><th width=\"20\">46</th><td>2. 계열회사 현황(상세)</td><td>49</td></tr><tr><th width=\"20\">47</th><td>3. 타법인출자 현황(상세)</td><td>50</td></tr><tr><th width=\"20\">48</th><td>4. 연구개발실적(상세)</td><td>51</td></tr><tr><th width=\"20\">49</th><td>【 전문가의 확인 】</td><td>52</td></tr><tr><th width=\"20\">50</th><td>1. 전문가의 확인</td><td>53</td></tr><tr><th width=\"20\">51</th><td>2. 전문가와의 이해관계</td><td>54</td></tr></tbody></table></td></tr></tbody></table>"
      ],
      "text/plain": [
       "{'corp_cls': 'Y',\n",
       " 'corp_code': '00126380',\n",
       " 'corp_name': '삼성전자',\n",
       " 'flr_nm': '삼성전자',\n",
       " 'rcept_dt': '20220308',\n",
       " 'rcp_no': '20220308000798',\n",
       " 'report_nm': '사업보고서 (2021.12)',\n",
       " 'rm': '연',\n",
       " 'stock_code': '005930'}"
      ]
     },
     "execution_count": 10,
     "metadata": {},
     "output_type": "execute_result"
    }
   ],
   "source": [
    "import dart_fss as dart\n",
    "\n",
    "# 삼성전자 code\n",
    "corp_code = '00126380'\n",
    "\n",
    "reports = dart.filings.search(corp_code=corp_code, bgn_de='20210101', pblntf_detail_ty='a001')\n",
    "\n",
    "# 가장 최신 보고서 선택\n",
    "newest_report = reports[0]\n",
    "\n",
    "newest_report\n",
    "\n",
    "# 참고\n",
    "# 0-4번 보고서 선택\n",
    "# zero_to_fourth_report = reports[0:5]\n",
    "\n",
    "# 가장 오래된 보고서 선택\n",
    "# oldest_report = reports[-1]"
   ]
  }
 ],
 "metadata": {
  "kernelspec": {
   "display_name": "Python 3 (ipykernel)",
   "language": "python",
   "name": "python3"
  },
  "language_info": {
   "codemirror_mode": {
    "name": "ipython",
    "version": 3
   },
   "file_extension": ".py",
   "mimetype": "text/x-python",
   "name": "python",
   "nbconvert_exporter": "python",
   "pygments_lexer": "ipython3",
   "version": "3.9.7"
  }
 },
 "nbformat": 4,
 "nbformat_minor": 5
}
