{
 "cells": [
  {
   "cell_type": "code",
   "execution_count": 2,
   "id": "290cc449",
   "metadata": {},
   "outputs": [],
   "source": [
    "# step1.라이브러리 불러오기\n",
    "import requests\n",
    "from bs4 import BeautifulSoup as bs\n",
    "import time\n",
    "import pandas as pd\n",
    "\n",
    "# step2.제품명과 제품가격정보를 담을 빈 리스트 선언\n",
    "product_name = []\n",
    "product_price = []\n",
    "\n",
    "# step3.for문을 이용해서 원하는 페이지에 접근, 정보 추출 후 리스트에 담기\n",
    "for page_num in range(3):\n",
    "    # range를 이용하면 0부터 인덱스가 시작되므로 page_num에 1을 더해준 url을 이용\n",
    "    url = f'https://smartstore.naver.com/compuzone/category/ALL?st=RECENT&free=false&dt=IMAGE&page={page_num+1}&size=40'\n",
    "    \n",
    "    # html 정보 받아와서 파싱\n",
    "    response = requests.get(url)\n",
    "    soup = bs(response.text , 'html.parser')\n",
    "\n",
    "    # css selector로 페이지 내의 원하는 정보 가져오기\n",
    "    html_product = soup.select('strong.QNNliuiAk3')\n",
    "    html_price = soup.select('span.nIAdxeTzhx')\n",
    "\n",
    "    # 텍스트만 추출\n",
    "    for i in html_product:\n",
    "        product_name.append(i.get_text())\n",
    "        \n",
    "    for i in html_price:\n",
    "        product_price.append(i.get_text())\n",
    "\n",
    "# step4.zip 모듈을 이용해서 list를 묶어주기        \n",
    "list_sum = list(zip(product_name, product_price))\n",
    "\n",
    "\n",
    "# step5.데이터프레임의 첫행에 들어갈 컬럼명\n",
    "col = ['제품명','가격']\n",
    "\n",
    "# step6.pandas 데이터 프레임 형태로 가공\n",
    "df = pd.DataFrame(list_sum, columns=col)\n",
    "\n",
    "# step7.엑셀에 저장\n",
    "df.to_excel('컴퓨존 제품 목록.xlsx')"
   ]
  }
 ],
 "metadata": {
  "kernelspec": {
   "display_name": "Python 3 (ipykernel)",
   "language": "python",
   "name": "python3"
  },
  "language_info": {
   "codemirror_mode": {
    "name": "ipython",
    "version": 3
   },
   "file_extension": ".py",
   "mimetype": "text/x-python",
   "name": "python",
   "nbconvert_exporter": "python",
   "pygments_lexer": "ipython3",
   "version": "3.9.7"
  }
 },
 "nbformat": 4,
 "nbformat_minor": 5
}
